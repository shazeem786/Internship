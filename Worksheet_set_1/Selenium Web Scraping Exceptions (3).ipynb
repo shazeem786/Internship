{
 "cells": [
  {
   "cell_type": "markdown",
   "id": "5c635bcd",
   "metadata": {},
   "source": [
    "1: Write a python program which searches all the product under a particular product from www.amazon.in.\n",
    "The product to be searched will be taken as input from user. For e.g. If user input is ‘guitar’. Then search\n",
    "for guitars"
   ]
  },
  {
   "cell_type": "code",
   "execution_count": 283,
   "id": "cec57cab",
   "metadata": {},
   "outputs": [],
   "source": [
    "#import all the important libraries\n",
    "import selenium\n",
    "from selenium import webdriver\n",
    "driver=webdriver.Chrome(\"chromedriver.exe\") \n",
    "from selenium.webdriver.common.keys import Keys\n",
    "import time\n",
    "import requests\n",
    "from selenium.common.exceptions import NoSuchElementException\n",
    "import warnings\n",
    "warnings.filterwarnings(\"ignore\")"
   ]
  },
  {
   "cell_type": "code",
   "execution_count": 284,
   "id": "1d5ed7d5",
   "metadata": {},
   "outputs": [],
   "source": [
    "url='https://www.amazon.in/'\n",
    "driver.get(url)"
   ]
  },
  {
   "cell_type": "code",
   "execution_count": 285,
   "id": "ecdac852",
   "metadata": {},
   "outputs": [],
   "source": [
    "search_box= driver.find_element_by_xpath('/html/body/div[1]/header/div/div[1]/div[2]/div/form/div[2]/div[1]/input')\n",
    "search_box.send_keys(\"guitar\")"
   ]
  },
  {
   "cell_type": "code",
   "execution_count": 286,
   "id": "d04fd0e3",
   "metadata": {},
   "outputs": [],
   "source": [
    "search_btn= driver.find_element_by_xpath('/html/body/div[1]/header/div/div[1]/div[2]/div/form/div[3]/div/span/input')\n",
    "search_btn.click()"
   ]
  },
  {
   "cell_type": "code",
   "execution_count": 287,
   "id": "ccbeaea5",
   "metadata": {},
   "outputs": [],
   "source": [
    "URL = []\n",
    "for r in range(3):\n",
    "    urls=driver.find_elements_by_xpath('//a[@class=\"a-link-normal s-underline-text s-underline-link-text s-link-style a-text-normal\"]')#tyle a-text-normalcollecting urls of all the laptop\n",
    "    for i in urls:\n",
    "        URL.append(i.get_attribute('href'))\n",
    "    \n",
    "    #click next page\n",
    "    driver.find_element_by_xpath('//span[@class=\"s-pagination-strip\"]//a[@class=\"s-pagination-item s-pagination-next s-pagination-button s-pagination-separator\"]').click()\n",
    "    time.sleep(3)"
   ]
  },
  {
   "cell_type": "code",
   "execution_count": 288,
   "id": "677a3d00",
   "metadata": {},
   "outputs": [
    {
     "data": {
      "text/plain": [
       "['https://www.amazon.in/gp/slredirect/picassoRedirect.html/ref=pa_sp_atf_aps_sr_pg1_1?ie=UTF8&adId=A061107531TUGN5RHMV0N&url=%2FKadence-Frontier-Acoustic-Guitar-Strings%2Fdp%2FB01GDZ46AA%2Fref%3Dsr_1_1_sspa%3Fcrid%3D2IWOBNJ0A4QXD%26keywords%3Dguitar%26qid%3D1649160230%26smid%3DAM04Z7MH4HSDD%26sprefix%3Dguitar%252Caps%252C1002%26sr%3D8-1-spons%26psc%3D1&qualifier=1649160230&id=5012429980203617&widgetName=sp_atf',\n",
       " 'https://www.amazon.in/gp/slredirect/picassoRedirect.html/ref=pa_sp_atf_aps_sr_pg1_1?ie=UTF8&adId=A0046612372SWJAK5T57D&url=%2FKadence-Frontier-Acoustic-Equalizer-Strings%2Fdp%2FB01HRIHH9E%2Fref%3Dsr_1_2_sspa%3Fcrid%3D2IWOBNJ0A4QXD%26keywords%3Dguitar%26qid%3D1649160230%26sprefix%3Dguitar%252Caps%252C1002%26sr%3D8-2-spons%26psc%3D1&qualifier=1649160230&id=5012429980203617&widgetName=sp_atf',\n",
       " 'https://www.amazon.in/gp/slredirect/picassoRedirect.html/ref=pa_sp_atf_aps_sr_pg1_1?ie=UTF8&adId=A04289512UWS388AD5H8S&url=%2FFestra-Acoustic-Guitar-Strap-Strings%2Fdp%2FB09JTR6N53%2Fref%3Dsr_1_3_sspa%3Fcrid%3D2IWOBNJ0A4QXD%26keywords%3Dguitar%26qid%3D1649160230%26sprefix%3Dguitar%252Caps%252C1002%26sr%3D8-3-spons%26psc%3D1%26smid%3DA3HCWE0HCT5KDF&qualifier=1649160230&id=5012429980203617&widgetName=sp_atf',\n",
       " 'https://www.amazon.in/gp/slredirect/picassoRedirect.html/ref=pa_sp_atf_aps_sr_pg1_1?ie=UTF8&adId=A0745490374VP9DX2TU09&url=%2FTraveller-Acoustic-Guitar-Strings-Polishing%2Fdp%2FB07RK9962M%2Fref%3Dsr_1_4_sspa%3Fcrid%3D2IWOBNJ0A4QXD%26keywords%3Dguitar%26qid%3D1649160230%26sprefix%3Dguitar%252Caps%252C1002%26sr%3D8-4-spons%26psc%3D1&qualifier=1649160230&id=5012429980203617&widgetName=sp_atf',\n",
       " 'https://www.amazon.in/Juarez-Acoustic-Guitar-Cutaway-Strings/dp/B076QHZ4HZ/ref=sr_1_5?crid=2IWOBNJ0A4QXD&keywords=guitar&qid=1649160230&sprefix=guitar%2Caps%2C1002&sr=8-5',\n",
       " 'https://www.amazon.in/Intern-INT-38C-Acoustic-Guitar-Black/dp/B073B6TQQY/ref=sr_1_6?crid=2IWOBNJ0A4QXD&keywords=guitar&qid=1649160230&sprefix=guitar%2Caps%2C1002&sr=8-6',\n",
       " 'https://www.amazon.in/Juarez-Acoustic-Cutaway-038C-Strings/dp/B017NPCSLI/ref=sr_1_7?crid=2IWOBNJ0A4QXD&keywords=guitar&qid=1649160230&sprefix=guitar%2Caps%2C1002&sr=8-7',\n",
       " 'https://www.amazon.in/Epiphone-Acoustic-Guitar-1Vintage-Sunburst/dp/B00TGRT6I0/ref=sxin_14?asc_contentid=amzn1.osa.01db0ba4-42ed-4957-823d-c30692c7e0ee.A21TJRUUN4KGV.en_IN&asc_contenttype=article&ascsubtag=amzn1.osa.01db0ba4-42ed-4957-823d-c30692c7e0ee.A21TJRUUN4KGV.en_IN&creativeASIN=B00TGRT6I0&crid=2IWOBNJ0A4QXD&cv_ct_cx=guitar&cv_ct_id=amzn1.osa.01db0ba4-42ed-4957-823d-c30692c7e0ee.A21TJRUUN4KGV.en_IN&cv_ct_pg=search&cv_ct_we=asin&cv_ct_wn=osp-single-source-earns-comm&keywords=guitar&linkCode=oas&pd_rd_i=B00TGRT6I0&pd_rd_r=0293c4fd-c7d6-4b43-9924-f14c9f9e62a3&pd_rd_w=mfnUr&pd_rd_wg=9VBks&pf_rd_p=0e89a72f-7500-4160-954f-faff18efeda5&pf_rd_r=WF6YG86VGT5AVGBTHJA4&qid=1649160230&sprefix=guitar%2Caps%2C1002&sr=1-1-61f4c597-7a45-4a97-bd75-c52903f8ee93&tag=htsyndicate-21',\n",
       " 'https://www.amazon.in/Kadence-Slowhand-Premium-Acoustic-Instrument/dp/B077SZ667X/ref=sxin_14?asc_contentid=amzn1.osa.01db0ba4-42ed-4957-823d-c30692c7e0ee.A21TJRUUN4KGV.en_IN&asc_contenttype=article&ascsubtag=amzn1.osa.01db0ba4-42ed-4957-823d-c30692c7e0ee.A21TJRUUN4KGV.en_IN&creativeASIN=B077SZ667X&crid=2IWOBNJ0A4QXD&cv_ct_cx=guitar&cv_ct_id=amzn1.osa.01db0ba4-42ed-4957-823d-c30692c7e0ee.A21TJRUUN4KGV.en_IN&cv_ct_pg=search&cv_ct_we=asin&cv_ct_wn=osp-single-source-earns-comm&keywords=guitar&linkCode=oas&pd_rd_i=B077SZ667X&pd_rd_r=0293c4fd-c7d6-4b43-9924-f14c9f9e62a3&pd_rd_w=mfnUr&pd_rd_wg=9VBks&pf_rd_p=0e89a72f-7500-4160-954f-faff18efeda5&pf_rd_r=WF6YG86VGT5AVGBTHJA4&qid=1649160230&smid=AM04Z7MH4HSDD&sprefix=guitar%2Caps%2C1002&sr=1-2-61f4c597-7a45-4a97-bd75-c52903f8ee93&tag=htsyndicate-21',\n",
       " 'https://www.amazon.in/Ibanez-IBA-MD39CNT-Acoustic-Guitar-MD39C-NT/dp/B07G4CCMYL/ref=sxin_14?asc_contentid=amzn1.osa.01db0ba4-42ed-4957-823d-c30692c7e0ee.A21TJRUUN4KGV.en_IN&asc_contenttype=article&ascsubtag=amzn1.osa.01db0ba4-42ed-4957-823d-c30692c7e0ee.A21TJRUUN4KGV.en_IN&creativeASIN=B07G4CCMYL&crid=2IWOBNJ0A4QXD&cv_ct_cx=guitar&cv_ct_id=amzn1.osa.01db0ba4-42ed-4957-823d-c30692c7e0ee.A21TJRUUN4KGV.en_IN&cv_ct_pg=search&cv_ct_we=asin&cv_ct_wn=osp-single-source-earns-comm&keywords=guitar&linkCode=oas&pd_rd_i=B07G4CCMYL&pd_rd_r=0293c4fd-c7d6-4b43-9924-f14c9f9e62a3&pd_rd_w=mfnUr&pd_rd_wg=9VBks&pf_rd_p=0e89a72f-7500-4160-954f-faff18efeda5&pf_rd_r=WF6YG86VGT5AVGBTHJA4&qid=1649160230&sprefix=guitar%2Caps%2C1002&sr=1-3-61f4c597-7a45-4a97-bd75-c52903f8ee93&tag=htsyndicate-21',\n",
       " 'https://www.amazon.in/JUAREZ-Acoustic-Guitar-TBLS-Sunburst/dp/B08FV1B5VC/ref=sxin_14?asc_contentid=amzn1.osa.01db0ba4-42ed-4957-823d-c30692c7e0ee.A21TJRUUN4KGV.en_IN&asc_contenttype=article&ascsubtag=amzn1.osa.01db0ba4-42ed-4957-823d-c30692c7e0ee.A21TJRUUN4KGV.en_IN&creativeASIN=B08FV1B5VC&crid=2IWOBNJ0A4QXD&cv_ct_cx=guitar&cv_ct_id=amzn1.osa.01db0ba4-42ed-4957-823d-c30692c7e0ee.A21TJRUUN4KGV.en_IN&cv_ct_pg=search&cv_ct_we=asin&cv_ct_wn=osp-single-source-earns-comm&keywords=guitar&linkCode=oas&pd_rd_i=B08FV1B5VC&pd_rd_r=0293c4fd-c7d6-4b43-9924-f14c9f9e62a3&pd_rd_w=mfnUr&pd_rd_wg=9VBks&pf_rd_p=0e89a72f-7500-4160-954f-faff18efeda5&pf_rd_r=WF6YG86VGT5AVGBTHJA4&qid=1649160230&sprefix=guitar%2Caps%2C1002&sr=1-4-61f4c597-7a45-4a97-bd75-c52903f8ee93&tag=htsyndicate-21',\n",
       " 'https://www.amazon.in/Photron-Acoustic-Cutaway-PH38C-BK/dp/B076T8V8NB/ref=sr_1_8?crid=2IWOBNJ0A4QXD&keywords=guitar&qid=1649160230&sprefix=guitar%2Caps%2C1002&sr=8-8',\n",
       " 'https://www.amazon.in/Intern-INT-38C-Acoustic-Guitar-Blue/dp/B073B5RZBV/ref=sr_1_9?crid=2IWOBNJ0A4QXD&keywords=guitar&qid=1649160230&sprefix=guitar%2Caps%2C1002&sr=8-9',\n",
       " 'https://www.amazon.in/Medellin-Acoustic-Guitar-Carbon-Learning/dp/B09MSGMQ3Y/ref=sr_1_10?crid=2IWOBNJ0A4QXD&keywords=guitar&qid=1649160230&sprefix=guitar%2Caps%2C1002&sr=8-10',\n",
       " 'https://www.amazon.in/Intern-38-inch-Cutaway-Design-Acoustic/dp/B07X4PN85R/ref=sr_1_11?crid=2IWOBNJ0A4QXD&keywords=guitar&qid=1649160230&sprefix=guitar%2Caps%2C1002&sr=8-11',\n",
       " 'https://www.amazon.in/JUAREZ-JRZ38C-Acoustic-Natural-Strings/dp/B01FYYTDWC/ref=sr_1_12?crid=2IWOBNJ0A4QXD&keywords=guitar&qid=1649160230&sprefix=guitar%2Caps%2C1002&sr=8-12',\n",
       " 'https://www.amazon.in/Intern-INT-38C-Acoustic-Guitar-Sunburst/dp/B073B5MJRM/ref=sr_1_13?crid=2IWOBNJ0A4QXD&keywords=guitar&qid=1649160230&sprefix=guitar%2Caps%2C1002&sr=8-13',\n",
       " 'https://www.amazon.in/Kadence-Frontier-Acoustic-Guitar-Strings/dp/B01GDZ46AA/ref=sr_1_14?crid=2IWOBNJ0A4QXD&keywords=guitar&qid=1649160230&smid=AM04Z7MH4HSDD&sprefix=guitar%2Caps%2C1002&sr=8-14',\n",
       " 'https://www.amazon.in/Kadence-Frontier-Acoustic-Guitar-Strings/dp/B078GTJP5Y/ref=sr_1_15?crid=2IWOBNJ0A4QXD&keywords=guitar&qid=1649160230&smid=AM04Z7MH4HSDD&sprefix=guitar%2Caps%2C1002&sr=8-15',\n",
       " 'https://www.amazon.in/Kadence-Slowhand-Premium-Acoustic-Instrument/dp/B077SZ667X/ref=sr_1_16?crid=2IWOBNJ0A4QXD&keywords=guitar&qid=1649160230&smid=AM04Z7MH4HSDD&sprefix=guitar%2Caps%2C1002&sr=8-16',\n",
       " 'https://www.amazon.in/Intern-INT-38C-Sunburst-Acoustic-Guitar/dp/B07X1J4D3Z/ref=sr_1_17?crid=2IWOBNJ0A4QXD&keywords=guitar&qid=1649160230&sprefix=guitar%2Caps%2C1002&sr=8-17',\n",
       " 'https://www.amazon.in/Intern-INT-38C-BK-G-Guitar-Kit-Black/dp/B07K9497RC/ref=sr_1_18?crid=2IWOBNJ0A4QXD&keywords=guitar&qid=1649160230&sprefix=guitar%2Caps%2C1002&sr=8-18',\n",
       " 'https://www.amazon.in/Rosewood-Fretboard-Acoustic-Strings-K-Retail/dp/B07KLG8C4P/ref=sr_1_19?crid=2IWOBNJ0A4QXD&keywords=guitar&qid=1649160230&sprefix=guitar%2Caps%2C1002&sr=8-19',\n",
       " 'https://www.amazon.in/Henrix-Acoustic-Guitar-Die-cast-Dual-action/dp/B07VHRWV4R/ref=sr_1_20?crid=2IWOBNJ0A4QXD&keywords=guitar&qid=1649160230&sprefix=guitar%2Caps%2C1002&sr=8-20',\n",
       " 'https://www.amazon.in/gp/slredirect/picassoRedirect.html/ref=pa_sp_mtf_aps_sr_pg1_1?ie=UTF8&adId=A042850030V4VIM4NLGYG&url=%2FGibzs-38-C-Acoustic-Guitar-Natural%2Fdp%2FB07M8KBTX8%2Fref%3Dsr_1_21_sspa%3Fcrid%3D2IWOBNJ0A4QXD%26keywords%3Dguitar%26qid%3D1649160230%26sprefix%3Dguitar%252Caps%252C1002%26sr%3D8-21-spons%26psc%3D1&qualifier=1649160230&id=5012429980203617&widgetName=sp_mtf',\n",
       " 'https://www.amazon.in/gp/slredirect/picassoRedirect.html/ref=pa_sp_mtf_aps_sr_pg1_1?ie=UTF8&adId=A08790022Y5TKL7GOFMBU&url=%2FCort-AD810-Dreadnought-Acoustic-Guitar%2Fdp%2FB07KMBVR6V%2Fref%3Dsr_1_22_sspa%3Fcrid%3D2IWOBNJ0A4QXD%26keywords%3Dguitar%26qid%3D1649160230%26sprefix%3Dguitar%252Caps%252C1002%26sr%3D8-22-spons%26psc%3D1&qualifier=1649160230&id=5012429980203617&widgetName=sp_mtf',\n",
       " 'https://www.amazon.in/gp/slredirect/picassoRedirect.html/ref=pa_sp_mtf_aps_sr_pg1_1?ie=UTF8&adId=A0219834WH9EYVVGCBO&url=%2FCREATION-Rosewood-Fretboard-Acoustic-Guitar_Small%2Fdp%2FB09TQWJ7WF%2Fref%3Dsr_1_23_sspa%3Fcrid%3D2IWOBNJ0A4QXD%26keywords%3Dguitar%26qid%3D1649160230%26sprefix%3Dguitar%252Caps%252C1002%26sr%3D8-23-spons%26psc%3D1&qualifier=1649160230&id=5012429980203617&widgetName=sp_mtf',\n",
       " 'https://www.amazon.in/gp/slredirect/picassoRedirect.html/ref=pa_sp_mtf_aps_sr_pg1_1?ie=UTF8&adId=A00501533BU56DPCIQXHA&url=%2FBlueberry-B-D38-Acoustic-inbuilt-Strings%2Fdp%2FB07PCRZ1CD%2Fref%3Dsr_1_24_sspa%3Fcrid%3D2IWOBNJ0A4QXD%26keywords%3Dguitar%26qid%3D1649160230%26sprefix%3Dguitar%252Caps%252C1002%26sr%3D8-24-spons%26psc%3D1%26smid%3DA3HCWE0HCT5KDF&qualifier=1649160230&id=5012429980203617&widgetName=sp_mtf',\n",
       " 'https://www.amazon.in/JRZ-ST01-6-String-Electric-Sunburst-Without/dp/B01FYZSOEE/ref=sr_1_25?crid=2IWOBNJ0A4QXD&keywords=guitar&qid=1649160230&sprefix=guitar%2Caps%2C1002&sr=8-25',\n",
       " 'https://www.amazon.in/Yamaha-FS-100C-6-String-Acoustic-without/dp/B00PAS9CK6/ref=sr_1_26?crid=2IWOBNJ0A4QXD&keywords=guitar&qid=1649160230&sprefix=guitar%2Caps%2C1002&sr=8-26',\n",
       " 'https://www.amazon.in/Kadence-Frontier-Acoustic-Equalizer-Strings/dp/B01HRIHH9E/ref=sr_1_27?crid=2IWOBNJ0A4QXD&keywords=guitar&qid=1649160230&sprefix=guitar%2Caps%2C1002&sr=8-27',\n",
       " 'https://www.amazon.in/Ultimate-Concert-Cutaway-Acoustic-Bajaao/dp/B08WHWKKV5/ref=sr_1_28?crid=2IWOBNJ0A4QXD&keywords=guitar&qid=1649160230&sprefix=guitar%2Caps%2C1002&sr=8-28',\n",
       " 'https://www.amazon.in/Henrix-Cutaway-Acoustic-Die-cast-Dual-action/dp/B07VHSCGCG/ref=sr_1_29?crid=2IWOBNJ0A4QXD&keywords=guitar&qid=1649160230&sprefix=guitar%2Caps%2C1002&sr=8-29',\n",
       " 'https://www.amazon.in/Medellin-Acoustic-Guitar-Carbon-Learning/dp/B09MSGQQWX/ref=sr_1_30?crid=2IWOBNJ0A4QXD&keywords=guitar&qid=1649160230&smid=AM04Z7MH4HSDD&sprefix=guitar%2Caps%2C1002&sr=8-30',\n",
       " 'https://www.amazon.in/Kadence-Acoustica-Ash-Wood-Equlizer/dp/B0757H5P13/ref=sr_1_31?crid=2IWOBNJ0A4QXD&keywords=guitar&qid=1649160230&smid=AM04Z7MH4HSDD&sprefix=guitar%2Caps%2C1002&sr=8-31',\n",
       " 'https://www.amazon.in/Medellin-Acoustic-specailized-learning-beginners/dp/B09MSFP7JK/ref=sr_1_32?crid=2IWOBNJ0A4QXD&keywords=guitar&qid=1649160230&sprefix=guitar%2Caps%2C1002&sr=8-32',\n",
       " 'https://www.amazon.in/Acoustic-F280-Dreadnought-Plectrums-Natural/dp/B092TPXZRN/ref=sr_1_33?crid=2IWOBNJ0A4QXD&keywords=guitar&qid=1649160230&sprefix=guitar%2Caps%2C1002&sr=8-33',\n",
       " 'https://www.amazon.in/Kadence-Frontier-Acoustic-Guitar-Equalizer/dp/B01HRIHJWY/ref=sr_1_34?crid=2IWOBNJ0A4QXD&keywords=guitar&qid=1649160230&sprefix=guitar%2Caps%2C1002&sr=8-34',\n",
       " 'https://www.amazon.in/Kadence-Acoustica-Acoustic-Guitar-Zebra/dp/B07KXNKLJ2/ref=sr_1_35?crid=2IWOBNJ0A4QXD&keywords=guitar&qid=1649160230&sprefix=guitar%2Caps%2C1002&sr=8-35',\n",
       " 'https://www.amazon.in/Yamaha-FSX80C-Acoustic-Cutaway-Guitar/dp/B09HL5WFDX/ref=sr_1_36?crid=2IWOBNJ0A4QXD&keywords=guitar&qid=1649160230&sprefix=guitar%2Caps%2C1002&sr=8-36',\n",
       " 'https://www.amazon.in/Strings-Straps-String-winder-Polishing/dp/B07RV9FJ2Z/ref=sr_1_37?crid=2IWOBNJ0A4QXD&keywords=guitar&qid=1649160230&sprefix=guitar%2Caps%2C1002&sr=8-37',\n",
       " 'https://www.amazon.in/JUAREZ-JRZ38C-Acoustic-Sunburst-Strings/dp/B01FYYTDTU/ref=sr_1_38?crid=2IWOBNJ0A4QXD&keywords=guitar&qid=1649160230&sprefix=guitar%2Caps%2C1002&sr=8-38',\n",
       " 'https://www.amazon.in/JUAREZ-JRZ38C-Acoustic-Sunburst-Strings/dp/B01FYYTDS6/ref=sr_1_39?crid=2IWOBNJ0A4QXD&keywords=guitar&qid=1649160230&sprefix=guitar%2Caps%2C1002&sr=8-39',\n",
       " 'https://www.amazon.in/EA40-CE-Premium-Spruce-Top-Cutaway-Acoustic/dp/B08WHV1NN8/ref=sr_1_40?crid=2IWOBNJ0A4QXD&keywords=guitar&qid=1649160230&sprefix=guitar%2Caps%2C1002&sr=8-40',\n",
       " 'https://www.amazon.in/FX280-acoustic-Dreadnought-Tobacco-Sunburst/dp/B09HR7BXGW/ref=sr_1_41?crid=2IWOBNJ0A4QXD&keywords=guitar&qid=1649160230&sprefix=guitar%2Caps%2C1002&sr=8-41',\n",
       " 'https://www.amazon.in/Fender-0310005506-Stratocaster-6-Strings-Right-Handed/dp/B003AQ6YIS/ref=sr_1_42?crid=2IWOBNJ0A4QXD&keywords=guitar&qid=1649160230&sprefix=guitar%2Caps%2C1002&sr=8-42',\n",
       " 'https://www.amazon.in/Acoustic-Rosewood-Orientation-Antique-Natural/dp/B09W9W17X6/ref=sr_1_43?crid=2IWOBNJ0A4QXD&keywords=guitar&qid=1649160230&sprefix=guitar%2Caps%2C1002&sr=8-43',\n",
       " 'https://www.amazon.in/Soloist-Electric-Guitar-Die-cast-Dual-action/dp/B08F28DBTN/ref=sr_1_44?crid=2IWOBNJ0A4QXD&keywords=guitar&qid=1649160230&sprefix=guitar%2Caps%2C1002&sr=8-44',\n",
       " 'https://www.amazon.in/Kadence-ACOUSTICA-guitar-WALNUT-Acoustic/dp/B08PBKRK6L/ref=sr_1_45?crid=2IWOBNJ0A4QXD&keywords=guitar&qid=1649160230&sprefix=guitar%2Caps%2C1002&sr=8-45',\n",
       " 'https://www.amazon.in/Yamaha-FX280-acoustic-Dreadnought-Natural/dp/B09HR6BNFQ/ref=sr_1_46?crid=2IWOBNJ0A4QXD&keywords=guitar&qid=1649160230&sprefix=guitar%2Caps%2C1002&sr=8-46',\n",
       " 'https://www.amazon.in/FX280-acoustic-Dreadnought-Sunburst-Plectrums/dp/B09SD1N2YH/ref=sr_1_47?crid=2IWOBNJ0A4QXD&keywords=guitar&qid=1649160230&sprefix=guitar%2Caps%2C1002&sr=8-47',\n",
       " 'https://www.amazon.in/Yamaha-FSX80C-Acoustic-Cutaway-Natural/dp/B09HL3GFZF/ref=sr_1_48?crid=2IWOBNJ0A4QXD&keywords=guitar&qid=1649160230&sprefix=guitar%2Caps%2C1002&sr=8-48',\n",
       " 'https://www.amazon.in/Kadence-Frontier-Acoustic-Guitar-Strings/dp/B07T48VTZ1/ref=sr_1_49?crid=2IWOBNJ0A4QXD&keywords=guitar&qid=1649160230&sprefix=guitar%2Caps%2C1002&sr=8-49',\n",
       " 'https://www.amazon.in/JUAREZ-JRZ38CTR-BK-Acoustic-Guitar/dp/B08FTZK7H8/ref=sr_1_50?crid=2IWOBNJ0A4QXD&keywords=guitar&qid=1649160230&sprefix=guitar%2Caps%2C1002&sr=8-50',\n",
       " 'https://www.amazon.in/Fender-961702021-Dreadnought-Acoustic-Multicolor/dp/B01N4RWSX1/ref=sr_1_51?crid=2IWOBNJ0A4QXD&keywords=guitar&qid=1649160230&sprefix=guitar%2Caps%2C1002&sr=8-51',\n",
       " 'https://www.amazon.in/Intern-INT-38C-Acoustic-Guitar-Kit/dp/B073B6TF31/ref=sr_1_52?crid=2IWOBNJ0A4QXD&keywords=guitar&qid=1649160230&sprefix=guitar%2Caps%2C1002&sr=8-52',\n",
       " 'https://www.amazon.in/Yamaha-FS100C-Acoustic-Guitars-Natural/dp/B00QKD79QE/ref=sr_1_53?crid=2IWOBNJ0A4QXD&keywords=guitar&qid=1649160230&sprefix=guitar%2Caps%2C1002&sr=8-53',\n",
       " 'https://www.amazon.in/Yamaha-FS100C-Acoustic-Guitar-Natural/dp/B08Z3DVN8N/ref=sr_1_54?crid=2IWOBNJ0A4QXD&keywords=guitar&qid=1649160230&sprefix=guitar%2Caps%2C1002&sr=8-54',\n",
       " 'https://www.amazon.in/Electric-Acoustic-FX280-Dreadnought-Plectrums-Natural/dp/B09HSDVQDT/ref=sr_1_55?crid=2IWOBNJ0A4QXD&keywords=guitar&qid=1649160230&sprefix=guitar%2Caps%2C1002&sr=8-55',\n",
       " 'https://www.amazon.in/Yamaha-TRBX174-4-String-Electric-Guitar/dp/B00GOE82N8/ref=sr_1_56?crid=2IWOBNJ0A4QXD&keywords=guitar&qid=1649160230&sprefix=guitar%2Caps%2C1002&sr=8-56',\n",
       " 'https://www.amazon.in/gp/slredirect/picassoRedirect.html/ref=pa_sp_btf_aps_sr_pg1_1?ie=UTF8&adId=A02055132SF64AM9MYQQ8&url=%2FKadence-6-strings-Acoustic-Guitar-Natural%2Fdp%2FB07JKYWGJN%2Fref%3Dsr_1_57_sspa%3Fcrid%3D2IWOBNJ0A4QXD%26keywords%3Dguitar%26qid%3D1649160230%26sprefix%3Dguitar%252Caps%252C1002%26sr%3D8-57-spons%26psc%3D1&qualifier=1649160230&id=5012429980203617&widgetName=sp_btf',\n",
       " 'https://www.amazon.in/gp/slredirect/picassoRedirect.html/ref=pa_sp_btf_aps_sr_pg1_1?ie=UTF8&adId=A00511333B6LTZW3VVAX9&url=%2FBlueberry-Trussrod-Acoustic-Guitar-Sunburst%2Fdp%2FB08WH5553T%2Fref%3Dsr_1_58_sspa%3Fcrid%3D2IWOBNJ0A4QXD%26keywords%3Dguitar%26qid%3D1649160230%26sprefix%3Dguitar%252Caps%252C1002%26sr%3D8-58-spons%26psc%3D1&qualifier=1649160230&id=5012429980203617&widgetName=sp_btf',\n",
       " 'https://www.amazon.in/gp/slredirect/picassoRedirect.html/ref=pa_sp_btf_aps_sr_pg1_1?ie=UTF8&adId=A00510453201C43891NF7&url=%2FBlueberry-Acoustic-Guitar-Strings-Picks%2Fdp%2FB08L7NQB57%2Fref%3Dsr_1_59_sspa%3Fcrid%3D2IWOBNJ0A4QXD%26keywords%3Dguitar%26qid%3D1649160230%26sprefix%3Dguitar%252Caps%252C1002%26sr%3D8-59-spons%26psc%3D1&qualifier=1649160230&id=5012429980203617&widgetName=sp_btf',\n",
       " 'https://www.amazon.in/gp/slredirect/picassoRedirect.html/ref=pa_sp_btf_aps_sr_pg1_1?ie=UTF8&adId=A00519371WB8Y9V4VAJVI&url=%2FBlueberry-R-34-Acoustic-Inbuilt-Strings%2Fdp%2FB09WLP31PT%2Fref%3Dsr_1_60_sspa%3Fcrid%3D2IWOBNJ0A4QXD%26keywords%3Dguitar%26qid%3D1649160230%26sprefix%3Dguitar%252Caps%252C1002%26sr%3D8-60-spons%26psc%3D1&qualifier=1649160230&id=5012429980203617&widgetName=sp_btf',\n",
       " 'https://www.amazon.in/gp/slredirect/picassoRedirect.html/ref=pa_sp_atf_next_aps_sr_pg2_1?ie=UTF8&adId=A06782352ZD76UYOKJITE&url=%2FVault-Cutaway-acoustic-Guitar-Natural%2Fdp%2FB08WHGGSH9%2Fref%3Dsr_1_49_sspa%3Fcrid%3D2IWOBNJ0A4QXD%26keywords%3Dguitar%26qid%3D1649160247%26sprefix%3Dguitar%252Caps%252C1002%26sr%3D8-49-spons%26psc%3D1&qualifier=1649160247&id=7592872892217031&widgetName=sp_atf_next',\n",
       " 'https://www.amazon.in/gp/slredirect/picassoRedirect.html/ref=pa_sp_atf_next_aps_sr_pg2_1?ie=UTF8&adId=A038972414XQ4MRS3CVUL&url=%2FFestra-38C-Acoustic-Strings-Blueburst%2Fdp%2FB09VL14XG2%2Fref%3Dsr_1_50_sspa%3Fcrid%3D2IWOBNJ0A4QXD%26keywords%3Dguitar%26qid%3D1649160247%26sprefix%3Dguitar%252Caps%252C1002%26sr%3D8-50-spons%26psc%3D1&qualifier=1649160247&id=7592872892217031&widgetName=sp_atf_next',\n",
       " 'https://www.amazon.in/gp/slredirect/picassoRedirect.html/ref=pa_sp_atf_next_aps_sr_pg2_1?ie=UTF8&adId=A0389380H26H9F7XZW0U&url=%2FR-34-Acoustic-Inbuilt-Strings-Natural%2Fdp%2FB09WLS95DR%2Fref%3Dsr_1_51_sspa%3Fcrid%3D2IWOBNJ0A4QXD%26keywords%3Dguitar%26qid%3D1649160247%26sprefix%3Dguitar%252Caps%252C1002%26sr%3D8-51-spons%26psc%3D1&qualifier=1649160247&id=7592872892217031&widgetName=sp_atf_next',\n",
       " 'https://www.amazon.in/gp/slredirect/picassoRedirect.html/ref=pa_sp_atf_next_aps_sr_pg2_1?ie=UTF8&adId=A05692661O08N0QBDX429&url=%2FGUITAR-BRO-Acoustic-Beginner-Accessories%2Fdp%2FB07TC7TWCR%2Fref%3Dsr_1_52_sspa%3Fcrid%3D2IWOBNJ0A4QXD%26keywords%3Dguitar%26qid%3D1649160247%26sprefix%3Dguitar%252Caps%252C1002%26sr%3D8-52-spons%26psc%3D1&qualifier=1649160247&id=7592872892217031&widgetName=sp_atf_next',\n",
       " 'https://www.amazon.in/Fender-String-Cutaway-Acoustic-Guitar/dp/B07YX5W8MV/ref=sr_1_53?crid=2IWOBNJ0A4QXD&keywords=guitar&qid=1649160247&sprefix=guitar%2Caps%2C1002&sr=8-53',\n",
       " 'https://www.amazon.in/Kadence-Frontier-Acoustic-Natural-Equalizer/dp/B01I50UJG6/ref=sr_1_54?crid=2IWOBNJ0A4QXD&keywords=guitar&qid=1649160247&sprefix=guitar%2Caps%2C1002&sr=8-54',\n",
       " 'https://www.amazon.in/Intern-INT-38C-RD-G-Guitar-Kit-Red/dp/B07K959RKX/ref=sr_1_55?crid=2IWOBNJ0A4QXD&keywords=guitar&qid=1649160247&sprefix=guitar%2Caps%2C1002&sr=8-55',\n",
       " 'https://www.amazon.in/Yamaha-PAC012-Electric-Guitar-Metallic/dp/B000MLY7XS/ref=sr_1_56?crid=2IWOBNJ0A4QXD&keywords=guitar&qid=1649160247&sprefix=guitar%2Caps%2C1002&sr=8-56',\n",
       " 'https://www.amazon.in/Ketostics%C2%AE-Givson-Special-Acoustic-Plectrums/dp/B09P51C43J/ref=sr_1_57?crid=2IWOBNJ0A4QXD&keywords=guitar&qid=1649160247&sprefix=guitar%2Caps%2C1002&sr=8-57',\n",
       " 'https://www.amazon.in/Vault-Artisan-Premium-Acoustic-Guitar/dp/B09P179GCM/ref=sr_1_58?crid=2IWOBNJ0A4QXD&keywords=guitar&qid=1649160247&sprefix=guitar%2Caps%2C1002&sr=8-58',\n",
       " 'https://www.amazon.in/HL1-Headless-Electric-Guitar-GigBag/dp/B09Q32YH9T/ref=sr_1_49?crid=2IWOBNJ0A4QXD&keywords=guitar&qid=1649160247&sprefix=guitar%2Caps%2C1002&sr=8-49',\n",
       " 'https://www.amazon.in/Fender-Squier-Stratocaster-Electric-Guitar/dp/B07T2R7PGY/ref=sr_1_50?crid=2IWOBNJ0A4QXD&keywords=guitar&qid=1649160247&sprefix=guitar%2Caps%2C1002&sr=8-50',\n",
       " 'https://www.amazon.in/Sterling-MusicMan-Solid-Body-Electric-SR30-SBK-R1/dp/B07NQ5J8NY/ref=sr_1_51?crid=2IWOBNJ0A4QXD&keywords=guitar&qid=1649160247&sprefix=guitar%2Caps%2C1002&sr=8-51',\n",
       " 'https://www.amazon.in/Ibanez-GSR180-Strings-Electric-Sunburst/dp/B000RW5PXI/ref=sr_1_52?crid=2IWOBNJ0A4QXD&keywords=guitar&qid=1649160247&sprefix=guitar%2Caps%2C1002&sr=8-52',\n",
       " 'https://www.amazon.in/Performer-Mahogany-Premium-Electro-Acoustic/dp/B09P1CNHML/ref=sr_1_53?crid=2IWOBNJ0A4QXD&keywords=guitar&qid=1649160247&sprefix=guitar%2Caps%2C1002&sr=8-53',\n",
       " 'https://www.amazon.in/Kadence-Chronicle-Electric-Natural-Control/dp/B071YF4P7D/ref=sr_1_54?crid=2IWOBNJ0A4QXD&keywords=guitar&qid=1649160247&sprefix=guitar%2Caps%2C1002&sr=8-54',\n",
       " 'https://www.amazon.in/Fender-091170170-Acoustic-Guitar/dp/B08PMT53X7/ref=sr_1_55?crid=2IWOBNJ0A4QXD&keywords=guitar&qid=1649160247&sprefix=guitar%2Caps%2C1002&sr=8-55',\n",
       " 'https://www.amazon.in/Yamaha-F310-Acoustic-Guitar-Natural/dp/B08Z3C1GRM/ref=sr_1_56?crid=2IWOBNJ0A4QXD&keywords=guitar&qid=1649160247&sprefix=guitar%2Caps%2C1002&sr=8-56',\n",
       " 'https://www.amazon.in/Yamaha-Classical-Guitar-C40-02/dp/B003UGCUFE/ref=sr_1_57?crid=2IWOBNJ0A4QXD&keywords=guitar&qid=1649160247&sprefix=guitar%2Caps%2C1002&sr=8-57',\n",
       " 'https://www.amazon.in/Medellin-Acoustic-specailized-learning-beginners/dp/B09MSGN39M/ref=sr_1_58?crid=2IWOBNJ0A4QXD&keywords=guitar&qid=1649160247&sprefix=guitar%2Caps%2C1002&sr=8-58',\n",
       " 'https://www.amazon.in/gp/slredirect/picassoRedirect.html/ref=pa_sp_mtf_aps_sr_pg2_1?ie=UTF8&adId=A06233216DI6EST708AM&url=%2FVD-ENTERPRISE-Adjustable-Classical-Instrument%2Fdp%2FB08S323L6W%2Fref%3Dsr_1_59_sspa%3Fcrid%3D2IWOBNJ0A4QXD%26keywords%3Dguitar%26qid%3D1649160247%26sprefix%3Dguitar%252Caps%252C1002%26sr%3D8-59-spons%26psc%3D1&qualifier=1649160247&id=7592872892217031&widgetName=sp_mtf',\n",
       " 'https://www.amazon.in/gp/slredirect/picassoRedirect.html/ref=pa_sp_mtf_aps_sr_pg2_1?ie=UTF8&adId=A005060933N72QM4D65QO&url=%2FBlueberry-Acoustic-Guitar-Inbuilt-Strings%2Fdp%2FB07PHZ16BG%2Fref%3Dsr_1_60_sspa%3Fcrid%3D2IWOBNJ0A4QXD%26keywords%3Dguitar%26qid%3D1649160247%26sprefix%3Dguitar%252Caps%252C1002%26sr%3D8-60-spons%26psc%3D1&qualifier=1649160247&id=7592872892217031&widgetName=sp_mtf',\n",
       " 'https://www.amazon.in/gp/slredirect/picassoRedirect.html/ref=pa_sp_mtf_aps_sr_pg2_1?ie=UTF8&adId=A00514692TXMJRBSQHC6F&url=%2FBlueberry-Acoustic-Guitar-Strings-Redburst%2Fdp%2FB09N9R525J%2Fref%3Dsr_1_61_sspa%3Fcrid%3D2IWOBNJ0A4QXD%26keywords%3Dguitar%26qid%3D1649160247%26sprefix%3Dguitar%252Caps%252C1002%26sr%3D8-61-spons%26psc%3D1&qualifier=1649160247&id=7592872892217031&widgetName=sp_mtf',\n",
       " 'https://www.amazon.in/gp/slredirect/picassoRedirect.html/ref=pa_sp_mtf_aps_sr_pg2_1?ie=UTF8&adId=A0051781CZ5EMAAQHR9T&url=%2FBlueberry-Trussrod-Acoustic-Strings-Natural%2Fdp%2FB09WLNQFC9%2Fref%3Dsr_1_62_sspa%3Fcrid%3D2IWOBNJ0A4QXD%26keywords%3Dguitar%26qid%3D1649160247%26sprefix%3Dguitar%252Caps%252C1002%26sr%3D8-62-spons%26psc%3D1&qualifier=1649160247&id=7592872892217031&widgetName=sp_mtf',\n",
       " 'https://www.amazon.in/Yamaha-Acoustic-Guitar-Dreadnought-Plectrums/dp/B094H8NGBM/ref=sr_1_63?crid=2IWOBNJ0A4QXD&keywords=guitar&qid=1649160247&sprefix=guitar%2Caps%2C1002&sr=8-63',\n",
       " 'https://www.amazon.in/Ibanez-Acoustic-Guitar-Handed-Cutaway/dp/B08FMW6WJM/ref=sr_1_64?crid=2IWOBNJ0A4QXD&keywords=guitar&qid=1649160247&sprefix=guitar%2Caps%2C1002&sr=8-64',\n",
       " 'https://www.amazon.in/Medellin-Acoustic-Guitar-Carbon-Learning/dp/B09MSGVCDV/ref=sr_1_65?crid=2IWOBNJ0A4QXD&keywords=guitar&qid=1649160247&sprefix=guitar%2Caps%2C1002&sr=8-65',\n",
       " 'https://www.amazon.in/Intern-INT-38C-Acoustic-Guitar-Natural/dp/B073B4D22T/ref=sr_1_66?crid=2IWOBNJ0A4QXD&keywords=guitar&qid=1649160247&sprefix=guitar%2Caps%2C1002&sr=8-66',\n",
       " 'https://www.amazon.in/Yamaha-F310-TBS-Acoustic-Sunburst-6-Strings/dp/B01LXMFUSM/ref=sr_1_67?crid=2IWOBNJ0A4QXD&keywords=guitar&qid=1649160247&sprefix=guitar%2Caps%2C1002&sr=8-67',\n",
       " 'https://www.amazon.in/Cort-AD810-Dreadnought-Acoustic-Guitar/dp/B07KMBVR6V/ref=sr_1_68?crid=2IWOBNJ0A4QXD&keywords=guitar&qid=1649160247&sprefix=guitar%2Caps%2C1002&sr=8-68',\n",
       " 'https://www.amazon.in/Cort-SFX-MEM-Electro-Acoustic-Guitar/dp/B0915ZCZWK/ref=sr_1_69?crid=2IWOBNJ0A4QXD&keywords=guitar&qid=1649160247&sprefix=guitar%2Caps%2C1002&sr=8-69',\n",
       " 'https://www.amazon.in/Kadence-6-strings-Acoustic-Guitar-Natural/dp/B07JKYWGJN/ref=sr_1_70?crid=2IWOBNJ0A4QXD&keywords=guitar&qid=1649160247&sprefix=guitar%2Caps%2C1002&sr=8-70',\n",
       " 'https://www.amazon.in/Traveller-Acoustic-Guitar-Strings-Polishing/dp/B07RK9962M/ref=sr_1_71?crid=2IWOBNJ0A4QXD&keywords=guitar&qid=1649160247&sprefix=guitar%2Caps%2C1002&sr=8-71',\n",
       " 'https://www.amazon.in/Fender-FA135CE-Electric-Acoustic-Plectrums/dp/B09NHP7FPF/ref=sr_1_72?crid=2IWOBNJ0A4QXD&keywords=guitar&qid=1649160247&sprefix=guitar%2Caps%2C1002&sr=8-72',\n",
       " 'https://www.amazon.in/PRS-Guitars-Acoustic-AXM20EGB-NA/dp/B09K5NMD7V/ref=sr_1_73?crid=2IWOBNJ0A4QXD&keywords=guitar&qid=1649160247&sprefix=guitar%2Caps%2C1002&sr=8-73',\n",
       " 'https://www.amazon.in/Epiphone-AJ-220S-Acoustic-Vintage-Sunburst/dp/B003TZGAHU/ref=sr_1_74?crid=2IWOBNJ0A4QXD&keywords=guitar&qid=1649160247&sprefix=guitar%2Caps%2C1002&sr=8-74',\n",
       " 'https://www.amazon.in/Granada-Acoustic-Dreadnought-PRLD-14C-F-Black/dp/B09JBWZG14/ref=sr_1_75?crid=2IWOBNJ0A4QXD&keywords=guitar&qid=1649160247&sprefix=guitar%2Caps%2C1002&sr=8-75',\n",
       " 'https://www.amazon.in/YAMAHA-WINNING-F280-Acoustic-Natural/dp/B0842J4VYL/ref=sr_1_76?crid=2IWOBNJ0A4QXD&keywords=guitar&qid=1649160247&sprefix=guitar%2Caps%2C1002&sr=8-76',\n",
       " 'https://www.amazon.in/Cort-X100-6-String-Electric-Guitar/dp/B07QKWFTK1/ref=sr_1_77?crid=2IWOBNJ0A4QXD&keywords=guitar&qid=1649160247&sprefix=guitar%2Caps%2C1002&sr=8-77',\n",
       " 'https://www.amazon.in/Epiphone-String-Electric-Passion-Metallic/dp/B0892S4JVX/ref=sr_1_78?crid=2IWOBNJ0A4QXD&keywords=guitar&qid=1649160247&sprefix=guitar%2Caps%2C1002&sr=8-78',\n",
       " 'https://www.amazon.in/Kramer-Baretta-Special-strings-Electric/dp/B005O6590G/ref=sr_1_79?crid=2IWOBNJ0A4QXD&keywords=guitar&qid=1649160247&sprefix=guitar%2Caps%2C1002&sr=8-79',\n",
       " 'https://www.amazon.in/Yamaha-F310Cover-Acoustic-Natural-6-Strings/dp/B01LXMGHL5/ref=sr_1_80?crid=2IWOBNJ0A4QXD&keywords=guitar&qid=1649160247&sprefix=guitar%2Caps%2C1002&sr=8-80',\n",
       " 'https://www.amazon.in/Ibanez-GSA60-Electric-Guitar-Black/dp/B0002F4WLG/ref=sr_1_81?crid=2IWOBNJ0A4QXD&keywords=guitar&qid=1649160247&sprefix=guitar%2Caps%2C1002&sr=8-81',\n",
       " 'https://www.amazon.in/Fender-CD-60SCE-Dreadnought-Acoustic-Guitar/dp/B07FYQP9ML/ref=sr_1_82?crid=2IWOBNJ0A4QXD&keywords=guitar&qid=1649160247&sprefix=guitar%2Caps%2C1002&sr=8-82',\n",
       " 'https://www.amazon.in/YAMAHA-NATURAL-CONCERT-CUTAWAY-GUITAR/dp/B08KW4DRKL/ref=sr_1_83?crid=2IWOBNJ0A4QXD&keywords=guitar&qid=1649160247&sprefix=guitar%2Caps%2C1002&sr=8-83',\n",
       " 'https://www.amazon.in/Yamaha-Acoustic-Guitar-Tobacco-Sunburst/dp/B08Z35ZR9Y/ref=sr_1_84?crid=2IWOBNJ0A4QXD&keywords=guitar&qid=1649160247&sprefix=guitar%2Caps%2C1002&sr=8-84',\n",
       " 'https://www.amazon.in/Ortega-electric-acoustic-guitar-string/dp/B095Y5RT17/ref=sr_1_85?crid=2IWOBNJ0A4QXD&keywords=guitar&qid=1649160247&sprefix=guitar%2Caps%2C1002&sr=8-85',\n",
       " 'https://www.amazon.in/Yamaha-6-Strings-Acoustic-YAMAHAF310TBS-Sunburst/dp/B07ZVQ4ZCK/ref=sr_1_86?crid=2IWOBNJ0A4QXD&keywords=guitar&qid=1649160247&sprefix=guitar%2Caps%2C1002&sr=8-86',\n",
       " 'https://www.amazon.in/NEWEN-Telecaster-Electric-Guitar-Argentina/dp/B09B61SKKX/ref=sr_1_87?crid=2IWOBNJ0A4QXD&keywords=guitar&qid=1649160247&sprefix=guitar%2Caps%2C1002&sr=8-87',\n",
       " 'https://www.amazon.in/Kadence-Professional-Guitar-Years-Strings/dp/B07YZK5B2Z/ref=sr_1_88?crid=2IWOBNJ0A4QXD&keywords=guitar&qid=1649160247&sprefix=guitar%2Caps%2C1002&sr=8-88',\n",
       " 'https://www.amazon.in/Fender-Dread-String-Acoustic-Guitar/dp/B07RM21D8X/ref=sr_1_89?crid=2IWOBNJ0A4QXD&keywords=guitar&qid=1649160247&sprefix=guitar%2Caps%2C1002&sr=8-89',\n",
       " 'https://www.amazon.in/Kadence-Electric-Guitar-Rosewood-Fretboard/dp/B07BGW6JVL/ref=sr_1_90?crid=2IWOBNJ0A4QXD&keywords=guitar&qid=1649160247&sprefix=guitar%2Caps%2C1002&sr=8-90',\n",
       " 'https://www.amazon.in/Epiphone-String-Handed-Electric-Metallic/dp/B0881Y6619/ref=sr_1_91?crid=2IWOBNJ0A4QXD&keywords=guitar&qid=1649160247&sprefix=guitar%2Caps%2C1002&sr=8-91',\n",
       " 'https://www.amazon.in/Fender-FA-235E-Concert-Bodied-Acoustic/dp/B07BCQ7P7Z/ref=sr_1_92?crid=2IWOBNJ0A4QXD&keywords=guitar&qid=1649160247&sprefix=guitar%2Caps%2C1002&sr=8-92',\n",
       " 'https://www.amazon.in/Fender-FA-125-Dreadnought-Acoustic-Guitar/dp/B0965DK72K/ref=sr_1_93?crid=2IWOBNJ0A4QXD&keywords=guitar&qid=1649160247&sprefix=guitar%2Caps%2C1002&sr=8-93',\n",
       " 'https://www.amazon.in/PRS-Guitars-Electric-Guitar-Custom/dp/B08T7PYWDV/ref=sr_1_94?crid=2IWOBNJ0A4QXD&keywords=guitar&qid=1649160247&sprefix=guitar%2Caps%2C1002&sr=8-94',\n",
       " 'https://www.amazon.in/gp/slredirect/picassoRedirect.html/ref=pa_sp_btf_aps_sr_pg2_1?ie=UTF8&adId=A00513451NPSOUKP9NKFP&url=%2FBlueberry-Trussrod-Acoustic-Classic-Brown%2Fdp%2FB09VLF7G2D%2Fref%3Dsr_1_95_sspa%3Fcrid%3D2IWOBNJ0A4QXD%26keywords%3Dguitar%26qid%3D1649160247%26sprefix%3Dguitar%252Caps%252C1002%26sr%3D8-95-spons%26psc%3D1&qualifier=1649160247&id=7592872892217031&widgetName=sp_btf',\n",
       " 'https://www.amazon.in/gp/slredirect/picassoRedirect.html/ref=pa_sp_btf_aps_sr_pg2_1?ie=UTF8&adId=A00514452JKYA7IP4JEAA&url=%2FBlueberry-Trussrod-Acoustic-Classic-Maroon%2Fdp%2FB09VLF8B8G%2Fref%3Dsr_1_96_sspa%3Fcrid%3D2IWOBNJ0A4QXD%26keywords%3Dguitar%26qid%3D1649160247%26sprefix%3Dguitar%252Caps%252C1002%26sr%3D8-96-spons%26psc%3D1&qualifier=1649160247&id=7592872892217031&widgetName=sp_btf',\n",
       " 'https://www.amazon.in/gp/slredirect/picassoRedirect.html/ref=pa_sp_btf_aps_sr_pg2_1?ie=UTF8&adId=A0049661OA1A59SHEFCK&url=%2FBlueberry-38C-Acoustic-Strings-Natural%2Fdp%2FB08KLNFL2Y%2Fref%3Dsr_1_97_sspa%3Fcrid%3D2IWOBNJ0A4QXD%26keywords%3Dguitar%26qid%3D1649160247%26sprefix%3Dguitar%252Caps%252C1002%26sr%3D8-97-spons%26psc%3D1&qualifier=1649160247&id=7592872892217031&widgetName=sp_btf',\n",
       " 'https://www.amazon.in/gp/slredirect/picassoRedirect.html/ref=pa_sp_btf_aps_sr_pg2_1?ie=UTF8&adId=A0049561XBD14Z9O6GXG&url=%2FBlueberry-38C-Acoustic-Guitar-Strings%2Fdp%2FB08KLMV4XX%2Fref%3Dsr_1_98_sspa%3Fcrid%3D2IWOBNJ0A4QXD%26keywords%3Dguitar%26qid%3D1649160247%26sprefix%3Dguitar%252Caps%252C1002%26sr%3D8-98-spons%26psc%3D1&qualifier=1649160247&id=7592872892217031&widgetName=sp_btf',\n",
       " 'https://www.amazon.in/gp/slredirect/picassoRedirect.html/ref=pa_sp_atf_next_aps_sr_pg3_1?ie=UTF8&adId=A09610753VGW0EUUEOMBV&url=%2FPremium-Spruce-Top-Cutaway-Acoustic-Guitar%2Fdp%2FB08FFZY6BJ%2Fref%3Dsr_1_97_sspa%3Fcrid%3D2IWOBNJ0A4QXD%26keywords%3Dguitar%26qid%3D1649160253%26sprefix%3Dguitar%252Caps%252C1002%26sr%3D8-97-spons%26psc%3D1&qualifier=1649160253&id=8105358489376651&widgetName=sp_atf_next',\n",
       " 'https://www.amazon.in/gp/slredirect/picassoRedirect.html/ref=pa_sp_atf_next_aps_sr_pg3_1?ie=UTF8&adId=A094551630GZUK72DI20I&url=%2FFestra-38C-Acoustic-Strings-Natural%2Fdp%2FB09JT6C952%2Fref%3Dsr_1_98_sspa%3Fcrid%3D2IWOBNJ0A4QXD%26keywords%3Dguitar%26qid%3D1649160253%26sprefix%3Dguitar%252Caps%252C1002%26sr%3D8-98-spons%26psc%3D1&qualifier=1649160253&id=8105358489376651&widgetName=sp_atf_next',\n",
       " 'https://www.amazon.in/gp/slredirect/picassoRedirect.html/ref=pa_sp_atf_next_aps_sr_pg3_1?ie=UTF8&adId=A00509452PRWWAB4R1U98&url=%2FBlueberry-B-D38-Acoustic-Inbuilt-Strings%2Fdp%2FB07PGV8VCB%2Fref%3Dsr_1_99_sspa%3Fcrid%3D2IWOBNJ0A4QXD%26keywords%3Dguitar%26qid%3D1649160253%26sprefix%3Dguitar%252Caps%252C1002%26sr%3D8-99-spons%26psc%3D1&qualifier=1649160253&id=8105358489376651&widgetName=sp_atf_next',\n",
       " 'https://www.amazon.in/gp/slredirect/picassoRedirect.html/ref=pa_sp_atf_next_aps_sr_pg3_1?ie=UTF8&adId=A00505533US57S2BBM7O7&url=%2FBlueberry-40Inches-Acoustic-inbuilt-Sunburst%2Fdp%2FB07PHFXH6W%2Fref%3Dsr_1_100_sspa%3Fcrid%3D2IWOBNJ0A4QXD%26keywords%3Dguitar%26qid%3D1649160253%26sprefix%3Dguitar%252Caps%252C1002%26sr%3D8-100-spons%26psc%3D1&qualifier=1649160253&id=8105358489376651&widgetName=sp_atf_next',\n",
       " 'https://www.amazon.in/Vault-Strat-String-Electric-Guitar/dp/B08F23L4BX/ref=sr_1_101?crid=2IWOBNJ0A4QXD&keywords=guitar&qid=1649160253&sprefix=guitar%2Caps%2C1002&sr=8-101',\n",
       " 'https://www.amazon.in/Cort-AD810-OP-Acoustic-Guitar-Brown/dp/B00VQ7YDCM/ref=sr_1_102?crid=2IWOBNJ0A4QXD&keywords=guitar&qid=1649160253&sprefix=guitar%2Caps%2C1002&sr=8-102',\n",
       " 'https://www.amazon.in/Acoustic-Electric-Tobacco-Sunburst-PPE20SATS/dp/B08S96XKYT/ref=sr_1_103?crid=2IWOBNJ0A4QXD&keywords=guitar&qid=1649160253&sprefix=guitar%2Caps%2C1002&sr=8-103',\n",
       " 'https://www.amazon.in/Tanglewood-Crossroads-Acoustic-Strings-Dreadnought/dp/B01BFEQFDU/ref=sr_1_104?crid=2IWOBNJ0A4QXD&keywords=guitar&qid=1649160253&sprefix=guitar%2Caps%2C1002&sr=8-104',\n",
       " 'https://www.amazon.in/G3-Presents-F280-Acoustic-Natural/dp/B088NPMMTK/ref=sr_1_105?crid=2IWOBNJ0A4QXD&keywords=guitar&qid=1649160253&sprefix=guitar%2Caps%2C1002&sr=8-105',\n",
       " 'https://www.amazon.in/JUAREZ-Arpeggio-Semi-Acoustic-Rosewood-Fretboard/dp/B08LBG3F36/ref=sr_1_106?crid=2IWOBNJ0A4QXD&keywords=guitar&qid=1649160253&sprefix=guitar%2Caps%2C1002&sr=8-106',\n",
       " 'https://www.amazon.in/Pluto-HW39-201P-Electro-Acoustic-Guitar/dp/B08W8QL2PK/ref=sr_1_97?crid=2IWOBNJ0A4QXD&keywords=guitar&qid=1649160253&sprefix=guitar%2Caps%2C1002&sr=8-97',\n",
       " 'https://www.amazon.in/NEWEN-Stratocaster-Electric-Guitar-Argentina/dp/B09SWVD6JP/ref=sr_1_98?crid=2IWOBNJ0A4QXD&keywords=guitar&qid=1649160253&sprefix=guitar%2Caps%2C1002&sr=8-98',\n",
       " 'https://www.amazon.in/Aria-Meranti-Thin-Body-Cutaway-Acoustic/dp/B08NYBFFWL/ref=sr_1_99?crid=2IWOBNJ0A4QXD&keywords=guitar&qid=1649160253&sprefix=guitar%2Caps%2C1002&sr=8-99',\n",
       " 'https://www.amazon.in/Fender-FA-125CE-Dreadnought-Cutaway-Acoustic-Electric/dp/B07MQWNNK9/ref=sr_1_100?crid=2IWOBNJ0A4QXD&keywords=guitar&qid=1649160253&sprefix=guitar%2Caps%2C1002&sr=8-100',\n",
       " 'https://www.amazon.in/Yamaha-Pacifica-PAC012-Electric-Guitar/dp/B00123DQT6/ref=sr_1_101?crid=2IWOBNJ0A4QXD&keywords=guitar&qid=1649160253&sprefix=guitar%2Caps%2C1002&sr=8-101',\n",
       " 'https://www.amazon.in/Epiphone-Classic-String-Electric-ELCSWGNH/dp/B085NGLLD2/ref=sr_1_102?crid=2IWOBNJ0A4QXD&keywords=guitar&qid=1649160253&sprefix=guitar%2Caps%2C1002&sr=8-102',\n",
       " 'https://www.amazon.in/Yamaha-FS100C-6-Strings-Acoustic-Plectrums/dp/B085MFW67Z/ref=sr_1_103?crid=2IWOBNJ0A4QXD&keywords=guitar&qid=1649160253&sprefix=guitar%2Caps%2C1002&sr=8-103',\n",
       " 'https://www.amazon.in/Ibanez-IBA-MD39CNT-Acoustic-Guitar-MD39C-NT/dp/B07G4CCMYL/ref=sr_1_104?crid=2IWOBNJ0A4QXD&keywords=guitar&qid=1649160253&sprefix=guitar%2Caps%2C1002&sr=8-104',\n",
       " 'https://www.amazon.in/RockJam-RJEG02-SK-BK-Electric-Guitar-Starter/dp/B01M66OZ0V/ref=sr_1_105?crid=2IWOBNJ0A4QXD&keywords=guitar&qid=1649160253&sprefix=guitar%2Caps%2C1002&sr=8-105',\n",
       " 'https://www.amazon.in/Yamaha-PACIFICA012-Electric-Guitar-Metallic/dp/B00REF6CII/ref=sr_1_106?crid=2IWOBNJ0A4QXD&keywords=guitar&qid=1649160253&sprefix=guitar%2Caps%2C1002&sr=8-106',\n",
       " 'https://www.amazon.in/gp/slredirect/picassoRedirect.html/ref=pa_sp_mtf_aps_sr_pg3_1?ie=UTF8&adId=A0544814GMYG4B2WGTJ6&url=%2FGUITAR-BRO-Acoustic-Beginner-Accessories%2Fdp%2FB07T84GC8L%2Fref%3Dsr_1_107_sspa%3Fcrid%3D2IWOBNJ0A4QXD%26keywords%3Dguitar%26qid%3D1649160253%26sprefix%3Dguitar%252Caps%252C1002%26sr%3D8-107-spons%26psc%3D1&qualifier=1649160253&id=8105358489376651&widgetName=sp_mtf',\n",
       " 'https://www.amazon.in/gp/slredirect/picassoRedirect.html/ref=pa_sp_mtf_aps_sr_pg3_1?ie=UTF8&adId=A00508893VYEET1TWIJ61&url=%2FBlueberry-B-G41S-Acoustic-Inbuilt-Strings%2Fdp%2FB07PKQGC3D%2Fref%3Dsr_1_108_sspa%3Fcrid%3D2IWOBNJ0A4QXD%26keywords%3Dguitar%26qid%3D1649160253%26sprefix%3Dguitar%252Caps%252C1002%26sr%3D8-108-spons%26psc%3D1&qualifier=1649160253&id=8105358489376651&widgetName=sp_mtf',\n",
       " 'https://www.amazon.in/gp/slredirect/picassoRedirect.html/ref=pa_sp_mtf_aps_sr_pg3_1?ie=UTF8&adId=A00571736LVE00ONYVW0&url=%2FBlueberry-B-D38-Acoustic-Inbuilt-Sunburst%2Fdp%2FB08LNP8KGS%2Fref%3Dsr_1_109_sspa%3Fcrid%3D2IWOBNJ0A4QXD%26keywords%3Dguitar%26qid%3D1649160253%26sprefix%3Dguitar%252Caps%252C1002%26sr%3D8-109-spons%26psc%3D1&qualifier=1649160253&id=8105358489376651&widgetName=sp_mtf',\n",
       " 'https://www.amazon.in/gp/slredirect/picassoRedirect.html/ref=pa_sp_mtf_aps_sr_pg3_1?ie=UTF8&adId=A00497171W5X8ZPSW04BM&url=%2FBlueberry-Acoustic-Guitar-Strings-Sunburst%2Fdp%2FB08L7XJQQ1%2Fref%3Dsr_1_110_sspa%3Fcrid%3D2IWOBNJ0A4QXD%26keywords%3Dguitar%26qid%3D1649160253%26sprefix%3Dguitar%252Caps%252C1002%26sr%3D8-110-spons%26psc%3D1&qualifier=1649160253&id=8105358489376651&widgetName=sp_mtf',\n",
       " 'https://www.amazon.in/Fender-60S-Dreadnought-Acoustic-Guitar/dp/B01MRA2W8L/ref=sr_1_111?crid=2IWOBNJ0A4QXD&keywords=guitar&qid=1649160253&sprefix=guitar%2Caps%2C1002&sr=8-111',\n",
       " 'https://www.amazon.in/crown-spceil-musical-acoustic-guitar/dp/B08H87BTDP/ref=sr_1_112?crid=2IWOBNJ0A4QXD&keywords=guitar&qid=1649160253&sprefix=guitar%2Caps%2C1002&sr=8-112',\n",
       " 'https://www.amazon.in/Epiphone-Studio-String-Electric-Inspired/dp/B085HQ718N/ref=sr_1_113?crid=2IWOBNJ0A4QXD&keywords=guitar&qid=1649160253&sprefix=guitar%2Caps%2C1002&sr=8-113',\n",
       " 'https://www.amazon.in/Yamaha-Electric-Acoustic-FSX80C-Dreadnought-Plectrums/dp/B09HSJ6GPQ/ref=sr_1_114?crid=2IWOBNJ0A4QXD&keywords=guitar&qid=1649160253&sprefix=guitar%2Caps%2C1002&sr=8-114',\n",
       " 'https://www.amazon.in/Standzo-FSX80C-Electric-Acoustic-Guitar-Plectrum/dp/B09HTXQTWL/ref=sr_1_115?crid=2IWOBNJ0A4QXD&keywords=guitar&qid=1649160253&sprefix=guitar%2Caps%2C1002&sr=8-115',\n",
       " 'https://www.amazon.in/Kadence-Classical-Acoustic-Beginner-Professional/dp/B09M3J192L/ref=sr_1_116?crid=2IWOBNJ0A4QXD&keywords=guitar&qid=1649160253&sprefix=guitar%2Caps%2C1002&sr=8-116',\n",
       " 'https://www.amazon.in/Yamaha-Electric-Pacifica-PAC012-Plectrums/dp/B09B2R3PP9/ref=sr_1_117?crid=2IWOBNJ0A4QXD&keywords=guitar&qid=1649160253&sprefix=guitar%2Caps%2C1002&sr=8-117',\n",
       " 'https://www.amazon.in/PRS-Guitars-Electric-Standard-ST4VC/dp/B08X4MQ86N/ref=sr_1_118?crid=2IWOBNJ0A4QXD&keywords=guitar&qid=1649160253&sprefix=guitar%2Caps%2C1002&sr=8-118',\n",
       " 'https://www.amazon.in/Kadence-Chronicle-Electric-Guitar-Control/dp/B071CVY9MZ/ref=sr_1_119?crid=2IWOBNJ0A4QXD&keywords=guitar&qid=1649160253&sprefix=guitar%2Caps%2C1002&sr=8-119',\n",
       " 'https://www.amazon.in/Epiphone-String-Handed-Electric-Metallic/dp/B0881X3Z4C/ref=sr_1_120?crid=2IWOBNJ0A4QXD&keywords=guitar&qid=1649160253&sprefix=guitar%2Caps%2C1002&sr=8-120',\n",
       " 'https://www.amazon.in/Acoustic-Cutaway-RDS-Strings-Sunburst/dp/B076QGY91P/ref=sr_1_121?crid=2IWOBNJ0A4QXD&keywords=guitar&qid=1649160253&sprefix=guitar%2Caps%2C1002&sr=8-121',\n",
       " 'https://www.amazon.in/Les-Paul-SL-Sunset-Yellow/dp/B075BVT6Q1/ref=sr_1_122?crid=2IWOBNJ0A4QXD&keywords=guitar&qid=1649160253&sprefix=guitar%2Caps%2C1002&sr=8-122',\n",
       " 'https://www.amazon.in/Fender-SA105CEBK-Acoustic-Guitar/dp/B01N6KME9M/ref=sr_1_123?crid=2IWOBNJ0A4QXD&keywords=guitar&qid=1649160253&sprefix=guitar%2Caps%2C1002&sr=8-123',\n",
       " 'https://www.amazon.in/Intern-INT-38C-SB-G-Guitar-Kit-Sunburst/dp/B07K8WLPLH/ref=sr_1_124?crid=2IWOBNJ0A4QXD&keywords=guitar&qid=1649160253&sprefix=guitar%2Caps%2C1002&sr=8-124',\n",
       " 'https://www.amazon.in/Yamaha-C40MII-Acoustic-Concert-Guitar/dp/B005LG2JRK/ref=sr_1_125?crid=2IWOBNJ0A4QXD&keywords=guitar&qid=1649160253&sprefix=guitar%2Caps%2C1002&sr=8-125',\n",
       " 'https://www.amazon.in/FS100C-6-Strings-Acoustic-Plectrums-Natural/dp/B085MDF8D4/ref=sr_1_126?crid=2IWOBNJ0A4QXD&keywords=guitar&qid=1649160253&sprefix=guitar%2Caps%2C1002&sr=8-126',\n",
       " 'https://www.amazon.in/Yamaha-Acoustic-Guitar-Tobacco-Sunburst/dp/B08VXR74Q2/ref=sr_1_127?crid=2IWOBNJ0A4QXD&keywords=guitar&qid=1649160253&sprefix=guitar%2Caps%2C1002&sr=8-127',\n",
       " 'https://www.amazon.in/Fender-SA105CE-Electric-Acoustic-Plectrums/dp/B08P7R44YM/ref=sr_1_128?crid=2IWOBNJ0A4QXD&keywords=guitar&qid=1649160253&sprefix=guitar%2Caps%2C1002&sr=8-128',\n",
       " 'https://www.amazon.in/Kadence-Acoustica-Mahagony-Handed-Acoustic/dp/B07GS7N6TG/ref=sr_1_129?crid=2IWOBNJ0A4QXD&keywords=guitar&qid=1649160253&sprefix=guitar%2Caps%2C1002&sr=8-129',\n",
       " 'https://www.amazon.in/Kadence-Electric-Guitar-Rosewood-Fretboard/dp/B07BGXN7P6/ref=sr_1_130?crid=2IWOBNJ0A4QXD&keywords=guitar&qid=1649160253&sprefix=guitar%2Caps%2C1002&sr=8-130',\n",
       " 'https://www.amazon.in/JUAREZ-JRZ38C-Handed-Acoustic-Strings/dp/B01FYYTDW2/ref=sr_1_131?crid=2IWOBNJ0A4QXD&keywords=guitar&qid=1649160253&sprefix=guitar%2Caps%2C1002&sr=8-131',\n",
       " 'https://www.amazon.in/Kadence-Frontier-Acoustic-Foldable-Strings/dp/B01CJJG882/ref=sr_1_132?crid=2IWOBNJ0A4QXD&keywords=guitar&qid=1649160253&sprefix=guitar%2Caps%2C1002&sr=8-132',\n",
       " 'https://www.amazon.in/yamaha-acoustic-guitar-Dreadnought-Plectrums/dp/B07KB8VP6X/ref=sr_1_133?crid=2IWOBNJ0A4QXD&keywords=guitar&qid=1649160253&sprefix=guitar%2Caps%2C1002&sr=8-133',\n",
       " 'https://www.amazon.in/Medellin-Premium-Acoustic-Guitar-Starter/dp/B099MVN9P9/ref=sr_1_134?crid=2IWOBNJ0A4QXD&keywords=guitar&qid=1649160253&sprefix=guitar%2Caps%2C1002&sr=8-134',\n",
       " 'https://www.amazon.in/Fender-Dread-String-Acoustic-Guitar/dp/B07RL6VG3H/ref=sr_1_135?crid=2IWOBNJ0A4QXD&keywords=guitar&qid=1649160253&sprefix=guitar%2Caps%2C1002&sr=8-135',\n",
       " 'https://www.amazon.in/Yamaha-TRBX174-RM-4-String-Right-Handed/dp/B00GOE8OGI/ref=sr_1_136?crid=2IWOBNJ0A4QXD&keywords=guitar&qid=1649160253&sprefix=guitar%2Caps%2C1002&sr=8-136',\n",
       " 'https://www.amazon.in/Yamaha-F310-6-Strings-Acoustic-Natural/dp/B000RVYW7E/ref=sr_1_137?crid=2IWOBNJ0A4QXD&keywords=guitar&qid=1649160253&sprefix=guitar%2Caps%2C1002&sr=8-137',\n",
       " 'https://www.amazon.in/Tanglewood-DBT-SFCE-BW-LH-Discovery-Cutaway-Acoustic/dp/B071GNTYYV/ref=sr_1_138?crid=2IWOBNJ0A4QXD&keywords=guitar&qid=1649160253&sprefix=guitar%2Caps%2C1002&sr=8-138',\n",
       " 'https://www.amazon.in/Sterling-Music-Man-Solid-Body-CT30HSS-SBK-R1/dp/B07NHB9BRW/ref=sr_1_139?crid=2IWOBNJ0A4QXD&keywords=guitar&qid=1649160253&sprefix=guitar%2Caps%2C1002&sr=8-139',\n",
       " 'https://www.amazon.in/JUAREZ-Arpeggio-Acoustic-Rosewood-Fretboard/dp/B08LBHN8ZR/ref=sr_1_140?crid=2IWOBNJ0A4QXD&keywords=guitar&qid=1649160253&sprefix=guitar%2Caps%2C1002&sr=8-140',\n",
       " 'https://www.amazon.in/Kadence-Acoustic-Guitar-String-Fretted/dp/B09VSL5S1L/ref=sr_1_141?crid=2IWOBNJ0A4QXD&keywords=guitar&qid=1649160253&sprefix=guitar%2Caps%2C1002&sr=8-141',\n",
       " 'https://www.amazon.in/Fender-SA105CE-Electric-Acoustic-Plectrums/dp/B0944BJ9KZ/ref=sr_1_142?crid=2IWOBNJ0A4QXD&keywords=guitar&qid=1649160253&sprefix=guitar%2Caps%2C1002&sr=8-142',\n",
       " 'https://www.amazon.in/gp/slredirect/picassoRedirect.html/ref=pa_sp_btf_aps_sr_pg3_1?ie=UTF8&adId=A0050053YFBD0RZWXSXR&url=%2FBlueberry-B-40EQ-GL-Fretboard-Amplifier-Equalizer%2Fdp%2FB09MZ5C9TL%2Fref%3Dsr_1_143_sspa%3Fcrid%3D2IWOBNJ0A4QXD%26keywords%3Dguitar%26qid%3D1649160253%26sprefix%3Dguitar%252Caps%252C1002%26sr%3D8-143-spons%26psc%3D1&qualifier=1649160253&id=8105358489376651&widgetName=sp_btf',\n",
       " 'https://www.amazon.in/gp/slredirect/picassoRedirect.html/ref=pa_sp_btf_aps_sr_pg3_1?ie=UTF8&adId=A05431372N1Y6KMFTYW6Y&url=%2FDEVICE-URBAN-INFOTECH-Rotational-Electronic%2Fdp%2FB081LG3X5H%2Fref%3Dsr_1_144_sspa%3Fcrid%3D2IWOBNJ0A4QXD%26keywords%3Dguitar%26qid%3D1649160253%26sprefix%3Dguitar%252Caps%252C1002%26sr%3D8-144-spons%26psc%3D1&qualifier=1649160253&id=8105358489376651&widgetName=sp_btf',\n",
       " 'https://www.amazon.in/gp/slredirect/picassoRedirect.html/ref=pa_sp_btf_aps_sr_pg3_1?ie=UTF8&adId=A10247791G1WL3IMFX2JM&url=%2FTECHBLAZE-Guitar-Acoustic-Machine-pieces%2Fdp%2FB08X6MGB3V%2Fref%3Dsr_1_145_sspa%3Fcrid%3D2IWOBNJ0A4QXD%26keywords%3Dguitar%26qid%3D1649160253%26sprefix%3Dguitar%252Caps%252C1002%26sr%3D8-145-spons%26psc%3D1&qualifier=1649160253&id=8105358489376651&widgetName=sp_btf',\n",
       " 'https://www.amazon.in/gp/slredirect/picassoRedirect.html/ref=pa_sp_btf_aps_sr_pg3_1?ie=UTF8&adId=A10248791OOWLD8NFH8YO&url=%2FTECHBLAZE-Guitar-Acoustic-Machine-pieces%2Fdp%2FB098XG2QQ9%2Fref%3Dsr_1_146_sspa%3Fcrid%3D2IWOBNJ0A4QXD%26keywords%3Dguitar%26qid%3D1649160253%26sprefix%3Dguitar%252Caps%252C1002%26sr%3D8-146-spons%26psc%3D1&qualifier=1649160253&id=8105358489376651&widgetName=sp_btf']"
      ]
     },
     "execution_count": 288,
     "metadata": {},
     "output_type": "execute_result"
    }
   ],
   "source": [
    "URL"
   ]
  },
  {
   "cell_type": "code",
   "execution_count": 214,
   "id": "b01b327b",
   "metadata": {},
   "outputs": [
    {
     "data": {
      "text/plain": [
       "183"
      ]
     },
     "execution_count": 214,
     "metadata": {},
     "output_type": "execute_result"
    }
   ],
   "source": [
    "len(URL)"
   ]
  },
  {
   "cell_type": "code",
   "execution_count": 215,
   "id": "0d277008",
   "metadata": {},
   "outputs": [],
   "source": [
    "product=[]"
   ]
  },
  {
   "cell_type": "code",
   "execution_count": 216,
   "id": "449f37fe",
   "metadata": {},
   "outputs": [
    {
     "name": "stdout",
     "output_type": "stream",
     "text": [
      "successful scrap\n"
     ]
    }
   ],
   "source": [
    "for url in URL[:5]:##loop for every guitar in the list\n",
    "    driver.get(url)\n",
    "    time.sleep(2)\n",
    "    try:\n",
    "        product.append(driver.find_element_by_xpath('//span[@id=\"productTitle\"]').text)[:5]\n",
    "    except:\n",
    "        product.append('-')\n",
    "print('successful scrap')"
   ]
  },
  {
   "cell_type": "code",
   "execution_count": 217,
   "id": "d14ebb3b",
   "metadata": {},
   "outputs": [
    {
     "data": {
      "text/plain": [
       "['Kadence Frontier guitar with Online Guitar learning course, Wine Red Acoustic Guitar with Die Cast Keys, Set of Strings, Strap, Picks and Bag (Wine Red, Acoustic)',\n",
       " '-',\n",
       " 'Kadence Frontier Jumbo Semi Acoustic Guitar With Die Cast Keys Super Combo (Bag, 1 pack Strings, Strap, Picks, Capo, Tuner (natural)',\n",
       " '-',\n",
       " 'Vault Traveller 34 Inch Acoustic Guitar With Bag, Strap, Strings, Polishing Cloth, String Winder and Picks - Natural Gloss',\n",
       " '-',\n",
       " 'Kadence Guitar Acoustica Series, 41” Jumbo Size 6-strings Acoustic Guitar, Spruce body with Pick Guard A311 with bag',\n",
       " '-',\n",
       " 'Juarez Acoustic Guitar, 38 Inch Curved Body Cutaway, 38CUR with Bag, Strings, Pick and Strap, Black',\n",
       " '-']"
      ]
     },
     "execution_count": 217,
     "metadata": {},
     "output_type": "execute_result"
    }
   ],
   "source": [
    "product"
   ]
  },
  {
   "cell_type": "markdown",
   "id": "cb3f63c1",
   "metadata": {},
   "source": [
    "2: In the above question, now scrape the following details of each product listed in first 3 pages of your\n",
    "search results and save it in a data frame and csv. In case if any product has less than 3 pages in search\n",
    "results then scrape all the products available under that product name. Details to be scraped are: \"Brand\n",
    "Name\", \"Name of the Product\", \"Price\", \"Return/Exchange\", \"Expected Delivery\", \"Availability\" and\n",
    "“Product URL”. In case, if any of the details are missing for any of the product then replace it by “-“."
   ]
  },
  {
   "cell_type": "code",
   "execution_count": 218,
   "id": "c3da09bc",
   "metadata": {},
   "outputs": [],
   "source": [
    "Brand = []"
   ]
  },
  {
   "cell_type": "code",
   "execution_count": 233,
   "id": "2636a19b",
   "metadata": {},
   "outputs": [
    {
     "name": "stdout",
     "output_type": "stream",
     "text": [
      "successful scrap\n"
     ]
    }
   ],
   "source": [
    "for url in URL[:5]:##loop for every guitar in the list\n",
    "    driver.get(url)\n",
    "    time.sleep(2)\n",
    "    try:\n",
    "        Brand.append(driver.find_element_by_xpath('//span[@id=\"productTitle\"]').text)[:5]\n",
    "    except:\n",
    "        Brand.append('-')\n",
    "print('successful scrap')  "
   ]
  },
  {
   "cell_type": "code",
   "execution_count": 234,
   "id": "404596fe",
   "metadata": {},
   "outputs": [
    {
     "data": {
      "text/plain": [
       "['Quantity:',\n",
       " '-',\n",
       " '',\n",
       " '-',\n",
       " '',\n",
       " '-',\n",
       " '',\n",
       " '-',\n",
       " '',\n",
       " '-',\n",
       " '-',\n",
       " '-',\n",
       " '-',\n",
       " '-',\n",
       " '-',\n",
       " '-',\n",
       " '-',\n",
       " '-',\n",
       " '-',\n",
       " '-',\n",
       " '-',\n",
       " '-',\n",
       " '-',\n",
       " '-',\n",
       " '-',\n",
       " 'Kadence Frontier guitar with Online Guitar learning course, Wine Red Acoustic Guitar with Die Cast Keys, Set of Strings, Strap, Picks and Bag (Wine Red, Acoustic)',\n",
       " '-',\n",
       " 'Kadence Frontier Jumbo Semi Acoustic Guitar With Die Cast Keys Super Combo (Bag, 1 pack Strings, Strap, Picks, Capo, Tuner (natural)',\n",
       " '-',\n",
       " 'Vault Traveller 34 Inch Acoustic Guitar With Bag, Strap, Strings, Polishing Cloth, String Winder and Picks - Natural Gloss',\n",
       " '-',\n",
       " 'Kadence Guitar Acoustica Series, 41” Jumbo Size 6-strings Acoustic Guitar, Spruce body with Pick Guard A311 with bag',\n",
       " '-',\n",
       " 'Juarez Acoustic Guitar, 38 Inch Curved Body Cutaway, 38CUR with Bag, Strings, Pick and Strap, Black',\n",
       " '-',\n",
       " 'Kadence Frontier guitar with Online Guitar learning course, Wine Red Acoustic Guitar with Die Cast Keys, Set of Strings, Strap, Picks and Bag (Wine Red, Acoustic)',\n",
       " 'Kadence Frontier Jumbo Semi Acoustic Guitar With Die Cast Keys Super Combo (Bag, 1 pack Strings, Strap, Picks, Capo, Tuner (natural)',\n",
       " 'Vault Traveller 34 Inch Acoustic Guitar With Bag, Strap, Strings, Polishing Cloth, String Winder and Picks - Natural Gloss',\n",
       " 'Kadence Guitar Acoustica Series, 41” Jumbo Size 6-strings Acoustic Guitar, Spruce body with Pick Guard A311 with bag',\n",
       " 'Juarez Acoustic Guitar, 38 Inch Curved Body Cutaway, 38CUR with Bag, Strings, Pick and Strap, Black']"
      ]
     },
     "execution_count": 234,
     "metadata": {},
     "output_type": "execute_result"
    }
   ],
   "source": [
    "Brand"
   ]
  },
  {
   "cell_type": "code",
   "execution_count": 240,
   "id": "d250527a",
   "metadata": {},
   "outputs": [],
   "source": [
    "product=[]"
   ]
  },
  {
   "cell_type": "code",
   "execution_count": 241,
   "id": "5b3933c1",
   "metadata": {},
   "outputs": [
    {
     "name": "stdout",
     "output_type": "stream",
     "text": [
      "successful scrap\n"
     ]
    }
   ],
   "source": [
    "for url in URL[:5]:##loop for every guitar in the list\n",
    "    driver.get(url)\n",
    "    time.sleep(2)\n",
    "    try:\n",
    "        product.append(driver.find_elements_by_xpath(\"//table[@id='productDetails_techSpec_section_1']/tbody/tr[1]/td\").text)[:5]\n",
    "    except:\n",
    "        product.append('-')\n",
    "print('successful scrap')  \n",
    "\n"
   ]
  },
  {
   "cell_type": "code",
   "execution_count": 242,
   "id": "e89d39d2",
   "metadata": {},
   "outputs": [
    {
     "data": {
      "text/plain": [
       "['-', '-', '-', '-', '-']"
      ]
     },
     "execution_count": 242,
     "metadata": {},
     "output_type": "execute_result"
    }
   ],
   "source": [
    "product"
   ]
  },
  {
   "cell_type": "code",
   "execution_count": 244,
   "id": "fbb24294",
   "metadata": {},
   "outputs": [],
   "source": [
    "price=[]"
   ]
  },
  {
   "cell_type": "code",
   "execution_count": 246,
   "id": "e11e7ea2",
   "metadata": {},
   "outputs": [
    {
     "name": "stdout",
     "output_type": "stream",
     "text": [
      "successful scrap\n",
      "successful scrap\n",
      "successful scrap\n",
      "successful scrap\n",
      "successful scrap\n"
     ]
    }
   ],
   "source": [
    "for url in URL[:5]:##loop for every guitar in the list\n",
    "    driver.get(url)\n",
    "    time.sleep(2)\n",
    "    try:\n",
    "        price.append(driver.find_element_by_xpath(\"//span[@class='a-price-whole']\").text)[:5]\n",
    "    except:\n",
    "        print('successful scrap')  "
   ]
  },
  {
   "cell_type": "code",
   "execution_count": 248,
   "id": "dbcd0315",
   "metadata": {},
   "outputs": [
    {
     "data": {
      "text/plain": [
       "['', '', '3,999', '', '2,520']"
      ]
     },
     "execution_count": 248,
     "metadata": {},
     "output_type": "execute_result"
    }
   ],
   "source": [
    "price"
   ]
  },
  {
   "cell_type": "markdown",
   "id": "7cd7f3bc",
   "metadata": {},
   "source": [
    "# Return/Exchange"
   ]
  },
  {
   "cell_type": "code",
   "execution_count": 249,
   "id": "f81ea504",
   "metadata": {},
   "outputs": [],
   "source": [
    "exchange=[]"
   ]
  },
  {
   "cell_type": "code",
   "execution_count": 250,
   "id": "6fae6525",
   "metadata": {},
   "outputs": [
    {
     "name": "stdout",
     "output_type": "stream",
     "text": [
      "successful scrap\n"
     ]
    }
   ],
   "source": [
    "for url in URL[:5]:##loop for every guitar in the list\n",
    "    driver.get(url)\n",
    "    time.sleep(2)\n",
    "    try:\n",
    "        exchange.append(driver.find_elements_by_xpath(\"//div[@class='a-section a-spacing-none icon-content']\").text)[:5]\n",
    "    except:\n",
    "        exchange.append('-')\n",
    "print('successful scrap')  "
   ]
  },
  {
   "cell_type": "code",
   "execution_count": 251,
   "id": "063f4e0f",
   "metadata": {},
   "outputs": [
    {
     "data": {
      "text/plain": [
       "['-', '-', '-', '-', '-']"
      ]
     },
     "execution_count": 251,
     "metadata": {},
     "output_type": "execute_result"
    }
   ],
   "source": [
    "exchange"
   ]
  },
  {
   "cell_type": "code",
   "execution_count": 254,
   "id": "c8284f00",
   "metadata": {},
   "outputs": [],
   "source": [
    "delivery=[]"
   ]
  },
  {
   "cell_type": "code",
   "execution_count": 259,
   "id": "8553ab89",
   "metadata": {},
   "outputs": [
    {
     "name": "stdout",
     "output_type": "stream",
     "text": [
      "successful scrap\n"
     ]
    }
   ],
   "source": [
    "for url in URL[:5]:##loop for every guitar in the list\n",
    "    driver.get(url)\n",
    "    time.sleep(2)\n",
    "    try:\n",
    "        delivery.append(driver.find_elements_by_xpath(\"//div[@id='deliveryBlock_feature_div']\").text)[:5]\n",
    "    except:\n",
    "        delivery.append('-')\n",
    "print('successful scrap')  "
   ]
  },
  {
   "cell_type": "code",
   "execution_count": 261,
   "id": "9216e5b2",
   "metadata": {},
   "outputs": [
    {
     "data": {
      "text/plain": [
       "['-',\n",
       " '-',\n",
       " '-',\n",
       " '-',\n",
       " '-',\n",
       " '-',\n",
       " '-',\n",
       " '-',\n",
       " '-',\n",
       " '-',\n",
       " '-',\n",
       " '-',\n",
       " '-',\n",
       " '-',\n",
       " '-',\n",
       " '-',\n",
       " '-',\n",
       " '-',\n",
       " '-',\n",
       " '-',\n",
       " '-',\n",
       " '-',\n",
       " '-',\n",
       " '-',\n",
       " '-']"
      ]
     },
     "execution_count": 261,
     "metadata": {},
     "output_type": "execute_result"
    }
   ],
   "source": [
    "delivery"
   ]
  },
  {
   "cell_type": "code",
   "execution_count": 263,
   "id": "31c2e825",
   "metadata": {},
   "outputs": [],
   "source": [
    "availability=[]"
   ]
  },
  {
   "cell_type": "code",
   "execution_count": 264,
   "id": "39edaacc",
   "metadata": {},
   "outputs": [
    {
     "name": "stdout",
     "output_type": "stream",
     "text": [
      "successful scrap\n"
     ]
    }
   ],
   "source": [
    "for url in URL[:5]:##loop for every guitar in the list\n",
    "    driver.get(url)\n",
    "    time.sleep(2)\n",
    "    try:\n",
    "        availability.append(driver.find_elements_by_xpath(\"//div[@id='availability']\").text)[:5]\n",
    "    except:\n",
    "        availability.append('-')\n",
    "print('successful scrap')  "
   ]
  },
  {
   "cell_type": "code",
   "execution_count": 265,
   "id": "465d82c1",
   "metadata": {},
   "outputs": [
    {
     "data": {
      "text/plain": [
       "['-', '-', '-', '-', '-']"
      ]
     },
     "execution_count": 265,
     "metadata": {},
     "output_type": "execute_result"
    }
   ],
   "source": [
    "availability"
   ]
  },
  {
   "cell_type": "code",
   "execution_count": 277,
   "id": "e58a3f36",
   "metadata": {},
   "outputs": [],
   "source": [
    "URL=[]"
   ]
  },
  {
   "cell_type": "code",
   "execution_count": 289,
   "id": "97e82431",
   "metadata": {},
   "outputs": [
    {
     "name": "stdout",
     "output_type": "stream",
     "text": [
      "successful scrap\n"
     ]
    }
   ],
   "source": [
    "for url in URL[:5]:##loop for every guitar in the list\n",
    "    driver.get(url)\n",
    "    time.sleep(2)\n",
    "    try:\n",
    "        URL.append(driver.find_elements_by_xpath('//a[@class=\"a-link-normal s-underline-text s-underline-link-text s-link-style a-text-normal\"]').get_attribute('href'))\n",
    "    except:\n",
    "        URL.append('-')\n",
    "print('successful scrap')"
   ]
  },
  {
   "cell_type": "code",
   "execution_count": 290,
   "id": "a0a5af1f",
   "metadata": {},
   "outputs": [
    {
     "data": {
      "text/plain": [
       "['https://www.amazon.in/gp/slredirect/picassoRedirect.html/ref=pa_sp_atf_aps_sr_pg1_1?ie=UTF8&adId=A061107531TUGN5RHMV0N&url=%2FKadence-Frontier-Acoustic-Guitar-Strings%2Fdp%2FB01GDZ46AA%2Fref%3Dsr_1_1_sspa%3Fcrid%3D2IWOBNJ0A4QXD%26keywords%3Dguitar%26qid%3D1649160230%26smid%3DAM04Z7MH4HSDD%26sprefix%3Dguitar%252Caps%252C1002%26sr%3D8-1-spons%26psc%3D1&qualifier=1649160230&id=5012429980203617&widgetName=sp_atf',\n",
       " 'https://www.amazon.in/gp/slredirect/picassoRedirect.html/ref=pa_sp_atf_aps_sr_pg1_1?ie=UTF8&adId=A0046612372SWJAK5T57D&url=%2FKadence-Frontier-Acoustic-Equalizer-Strings%2Fdp%2FB01HRIHH9E%2Fref%3Dsr_1_2_sspa%3Fcrid%3D2IWOBNJ0A4QXD%26keywords%3Dguitar%26qid%3D1649160230%26sprefix%3Dguitar%252Caps%252C1002%26sr%3D8-2-spons%26psc%3D1&qualifier=1649160230&id=5012429980203617&widgetName=sp_atf',\n",
       " 'https://www.amazon.in/gp/slredirect/picassoRedirect.html/ref=pa_sp_atf_aps_sr_pg1_1?ie=UTF8&adId=A04289512UWS388AD5H8S&url=%2FFestra-Acoustic-Guitar-Strap-Strings%2Fdp%2FB09JTR6N53%2Fref%3Dsr_1_3_sspa%3Fcrid%3D2IWOBNJ0A4QXD%26keywords%3Dguitar%26qid%3D1649160230%26sprefix%3Dguitar%252Caps%252C1002%26sr%3D8-3-spons%26psc%3D1%26smid%3DA3HCWE0HCT5KDF&qualifier=1649160230&id=5012429980203617&widgetName=sp_atf',\n",
       " 'https://www.amazon.in/gp/slredirect/picassoRedirect.html/ref=pa_sp_atf_aps_sr_pg1_1?ie=UTF8&adId=A0745490374VP9DX2TU09&url=%2FTraveller-Acoustic-Guitar-Strings-Polishing%2Fdp%2FB07RK9962M%2Fref%3Dsr_1_4_sspa%3Fcrid%3D2IWOBNJ0A4QXD%26keywords%3Dguitar%26qid%3D1649160230%26sprefix%3Dguitar%252Caps%252C1002%26sr%3D8-4-spons%26psc%3D1&qualifier=1649160230&id=5012429980203617&widgetName=sp_atf',\n",
       " 'https://www.amazon.in/Juarez-Acoustic-Guitar-Cutaway-Strings/dp/B076QHZ4HZ/ref=sr_1_5?crid=2IWOBNJ0A4QXD&keywords=guitar&qid=1649160230&sprefix=guitar%2Caps%2C1002&sr=8-5',\n",
       " 'https://www.amazon.in/Intern-INT-38C-Acoustic-Guitar-Black/dp/B073B6TQQY/ref=sr_1_6?crid=2IWOBNJ0A4QXD&keywords=guitar&qid=1649160230&sprefix=guitar%2Caps%2C1002&sr=8-6',\n",
       " 'https://www.amazon.in/Juarez-Acoustic-Cutaway-038C-Strings/dp/B017NPCSLI/ref=sr_1_7?crid=2IWOBNJ0A4QXD&keywords=guitar&qid=1649160230&sprefix=guitar%2Caps%2C1002&sr=8-7',\n",
       " 'https://www.amazon.in/Epiphone-Acoustic-Guitar-1Vintage-Sunburst/dp/B00TGRT6I0/ref=sxin_14?asc_contentid=amzn1.osa.01db0ba4-42ed-4957-823d-c30692c7e0ee.A21TJRUUN4KGV.en_IN&asc_contenttype=article&ascsubtag=amzn1.osa.01db0ba4-42ed-4957-823d-c30692c7e0ee.A21TJRUUN4KGV.en_IN&creativeASIN=B00TGRT6I0&crid=2IWOBNJ0A4QXD&cv_ct_cx=guitar&cv_ct_id=amzn1.osa.01db0ba4-42ed-4957-823d-c30692c7e0ee.A21TJRUUN4KGV.en_IN&cv_ct_pg=search&cv_ct_we=asin&cv_ct_wn=osp-single-source-earns-comm&keywords=guitar&linkCode=oas&pd_rd_i=B00TGRT6I0&pd_rd_r=0293c4fd-c7d6-4b43-9924-f14c9f9e62a3&pd_rd_w=mfnUr&pd_rd_wg=9VBks&pf_rd_p=0e89a72f-7500-4160-954f-faff18efeda5&pf_rd_r=WF6YG86VGT5AVGBTHJA4&qid=1649160230&sprefix=guitar%2Caps%2C1002&sr=1-1-61f4c597-7a45-4a97-bd75-c52903f8ee93&tag=htsyndicate-21',\n",
       " 'https://www.amazon.in/Kadence-Slowhand-Premium-Acoustic-Instrument/dp/B077SZ667X/ref=sxin_14?asc_contentid=amzn1.osa.01db0ba4-42ed-4957-823d-c30692c7e0ee.A21TJRUUN4KGV.en_IN&asc_contenttype=article&ascsubtag=amzn1.osa.01db0ba4-42ed-4957-823d-c30692c7e0ee.A21TJRUUN4KGV.en_IN&creativeASIN=B077SZ667X&crid=2IWOBNJ0A4QXD&cv_ct_cx=guitar&cv_ct_id=amzn1.osa.01db0ba4-42ed-4957-823d-c30692c7e0ee.A21TJRUUN4KGV.en_IN&cv_ct_pg=search&cv_ct_we=asin&cv_ct_wn=osp-single-source-earns-comm&keywords=guitar&linkCode=oas&pd_rd_i=B077SZ667X&pd_rd_r=0293c4fd-c7d6-4b43-9924-f14c9f9e62a3&pd_rd_w=mfnUr&pd_rd_wg=9VBks&pf_rd_p=0e89a72f-7500-4160-954f-faff18efeda5&pf_rd_r=WF6YG86VGT5AVGBTHJA4&qid=1649160230&smid=AM04Z7MH4HSDD&sprefix=guitar%2Caps%2C1002&sr=1-2-61f4c597-7a45-4a97-bd75-c52903f8ee93&tag=htsyndicate-21',\n",
       " 'https://www.amazon.in/Ibanez-IBA-MD39CNT-Acoustic-Guitar-MD39C-NT/dp/B07G4CCMYL/ref=sxin_14?asc_contentid=amzn1.osa.01db0ba4-42ed-4957-823d-c30692c7e0ee.A21TJRUUN4KGV.en_IN&asc_contenttype=article&ascsubtag=amzn1.osa.01db0ba4-42ed-4957-823d-c30692c7e0ee.A21TJRUUN4KGV.en_IN&creativeASIN=B07G4CCMYL&crid=2IWOBNJ0A4QXD&cv_ct_cx=guitar&cv_ct_id=amzn1.osa.01db0ba4-42ed-4957-823d-c30692c7e0ee.A21TJRUUN4KGV.en_IN&cv_ct_pg=search&cv_ct_we=asin&cv_ct_wn=osp-single-source-earns-comm&keywords=guitar&linkCode=oas&pd_rd_i=B07G4CCMYL&pd_rd_r=0293c4fd-c7d6-4b43-9924-f14c9f9e62a3&pd_rd_w=mfnUr&pd_rd_wg=9VBks&pf_rd_p=0e89a72f-7500-4160-954f-faff18efeda5&pf_rd_r=WF6YG86VGT5AVGBTHJA4&qid=1649160230&sprefix=guitar%2Caps%2C1002&sr=1-3-61f4c597-7a45-4a97-bd75-c52903f8ee93&tag=htsyndicate-21',\n",
       " 'https://www.amazon.in/JUAREZ-Acoustic-Guitar-TBLS-Sunburst/dp/B08FV1B5VC/ref=sxin_14?asc_contentid=amzn1.osa.01db0ba4-42ed-4957-823d-c30692c7e0ee.A21TJRUUN4KGV.en_IN&asc_contenttype=article&ascsubtag=amzn1.osa.01db0ba4-42ed-4957-823d-c30692c7e0ee.A21TJRUUN4KGV.en_IN&creativeASIN=B08FV1B5VC&crid=2IWOBNJ0A4QXD&cv_ct_cx=guitar&cv_ct_id=amzn1.osa.01db0ba4-42ed-4957-823d-c30692c7e0ee.A21TJRUUN4KGV.en_IN&cv_ct_pg=search&cv_ct_we=asin&cv_ct_wn=osp-single-source-earns-comm&keywords=guitar&linkCode=oas&pd_rd_i=B08FV1B5VC&pd_rd_r=0293c4fd-c7d6-4b43-9924-f14c9f9e62a3&pd_rd_w=mfnUr&pd_rd_wg=9VBks&pf_rd_p=0e89a72f-7500-4160-954f-faff18efeda5&pf_rd_r=WF6YG86VGT5AVGBTHJA4&qid=1649160230&sprefix=guitar%2Caps%2C1002&sr=1-4-61f4c597-7a45-4a97-bd75-c52903f8ee93&tag=htsyndicate-21',\n",
       " 'https://www.amazon.in/Photron-Acoustic-Cutaway-PH38C-BK/dp/B076T8V8NB/ref=sr_1_8?crid=2IWOBNJ0A4QXD&keywords=guitar&qid=1649160230&sprefix=guitar%2Caps%2C1002&sr=8-8',\n",
       " 'https://www.amazon.in/Intern-INT-38C-Acoustic-Guitar-Blue/dp/B073B5RZBV/ref=sr_1_9?crid=2IWOBNJ0A4QXD&keywords=guitar&qid=1649160230&sprefix=guitar%2Caps%2C1002&sr=8-9',\n",
       " 'https://www.amazon.in/Medellin-Acoustic-Guitar-Carbon-Learning/dp/B09MSGMQ3Y/ref=sr_1_10?crid=2IWOBNJ0A4QXD&keywords=guitar&qid=1649160230&sprefix=guitar%2Caps%2C1002&sr=8-10',\n",
       " 'https://www.amazon.in/Intern-38-inch-Cutaway-Design-Acoustic/dp/B07X4PN85R/ref=sr_1_11?crid=2IWOBNJ0A4QXD&keywords=guitar&qid=1649160230&sprefix=guitar%2Caps%2C1002&sr=8-11',\n",
       " 'https://www.amazon.in/JUAREZ-JRZ38C-Acoustic-Natural-Strings/dp/B01FYYTDWC/ref=sr_1_12?crid=2IWOBNJ0A4QXD&keywords=guitar&qid=1649160230&sprefix=guitar%2Caps%2C1002&sr=8-12',\n",
       " 'https://www.amazon.in/Intern-INT-38C-Acoustic-Guitar-Sunburst/dp/B073B5MJRM/ref=sr_1_13?crid=2IWOBNJ0A4QXD&keywords=guitar&qid=1649160230&sprefix=guitar%2Caps%2C1002&sr=8-13',\n",
       " 'https://www.amazon.in/Kadence-Frontier-Acoustic-Guitar-Strings/dp/B01GDZ46AA/ref=sr_1_14?crid=2IWOBNJ0A4QXD&keywords=guitar&qid=1649160230&smid=AM04Z7MH4HSDD&sprefix=guitar%2Caps%2C1002&sr=8-14',\n",
       " 'https://www.amazon.in/Kadence-Frontier-Acoustic-Guitar-Strings/dp/B078GTJP5Y/ref=sr_1_15?crid=2IWOBNJ0A4QXD&keywords=guitar&qid=1649160230&smid=AM04Z7MH4HSDD&sprefix=guitar%2Caps%2C1002&sr=8-15',\n",
       " 'https://www.amazon.in/Kadence-Slowhand-Premium-Acoustic-Instrument/dp/B077SZ667X/ref=sr_1_16?crid=2IWOBNJ0A4QXD&keywords=guitar&qid=1649160230&smid=AM04Z7MH4HSDD&sprefix=guitar%2Caps%2C1002&sr=8-16',\n",
       " 'https://www.amazon.in/Intern-INT-38C-Sunburst-Acoustic-Guitar/dp/B07X1J4D3Z/ref=sr_1_17?crid=2IWOBNJ0A4QXD&keywords=guitar&qid=1649160230&sprefix=guitar%2Caps%2C1002&sr=8-17',\n",
       " 'https://www.amazon.in/Intern-INT-38C-BK-G-Guitar-Kit-Black/dp/B07K9497RC/ref=sr_1_18?crid=2IWOBNJ0A4QXD&keywords=guitar&qid=1649160230&sprefix=guitar%2Caps%2C1002&sr=8-18',\n",
       " 'https://www.amazon.in/Rosewood-Fretboard-Acoustic-Strings-K-Retail/dp/B07KLG8C4P/ref=sr_1_19?crid=2IWOBNJ0A4QXD&keywords=guitar&qid=1649160230&sprefix=guitar%2Caps%2C1002&sr=8-19',\n",
       " 'https://www.amazon.in/Henrix-Acoustic-Guitar-Die-cast-Dual-action/dp/B07VHRWV4R/ref=sr_1_20?crid=2IWOBNJ0A4QXD&keywords=guitar&qid=1649160230&sprefix=guitar%2Caps%2C1002&sr=8-20',\n",
       " 'https://www.amazon.in/gp/slredirect/picassoRedirect.html/ref=pa_sp_mtf_aps_sr_pg1_1?ie=UTF8&adId=A042850030V4VIM4NLGYG&url=%2FGibzs-38-C-Acoustic-Guitar-Natural%2Fdp%2FB07M8KBTX8%2Fref%3Dsr_1_21_sspa%3Fcrid%3D2IWOBNJ0A4QXD%26keywords%3Dguitar%26qid%3D1649160230%26sprefix%3Dguitar%252Caps%252C1002%26sr%3D8-21-spons%26psc%3D1&qualifier=1649160230&id=5012429980203617&widgetName=sp_mtf',\n",
       " 'https://www.amazon.in/gp/slredirect/picassoRedirect.html/ref=pa_sp_mtf_aps_sr_pg1_1?ie=UTF8&adId=A08790022Y5TKL7GOFMBU&url=%2FCort-AD810-Dreadnought-Acoustic-Guitar%2Fdp%2FB07KMBVR6V%2Fref%3Dsr_1_22_sspa%3Fcrid%3D2IWOBNJ0A4QXD%26keywords%3Dguitar%26qid%3D1649160230%26sprefix%3Dguitar%252Caps%252C1002%26sr%3D8-22-spons%26psc%3D1&qualifier=1649160230&id=5012429980203617&widgetName=sp_mtf',\n",
       " 'https://www.amazon.in/gp/slredirect/picassoRedirect.html/ref=pa_sp_mtf_aps_sr_pg1_1?ie=UTF8&adId=A0219834WH9EYVVGCBO&url=%2FCREATION-Rosewood-Fretboard-Acoustic-Guitar_Small%2Fdp%2FB09TQWJ7WF%2Fref%3Dsr_1_23_sspa%3Fcrid%3D2IWOBNJ0A4QXD%26keywords%3Dguitar%26qid%3D1649160230%26sprefix%3Dguitar%252Caps%252C1002%26sr%3D8-23-spons%26psc%3D1&qualifier=1649160230&id=5012429980203617&widgetName=sp_mtf',\n",
       " 'https://www.amazon.in/gp/slredirect/picassoRedirect.html/ref=pa_sp_mtf_aps_sr_pg1_1?ie=UTF8&adId=A00501533BU56DPCIQXHA&url=%2FBlueberry-B-D38-Acoustic-inbuilt-Strings%2Fdp%2FB07PCRZ1CD%2Fref%3Dsr_1_24_sspa%3Fcrid%3D2IWOBNJ0A4QXD%26keywords%3Dguitar%26qid%3D1649160230%26sprefix%3Dguitar%252Caps%252C1002%26sr%3D8-24-spons%26psc%3D1%26smid%3DA3HCWE0HCT5KDF&qualifier=1649160230&id=5012429980203617&widgetName=sp_mtf',\n",
       " 'https://www.amazon.in/JRZ-ST01-6-String-Electric-Sunburst-Without/dp/B01FYZSOEE/ref=sr_1_25?crid=2IWOBNJ0A4QXD&keywords=guitar&qid=1649160230&sprefix=guitar%2Caps%2C1002&sr=8-25',\n",
       " 'https://www.amazon.in/Yamaha-FS-100C-6-String-Acoustic-without/dp/B00PAS9CK6/ref=sr_1_26?crid=2IWOBNJ0A4QXD&keywords=guitar&qid=1649160230&sprefix=guitar%2Caps%2C1002&sr=8-26',\n",
       " 'https://www.amazon.in/Kadence-Frontier-Acoustic-Equalizer-Strings/dp/B01HRIHH9E/ref=sr_1_27?crid=2IWOBNJ0A4QXD&keywords=guitar&qid=1649160230&sprefix=guitar%2Caps%2C1002&sr=8-27',\n",
       " 'https://www.amazon.in/Ultimate-Concert-Cutaway-Acoustic-Bajaao/dp/B08WHWKKV5/ref=sr_1_28?crid=2IWOBNJ0A4QXD&keywords=guitar&qid=1649160230&sprefix=guitar%2Caps%2C1002&sr=8-28',\n",
       " 'https://www.amazon.in/Henrix-Cutaway-Acoustic-Die-cast-Dual-action/dp/B07VHSCGCG/ref=sr_1_29?crid=2IWOBNJ0A4QXD&keywords=guitar&qid=1649160230&sprefix=guitar%2Caps%2C1002&sr=8-29',\n",
       " 'https://www.amazon.in/Medellin-Acoustic-Guitar-Carbon-Learning/dp/B09MSGQQWX/ref=sr_1_30?crid=2IWOBNJ0A4QXD&keywords=guitar&qid=1649160230&smid=AM04Z7MH4HSDD&sprefix=guitar%2Caps%2C1002&sr=8-30',\n",
       " 'https://www.amazon.in/Kadence-Acoustica-Ash-Wood-Equlizer/dp/B0757H5P13/ref=sr_1_31?crid=2IWOBNJ0A4QXD&keywords=guitar&qid=1649160230&smid=AM04Z7MH4HSDD&sprefix=guitar%2Caps%2C1002&sr=8-31',\n",
       " 'https://www.amazon.in/Medellin-Acoustic-specailized-learning-beginners/dp/B09MSFP7JK/ref=sr_1_32?crid=2IWOBNJ0A4QXD&keywords=guitar&qid=1649160230&sprefix=guitar%2Caps%2C1002&sr=8-32',\n",
       " 'https://www.amazon.in/Acoustic-F280-Dreadnought-Plectrums-Natural/dp/B092TPXZRN/ref=sr_1_33?crid=2IWOBNJ0A4QXD&keywords=guitar&qid=1649160230&sprefix=guitar%2Caps%2C1002&sr=8-33',\n",
       " 'https://www.amazon.in/Kadence-Frontier-Acoustic-Guitar-Equalizer/dp/B01HRIHJWY/ref=sr_1_34?crid=2IWOBNJ0A4QXD&keywords=guitar&qid=1649160230&sprefix=guitar%2Caps%2C1002&sr=8-34',\n",
       " 'https://www.amazon.in/Kadence-Acoustica-Acoustic-Guitar-Zebra/dp/B07KXNKLJ2/ref=sr_1_35?crid=2IWOBNJ0A4QXD&keywords=guitar&qid=1649160230&sprefix=guitar%2Caps%2C1002&sr=8-35',\n",
       " 'https://www.amazon.in/Yamaha-FSX80C-Acoustic-Cutaway-Guitar/dp/B09HL5WFDX/ref=sr_1_36?crid=2IWOBNJ0A4QXD&keywords=guitar&qid=1649160230&sprefix=guitar%2Caps%2C1002&sr=8-36',\n",
       " 'https://www.amazon.in/Strings-Straps-String-winder-Polishing/dp/B07RV9FJ2Z/ref=sr_1_37?crid=2IWOBNJ0A4QXD&keywords=guitar&qid=1649160230&sprefix=guitar%2Caps%2C1002&sr=8-37',\n",
       " 'https://www.amazon.in/JUAREZ-JRZ38C-Acoustic-Sunburst-Strings/dp/B01FYYTDTU/ref=sr_1_38?crid=2IWOBNJ0A4QXD&keywords=guitar&qid=1649160230&sprefix=guitar%2Caps%2C1002&sr=8-38',\n",
       " 'https://www.amazon.in/JUAREZ-JRZ38C-Acoustic-Sunburst-Strings/dp/B01FYYTDS6/ref=sr_1_39?crid=2IWOBNJ0A4QXD&keywords=guitar&qid=1649160230&sprefix=guitar%2Caps%2C1002&sr=8-39',\n",
       " 'https://www.amazon.in/EA40-CE-Premium-Spruce-Top-Cutaway-Acoustic/dp/B08WHV1NN8/ref=sr_1_40?crid=2IWOBNJ0A4QXD&keywords=guitar&qid=1649160230&sprefix=guitar%2Caps%2C1002&sr=8-40',\n",
       " 'https://www.amazon.in/FX280-acoustic-Dreadnought-Tobacco-Sunburst/dp/B09HR7BXGW/ref=sr_1_41?crid=2IWOBNJ0A4QXD&keywords=guitar&qid=1649160230&sprefix=guitar%2Caps%2C1002&sr=8-41',\n",
       " 'https://www.amazon.in/Fender-0310005506-Stratocaster-6-Strings-Right-Handed/dp/B003AQ6YIS/ref=sr_1_42?crid=2IWOBNJ0A4QXD&keywords=guitar&qid=1649160230&sprefix=guitar%2Caps%2C1002&sr=8-42',\n",
       " 'https://www.amazon.in/Acoustic-Rosewood-Orientation-Antique-Natural/dp/B09W9W17X6/ref=sr_1_43?crid=2IWOBNJ0A4QXD&keywords=guitar&qid=1649160230&sprefix=guitar%2Caps%2C1002&sr=8-43',\n",
       " 'https://www.amazon.in/Soloist-Electric-Guitar-Die-cast-Dual-action/dp/B08F28DBTN/ref=sr_1_44?crid=2IWOBNJ0A4QXD&keywords=guitar&qid=1649160230&sprefix=guitar%2Caps%2C1002&sr=8-44',\n",
       " 'https://www.amazon.in/Kadence-ACOUSTICA-guitar-WALNUT-Acoustic/dp/B08PBKRK6L/ref=sr_1_45?crid=2IWOBNJ0A4QXD&keywords=guitar&qid=1649160230&sprefix=guitar%2Caps%2C1002&sr=8-45',\n",
       " 'https://www.amazon.in/Yamaha-FX280-acoustic-Dreadnought-Natural/dp/B09HR6BNFQ/ref=sr_1_46?crid=2IWOBNJ0A4QXD&keywords=guitar&qid=1649160230&sprefix=guitar%2Caps%2C1002&sr=8-46',\n",
       " 'https://www.amazon.in/FX280-acoustic-Dreadnought-Sunburst-Plectrums/dp/B09SD1N2YH/ref=sr_1_47?crid=2IWOBNJ0A4QXD&keywords=guitar&qid=1649160230&sprefix=guitar%2Caps%2C1002&sr=8-47',\n",
       " 'https://www.amazon.in/Yamaha-FSX80C-Acoustic-Cutaway-Natural/dp/B09HL3GFZF/ref=sr_1_48?crid=2IWOBNJ0A4QXD&keywords=guitar&qid=1649160230&sprefix=guitar%2Caps%2C1002&sr=8-48',\n",
       " 'https://www.amazon.in/Kadence-Frontier-Acoustic-Guitar-Strings/dp/B07T48VTZ1/ref=sr_1_49?crid=2IWOBNJ0A4QXD&keywords=guitar&qid=1649160230&sprefix=guitar%2Caps%2C1002&sr=8-49',\n",
       " 'https://www.amazon.in/JUAREZ-JRZ38CTR-BK-Acoustic-Guitar/dp/B08FTZK7H8/ref=sr_1_50?crid=2IWOBNJ0A4QXD&keywords=guitar&qid=1649160230&sprefix=guitar%2Caps%2C1002&sr=8-50',\n",
       " 'https://www.amazon.in/Fender-961702021-Dreadnought-Acoustic-Multicolor/dp/B01N4RWSX1/ref=sr_1_51?crid=2IWOBNJ0A4QXD&keywords=guitar&qid=1649160230&sprefix=guitar%2Caps%2C1002&sr=8-51',\n",
       " 'https://www.amazon.in/Intern-INT-38C-Acoustic-Guitar-Kit/dp/B073B6TF31/ref=sr_1_52?crid=2IWOBNJ0A4QXD&keywords=guitar&qid=1649160230&sprefix=guitar%2Caps%2C1002&sr=8-52',\n",
       " 'https://www.amazon.in/Yamaha-FS100C-Acoustic-Guitars-Natural/dp/B00QKD79QE/ref=sr_1_53?crid=2IWOBNJ0A4QXD&keywords=guitar&qid=1649160230&sprefix=guitar%2Caps%2C1002&sr=8-53',\n",
       " 'https://www.amazon.in/Yamaha-FS100C-Acoustic-Guitar-Natural/dp/B08Z3DVN8N/ref=sr_1_54?crid=2IWOBNJ0A4QXD&keywords=guitar&qid=1649160230&sprefix=guitar%2Caps%2C1002&sr=8-54',\n",
       " 'https://www.amazon.in/Electric-Acoustic-FX280-Dreadnought-Plectrums-Natural/dp/B09HSDVQDT/ref=sr_1_55?crid=2IWOBNJ0A4QXD&keywords=guitar&qid=1649160230&sprefix=guitar%2Caps%2C1002&sr=8-55',\n",
       " 'https://www.amazon.in/Yamaha-TRBX174-4-String-Electric-Guitar/dp/B00GOE82N8/ref=sr_1_56?crid=2IWOBNJ0A4QXD&keywords=guitar&qid=1649160230&sprefix=guitar%2Caps%2C1002&sr=8-56',\n",
       " 'https://www.amazon.in/gp/slredirect/picassoRedirect.html/ref=pa_sp_btf_aps_sr_pg1_1?ie=UTF8&adId=A02055132SF64AM9MYQQ8&url=%2FKadence-6-strings-Acoustic-Guitar-Natural%2Fdp%2FB07JKYWGJN%2Fref%3Dsr_1_57_sspa%3Fcrid%3D2IWOBNJ0A4QXD%26keywords%3Dguitar%26qid%3D1649160230%26sprefix%3Dguitar%252Caps%252C1002%26sr%3D8-57-spons%26psc%3D1&qualifier=1649160230&id=5012429980203617&widgetName=sp_btf',\n",
       " 'https://www.amazon.in/gp/slredirect/picassoRedirect.html/ref=pa_sp_btf_aps_sr_pg1_1?ie=UTF8&adId=A00511333B6LTZW3VVAX9&url=%2FBlueberry-Trussrod-Acoustic-Guitar-Sunburst%2Fdp%2FB08WH5553T%2Fref%3Dsr_1_58_sspa%3Fcrid%3D2IWOBNJ0A4QXD%26keywords%3Dguitar%26qid%3D1649160230%26sprefix%3Dguitar%252Caps%252C1002%26sr%3D8-58-spons%26psc%3D1&qualifier=1649160230&id=5012429980203617&widgetName=sp_btf',\n",
       " 'https://www.amazon.in/gp/slredirect/picassoRedirect.html/ref=pa_sp_btf_aps_sr_pg1_1?ie=UTF8&adId=A00510453201C43891NF7&url=%2FBlueberry-Acoustic-Guitar-Strings-Picks%2Fdp%2FB08L7NQB57%2Fref%3Dsr_1_59_sspa%3Fcrid%3D2IWOBNJ0A4QXD%26keywords%3Dguitar%26qid%3D1649160230%26sprefix%3Dguitar%252Caps%252C1002%26sr%3D8-59-spons%26psc%3D1&qualifier=1649160230&id=5012429980203617&widgetName=sp_btf',\n",
       " 'https://www.amazon.in/gp/slredirect/picassoRedirect.html/ref=pa_sp_btf_aps_sr_pg1_1?ie=UTF8&adId=A00519371WB8Y9V4VAJVI&url=%2FBlueberry-R-34-Acoustic-Inbuilt-Strings%2Fdp%2FB09WLP31PT%2Fref%3Dsr_1_60_sspa%3Fcrid%3D2IWOBNJ0A4QXD%26keywords%3Dguitar%26qid%3D1649160230%26sprefix%3Dguitar%252Caps%252C1002%26sr%3D8-60-spons%26psc%3D1&qualifier=1649160230&id=5012429980203617&widgetName=sp_btf',\n",
       " 'https://www.amazon.in/gp/slredirect/picassoRedirect.html/ref=pa_sp_atf_next_aps_sr_pg2_1?ie=UTF8&adId=A06782352ZD76UYOKJITE&url=%2FVault-Cutaway-acoustic-Guitar-Natural%2Fdp%2FB08WHGGSH9%2Fref%3Dsr_1_49_sspa%3Fcrid%3D2IWOBNJ0A4QXD%26keywords%3Dguitar%26qid%3D1649160247%26sprefix%3Dguitar%252Caps%252C1002%26sr%3D8-49-spons%26psc%3D1&qualifier=1649160247&id=7592872892217031&widgetName=sp_atf_next',\n",
       " 'https://www.amazon.in/gp/slredirect/picassoRedirect.html/ref=pa_sp_atf_next_aps_sr_pg2_1?ie=UTF8&adId=A038972414XQ4MRS3CVUL&url=%2FFestra-38C-Acoustic-Strings-Blueburst%2Fdp%2FB09VL14XG2%2Fref%3Dsr_1_50_sspa%3Fcrid%3D2IWOBNJ0A4QXD%26keywords%3Dguitar%26qid%3D1649160247%26sprefix%3Dguitar%252Caps%252C1002%26sr%3D8-50-spons%26psc%3D1&qualifier=1649160247&id=7592872892217031&widgetName=sp_atf_next',\n",
       " 'https://www.amazon.in/gp/slredirect/picassoRedirect.html/ref=pa_sp_atf_next_aps_sr_pg2_1?ie=UTF8&adId=A0389380H26H9F7XZW0U&url=%2FR-34-Acoustic-Inbuilt-Strings-Natural%2Fdp%2FB09WLS95DR%2Fref%3Dsr_1_51_sspa%3Fcrid%3D2IWOBNJ0A4QXD%26keywords%3Dguitar%26qid%3D1649160247%26sprefix%3Dguitar%252Caps%252C1002%26sr%3D8-51-spons%26psc%3D1&qualifier=1649160247&id=7592872892217031&widgetName=sp_atf_next',\n",
       " 'https://www.amazon.in/gp/slredirect/picassoRedirect.html/ref=pa_sp_atf_next_aps_sr_pg2_1?ie=UTF8&adId=A05692661O08N0QBDX429&url=%2FGUITAR-BRO-Acoustic-Beginner-Accessories%2Fdp%2FB07TC7TWCR%2Fref%3Dsr_1_52_sspa%3Fcrid%3D2IWOBNJ0A4QXD%26keywords%3Dguitar%26qid%3D1649160247%26sprefix%3Dguitar%252Caps%252C1002%26sr%3D8-52-spons%26psc%3D1&qualifier=1649160247&id=7592872892217031&widgetName=sp_atf_next',\n",
       " 'https://www.amazon.in/Fender-String-Cutaway-Acoustic-Guitar/dp/B07YX5W8MV/ref=sr_1_53?crid=2IWOBNJ0A4QXD&keywords=guitar&qid=1649160247&sprefix=guitar%2Caps%2C1002&sr=8-53',\n",
       " 'https://www.amazon.in/Kadence-Frontier-Acoustic-Natural-Equalizer/dp/B01I50UJG6/ref=sr_1_54?crid=2IWOBNJ0A4QXD&keywords=guitar&qid=1649160247&sprefix=guitar%2Caps%2C1002&sr=8-54',\n",
       " 'https://www.amazon.in/Intern-INT-38C-RD-G-Guitar-Kit-Red/dp/B07K959RKX/ref=sr_1_55?crid=2IWOBNJ0A4QXD&keywords=guitar&qid=1649160247&sprefix=guitar%2Caps%2C1002&sr=8-55',\n",
       " 'https://www.amazon.in/Yamaha-PAC012-Electric-Guitar-Metallic/dp/B000MLY7XS/ref=sr_1_56?crid=2IWOBNJ0A4QXD&keywords=guitar&qid=1649160247&sprefix=guitar%2Caps%2C1002&sr=8-56',\n",
       " 'https://www.amazon.in/Ketostics%C2%AE-Givson-Special-Acoustic-Plectrums/dp/B09P51C43J/ref=sr_1_57?crid=2IWOBNJ0A4QXD&keywords=guitar&qid=1649160247&sprefix=guitar%2Caps%2C1002&sr=8-57',\n",
       " 'https://www.amazon.in/Vault-Artisan-Premium-Acoustic-Guitar/dp/B09P179GCM/ref=sr_1_58?crid=2IWOBNJ0A4QXD&keywords=guitar&qid=1649160247&sprefix=guitar%2Caps%2C1002&sr=8-58',\n",
       " 'https://www.amazon.in/HL1-Headless-Electric-Guitar-GigBag/dp/B09Q32YH9T/ref=sr_1_49?crid=2IWOBNJ0A4QXD&keywords=guitar&qid=1649160247&sprefix=guitar%2Caps%2C1002&sr=8-49',\n",
       " 'https://www.amazon.in/Fender-Squier-Stratocaster-Electric-Guitar/dp/B07T2R7PGY/ref=sr_1_50?crid=2IWOBNJ0A4QXD&keywords=guitar&qid=1649160247&sprefix=guitar%2Caps%2C1002&sr=8-50',\n",
       " 'https://www.amazon.in/Sterling-MusicMan-Solid-Body-Electric-SR30-SBK-R1/dp/B07NQ5J8NY/ref=sr_1_51?crid=2IWOBNJ0A4QXD&keywords=guitar&qid=1649160247&sprefix=guitar%2Caps%2C1002&sr=8-51',\n",
       " 'https://www.amazon.in/Ibanez-GSR180-Strings-Electric-Sunburst/dp/B000RW5PXI/ref=sr_1_52?crid=2IWOBNJ0A4QXD&keywords=guitar&qid=1649160247&sprefix=guitar%2Caps%2C1002&sr=8-52',\n",
       " 'https://www.amazon.in/Performer-Mahogany-Premium-Electro-Acoustic/dp/B09P1CNHML/ref=sr_1_53?crid=2IWOBNJ0A4QXD&keywords=guitar&qid=1649160247&sprefix=guitar%2Caps%2C1002&sr=8-53',\n",
       " 'https://www.amazon.in/Kadence-Chronicle-Electric-Natural-Control/dp/B071YF4P7D/ref=sr_1_54?crid=2IWOBNJ0A4QXD&keywords=guitar&qid=1649160247&sprefix=guitar%2Caps%2C1002&sr=8-54',\n",
       " 'https://www.amazon.in/Fender-091170170-Acoustic-Guitar/dp/B08PMT53X7/ref=sr_1_55?crid=2IWOBNJ0A4QXD&keywords=guitar&qid=1649160247&sprefix=guitar%2Caps%2C1002&sr=8-55',\n",
       " 'https://www.amazon.in/Yamaha-F310-Acoustic-Guitar-Natural/dp/B08Z3C1GRM/ref=sr_1_56?crid=2IWOBNJ0A4QXD&keywords=guitar&qid=1649160247&sprefix=guitar%2Caps%2C1002&sr=8-56',\n",
       " 'https://www.amazon.in/Yamaha-Classical-Guitar-C40-02/dp/B003UGCUFE/ref=sr_1_57?crid=2IWOBNJ0A4QXD&keywords=guitar&qid=1649160247&sprefix=guitar%2Caps%2C1002&sr=8-57',\n",
       " 'https://www.amazon.in/Medellin-Acoustic-specailized-learning-beginners/dp/B09MSGN39M/ref=sr_1_58?crid=2IWOBNJ0A4QXD&keywords=guitar&qid=1649160247&sprefix=guitar%2Caps%2C1002&sr=8-58',\n",
       " 'https://www.amazon.in/gp/slredirect/picassoRedirect.html/ref=pa_sp_mtf_aps_sr_pg2_1?ie=UTF8&adId=A06233216DI6EST708AM&url=%2FVD-ENTERPRISE-Adjustable-Classical-Instrument%2Fdp%2FB08S323L6W%2Fref%3Dsr_1_59_sspa%3Fcrid%3D2IWOBNJ0A4QXD%26keywords%3Dguitar%26qid%3D1649160247%26sprefix%3Dguitar%252Caps%252C1002%26sr%3D8-59-spons%26psc%3D1&qualifier=1649160247&id=7592872892217031&widgetName=sp_mtf',\n",
       " 'https://www.amazon.in/gp/slredirect/picassoRedirect.html/ref=pa_sp_mtf_aps_sr_pg2_1?ie=UTF8&adId=A005060933N72QM4D65QO&url=%2FBlueberry-Acoustic-Guitar-Inbuilt-Strings%2Fdp%2FB07PHZ16BG%2Fref%3Dsr_1_60_sspa%3Fcrid%3D2IWOBNJ0A4QXD%26keywords%3Dguitar%26qid%3D1649160247%26sprefix%3Dguitar%252Caps%252C1002%26sr%3D8-60-spons%26psc%3D1&qualifier=1649160247&id=7592872892217031&widgetName=sp_mtf',\n",
       " 'https://www.amazon.in/gp/slredirect/picassoRedirect.html/ref=pa_sp_mtf_aps_sr_pg2_1?ie=UTF8&adId=A00514692TXMJRBSQHC6F&url=%2FBlueberry-Acoustic-Guitar-Strings-Redburst%2Fdp%2FB09N9R525J%2Fref%3Dsr_1_61_sspa%3Fcrid%3D2IWOBNJ0A4QXD%26keywords%3Dguitar%26qid%3D1649160247%26sprefix%3Dguitar%252Caps%252C1002%26sr%3D8-61-spons%26psc%3D1&qualifier=1649160247&id=7592872892217031&widgetName=sp_mtf',\n",
       " 'https://www.amazon.in/gp/slredirect/picassoRedirect.html/ref=pa_sp_mtf_aps_sr_pg2_1?ie=UTF8&adId=A0051781CZ5EMAAQHR9T&url=%2FBlueberry-Trussrod-Acoustic-Strings-Natural%2Fdp%2FB09WLNQFC9%2Fref%3Dsr_1_62_sspa%3Fcrid%3D2IWOBNJ0A4QXD%26keywords%3Dguitar%26qid%3D1649160247%26sprefix%3Dguitar%252Caps%252C1002%26sr%3D8-62-spons%26psc%3D1&qualifier=1649160247&id=7592872892217031&widgetName=sp_mtf',\n",
       " 'https://www.amazon.in/Yamaha-Acoustic-Guitar-Dreadnought-Plectrums/dp/B094H8NGBM/ref=sr_1_63?crid=2IWOBNJ0A4QXD&keywords=guitar&qid=1649160247&sprefix=guitar%2Caps%2C1002&sr=8-63',\n",
       " 'https://www.amazon.in/Ibanez-Acoustic-Guitar-Handed-Cutaway/dp/B08FMW6WJM/ref=sr_1_64?crid=2IWOBNJ0A4QXD&keywords=guitar&qid=1649160247&sprefix=guitar%2Caps%2C1002&sr=8-64',\n",
       " 'https://www.amazon.in/Medellin-Acoustic-Guitar-Carbon-Learning/dp/B09MSGVCDV/ref=sr_1_65?crid=2IWOBNJ0A4QXD&keywords=guitar&qid=1649160247&sprefix=guitar%2Caps%2C1002&sr=8-65',\n",
       " 'https://www.amazon.in/Intern-INT-38C-Acoustic-Guitar-Natural/dp/B073B4D22T/ref=sr_1_66?crid=2IWOBNJ0A4QXD&keywords=guitar&qid=1649160247&sprefix=guitar%2Caps%2C1002&sr=8-66',\n",
       " 'https://www.amazon.in/Yamaha-F310-TBS-Acoustic-Sunburst-6-Strings/dp/B01LXMFUSM/ref=sr_1_67?crid=2IWOBNJ0A4QXD&keywords=guitar&qid=1649160247&sprefix=guitar%2Caps%2C1002&sr=8-67',\n",
       " 'https://www.amazon.in/Cort-AD810-Dreadnought-Acoustic-Guitar/dp/B07KMBVR6V/ref=sr_1_68?crid=2IWOBNJ0A4QXD&keywords=guitar&qid=1649160247&sprefix=guitar%2Caps%2C1002&sr=8-68',\n",
       " 'https://www.amazon.in/Cort-SFX-MEM-Electro-Acoustic-Guitar/dp/B0915ZCZWK/ref=sr_1_69?crid=2IWOBNJ0A4QXD&keywords=guitar&qid=1649160247&sprefix=guitar%2Caps%2C1002&sr=8-69',\n",
       " 'https://www.amazon.in/Kadence-6-strings-Acoustic-Guitar-Natural/dp/B07JKYWGJN/ref=sr_1_70?crid=2IWOBNJ0A4QXD&keywords=guitar&qid=1649160247&sprefix=guitar%2Caps%2C1002&sr=8-70',\n",
       " 'https://www.amazon.in/Traveller-Acoustic-Guitar-Strings-Polishing/dp/B07RK9962M/ref=sr_1_71?crid=2IWOBNJ0A4QXD&keywords=guitar&qid=1649160247&sprefix=guitar%2Caps%2C1002&sr=8-71',\n",
       " 'https://www.amazon.in/Fender-FA135CE-Electric-Acoustic-Plectrums/dp/B09NHP7FPF/ref=sr_1_72?crid=2IWOBNJ0A4QXD&keywords=guitar&qid=1649160247&sprefix=guitar%2Caps%2C1002&sr=8-72',\n",
       " 'https://www.amazon.in/PRS-Guitars-Acoustic-AXM20EGB-NA/dp/B09K5NMD7V/ref=sr_1_73?crid=2IWOBNJ0A4QXD&keywords=guitar&qid=1649160247&sprefix=guitar%2Caps%2C1002&sr=8-73',\n",
       " 'https://www.amazon.in/Epiphone-AJ-220S-Acoustic-Vintage-Sunburst/dp/B003TZGAHU/ref=sr_1_74?crid=2IWOBNJ0A4QXD&keywords=guitar&qid=1649160247&sprefix=guitar%2Caps%2C1002&sr=8-74',\n",
       " 'https://www.amazon.in/Granada-Acoustic-Dreadnought-PRLD-14C-F-Black/dp/B09JBWZG14/ref=sr_1_75?crid=2IWOBNJ0A4QXD&keywords=guitar&qid=1649160247&sprefix=guitar%2Caps%2C1002&sr=8-75',\n",
       " 'https://www.amazon.in/YAMAHA-WINNING-F280-Acoustic-Natural/dp/B0842J4VYL/ref=sr_1_76?crid=2IWOBNJ0A4QXD&keywords=guitar&qid=1649160247&sprefix=guitar%2Caps%2C1002&sr=8-76',\n",
       " 'https://www.amazon.in/Cort-X100-6-String-Electric-Guitar/dp/B07QKWFTK1/ref=sr_1_77?crid=2IWOBNJ0A4QXD&keywords=guitar&qid=1649160247&sprefix=guitar%2Caps%2C1002&sr=8-77',\n",
       " 'https://www.amazon.in/Epiphone-String-Electric-Passion-Metallic/dp/B0892S4JVX/ref=sr_1_78?crid=2IWOBNJ0A4QXD&keywords=guitar&qid=1649160247&sprefix=guitar%2Caps%2C1002&sr=8-78',\n",
       " 'https://www.amazon.in/Kramer-Baretta-Special-strings-Electric/dp/B005O6590G/ref=sr_1_79?crid=2IWOBNJ0A4QXD&keywords=guitar&qid=1649160247&sprefix=guitar%2Caps%2C1002&sr=8-79',\n",
       " 'https://www.amazon.in/Yamaha-F310Cover-Acoustic-Natural-6-Strings/dp/B01LXMGHL5/ref=sr_1_80?crid=2IWOBNJ0A4QXD&keywords=guitar&qid=1649160247&sprefix=guitar%2Caps%2C1002&sr=8-80',\n",
       " 'https://www.amazon.in/Ibanez-GSA60-Electric-Guitar-Black/dp/B0002F4WLG/ref=sr_1_81?crid=2IWOBNJ0A4QXD&keywords=guitar&qid=1649160247&sprefix=guitar%2Caps%2C1002&sr=8-81',\n",
       " 'https://www.amazon.in/Fender-CD-60SCE-Dreadnought-Acoustic-Guitar/dp/B07FYQP9ML/ref=sr_1_82?crid=2IWOBNJ0A4QXD&keywords=guitar&qid=1649160247&sprefix=guitar%2Caps%2C1002&sr=8-82',\n",
       " 'https://www.amazon.in/YAMAHA-NATURAL-CONCERT-CUTAWAY-GUITAR/dp/B08KW4DRKL/ref=sr_1_83?crid=2IWOBNJ0A4QXD&keywords=guitar&qid=1649160247&sprefix=guitar%2Caps%2C1002&sr=8-83',\n",
       " 'https://www.amazon.in/Yamaha-Acoustic-Guitar-Tobacco-Sunburst/dp/B08Z35ZR9Y/ref=sr_1_84?crid=2IWOBNJ0A4QXD&keywords=guitar&qid=1649160247&sprefix=guitar%2Caps%2C1002&sr=8-84',\n",
       " 'https://www.amazon.in/Ortega-electric-acoustic-guitar-string/dp/B095Y5RT17/ref=sr_1_85?crid=2IWOBNJ0A4QXD&keywords=guitar&qid=1649160247&sprefix=guitar%2Caps%2C1002&sr=8-85',\n",
       " 'https://www.amazon.in/Yamaha-6-Strings-Acoustic-YAMAHAF310TBS-Sunburst/dp/B07ZVQ4ZCK/ref=sr_1_86?crid=2IWOBNJ0A4QXD&keywords=guitar&qid=1649160247&sprefix=guitar%2Caps%2C1002&sr=8-86',\n",
       " 'https://www.amazon.in/NEWEN-Telecaster-Electric-Guitar-Argentina/dp/B09B61SKKX/ref=sr_1_87?crid=2IWOBNJ0A4QXD&keywords=guitar&qid=1649160247&sprefix=guitar%2Caps%2C1002&sr=8-87',\n",
       " 'https://www.amazon.in/Kadence-Professional-Guitar-Years-Strings/dp/B07YZK5B2Z/ref=sr_1_88?crid=2IWOBNJ0A4QXD&keywords=guitar&qid=1649160247&sprefix=guitar%2Caps%2C1002&sr=8-88',\n",
       " 'https://www.amazon.in/Fender-Dread-String-Acoustic-Guitar/dp/B07RM21D8X/ref=sr_1_89?crid=2IWOBNJ0A4QXD&keywords=guitar&qid=1649160247&sprefix=guitar%2Caps%2C1002&sr=8-89',\n",
       " 'https://www.amazon.in/Kadence-Electric-Guitar-Rosewood-Fretboard/dp/B07BGW6JVL/ref=sr_1_90?crid=2IWOBNJ0A4QXD&keywords=guitar&qid=1649160247&sprefix=guitar%2Caps%2C1002&sr=8-90',\n",
       " 'https://www.amazon.in/Epiphone-String-Handed-Electric-Metallic/dp/B0881Y6619/ref=sr_1_91?crid=2IWOBNJ0A4QXD&keywords=guitar&qid=1649160247&sprefix=guitar%2Caps%2C1002&sr=8-91',\n",
       " 'https://www.amazon.in/Fender-FA-235E-Concert-Bodied-Acoustic/dp/B07BCQ7P7Z/ref=sr_1_92?crid=2IWOBNJ0A4QXD&keywords=guitar&qid=1649160247&sprefix=guitar%2Caps%2C1002&sr=8-92',\n",
       " 'https://www.amazon.in/Fender-FA-125-Dreadnought-Acoustic-Guitar/dp/B0965DK72K/ref=sr_1_93?crid=2IWOBNJ0A4QXD&keywords=guitar&qid=1649160247&sprefix=guitar%2Caps%2C1002&sr=8-93',\n",
       " 'https://www.amazon.in/PRS-Guitars-Electric-Guitar-Custom/dp/B08T7PYWDV/ref=sr_1_94?crid=2IWOBNJ0A4QXD&keywords=guitar&qid=1649160247&sprefix=guitar%2Caps%2C1002&sr=8-94',\n",
       " 'https://www.amazon.in/gp/slredirect/picassoRedirect.html/ref=pa_sp_btf_aps_sr_pg2_1?ie=UTF8&adId=A00513451NPSOUKP9NKFP&url=%2FBlueberry-Trussrod-Acoustic-Classic-Brown%2Fdp%2FB09VLF7G2D%2Fref%3Dsr_1_95_sspa%3Fcrid%3D2IWOBNJ0A4QXD%26keywords%3Dguitar%26qid%3D1649160247%26sprefix%3Dguitar%252Caps%252C1002%26sr%3D8-95-spons%26psc%3D1&qualifier=1649160247&id=7592872892217031&widgetName=sp_btf',\n",
       " 'https://www.amazon.in/gp/slredirect/picassoRedirect.html/ref=pa_sp_btf_aps_sr_pg2_1?ie=UTF8&adId=A00514452JKYA7IP4JEAA&url=%2FBlueberry-Trussrod-Acoustic-Classic-Maroon%2Fdp%2FB09VLF8B8G%2Fref%3Dsr_1_96_sspa%3Fcrid%3D2IWOBNJ0A4QXD%26keywords%3Dguitar%26qid%3D1649160247%26sprefix%3Dguitar%252Caps%252C1002%26sr%3D8-96-spons%26psc%3D1&qualifier=1649160247&id=7592872892217031&widgetName=sp_btf',\n",
       " 'https://www.amazon.in/gp/slredirect/picassoRedirect.html/ref=pa_sp_btf_aps_sr_pg2_1?ie=UTF8&adId=A0049661OA1A59SHEFCK&url=%2FBlueberry-38C-Acoustic-Strings-Natural%2Fdp%2FB08KLNFL2Y%2Fref%3Dsr_1_97_sspa%3Fcrid%3D2IWOBNJ0A4QXD%26keywords%3Dguitar%26qid%3D1649160247%26sprefix%3Dguitar%252Caps%252C1002%26sr%3D8-97-spons%26psc%3D1&qualifier=1649160247&id=7592872892217031&widgetName=sp_btf',\n",
       " 'https://www.amazon.in/gp/slredirect/picassoRedirect.html/ref=pa_sp_btf_aps_sr_pg2_1?ie=UTF8&adId=A0049561XBD14Z9O6GXG&url=%2FBlueberry-38C-Acoustic-Guitar-Strings%2Fdp%2FB08KLMV4XX%2Fref%3Dsr_1_98_sspa%3Fcrid%3D2IWOBNJ0A4QXD%26keywords%3Dguitar%26qid%3D1649160247%26sprefix%3Dguitar%252Caps%252C1002%26sr%3D8-98-spons%26psc%3D1&qualifier=1649160247&id=7592872892217031&widgetName=sp_btf',\n",
       " 'https://www.amazon.in/gp/slredirect/picassoRedirect.html/ref=pa_sp_atf_next_aps_sr_pg3_1?ie=UTF8&adId=A09610753VGW0EUUEOMBV&url=%2FPremium-Spruce-Top-Cutaway-Acoustic-Guitar%2Fdp%2FB08FFZY6BJ%2Fref%3Dsr_1_97_sspa%3Fcrid%3D2IWOBNJ0A4QXD%26keywords%3Dguitar%26qid%3D1649160253%26sprefix%3Dguitar%252Caps%252C1002%26sr%3D8-97-spons%26psc%3D1&qualifier=1649160253&id=8105358489376651&widgetName=sp_atf_next',\n",
       " 'https://www.amazon.in/gp/slredirect/picassoRedirect.html/ref=pa_sp_atf_next_aps_sr_pg3_1?ie=UTF8&adId=A094551630GZUK72DI20I&url=%2FFestra-38C-Acoustic-Strings-Natural%2Fdp%2FB09JT6C952%2Fref%3Dsr_1_98_sspa%3Fcrid%3D2IWOBNJ0A4QXD%26keywords%3Dguitar%26qid%3D1649160253%26sprefix%3Dguitar%252Caps%252C1002%26sr%3D8-98-spons%26psc%3D1&qualifier=1649160253&id=8105358489376651&widgetName=sp_atf_next',\n",
       " 'https://www.amazon.in/gp/slredirect/picassoRedirect.html/ref=pa_sp_atf_next_aps_sr_pg3_1?ie=UTF8&adId=A00509452PRWWAB4R1U98&url=%2FBlueberry-B-D38-Acoustic-Inbuilt-Strings%2Fdp%2FB07PGV8VCB%2Fref%3Dsr_1_99_sspa%3Fcrid%3D2IWOBNJ0A4QXD%26keywords%3Dguitar%26qid%3D1649160253%26sprefix%3Dguitar%252Caps%252C1002%26sr%3D8-99-spons%26psc%3D1&qualifier=1649160253&id=8105358489376651&widgetName=sp_atf_next',\n",
       " 'https://www.amazon.in/gp/slredirect/picassoRedirect.html/ref=pa_sp_atf_next_aps_sr_pg3_1?ie=UTF8&adId=A00505533US57S2BBM7O7&url=%2FBlueberry-40Inches-Acoustic-inbuilt-Sunburst%2Fdp%2FB07PHFXH6W%2Fref%3Dsr_1_100_sspa%3Fcrid%3D2IWOBNJ0A4QXD%26keywords%3Dguitar%26qid%3D1649160253%26sprefix%3Dguitar%252Caps%252C1002%26sr%3D8-100-spons%26psc%3D1&qualifier=1649160253&id=8105358489376651&widgetName=sp_atf_next',\n",
       " 'https://www.amazon.in/Vault-Strat-String-Electric-Guitar/dp/B08F23L4BX/ref=sr_1_101?crid=2IWOBNJ0A4QXD&keywords=guitar&qid=1649160253&sprefix=guitar%2Caps%2C1002&sr=8-101',\n",
       " 'https://www.amazon.in/Cort-AD810-OP-Acoustic-Guitar-Brown/dp/B00VQ7YDCM/ref=sr_1_102?crid=2IWOBNJ0A4QXD&keywords=guitar&qid=1649160253&sprefix=guitar%2Caps%2C1002&sr=8-102',\n",
       " 'https://www.amazon.in/Acoustic-Electric-Tobacco-Sunburst-PPE20SATS/dp/B08S96XKYT/ref=sr_1_103?crid=2IWOBNJ0A4QXD&keywords=guitar&qid=1649160253&sprefix=guitar%2Caps%2C1002&sr=8-103',\n",
       " 'https://www.amazon.in/Tanglewood-Crossroads-Acoustic-Strings-Dreadnought/dp/B01BFEQFDU/ref=sr_1_104?crid=2IWOBNJ0A4QXD&keywords=guitar&qid=1649160253&sprefix=guitar%2Caps%2C1002&sr=8-104',\n",
       " 'https://www.amazon.in/G3-Presents-F280-Acoustic-Natural/dp/B088NPMMTK/ref=sr_1_105?crid=2IWOBNJ0A4QXD&keywords=guitar&qid=1649160253&sprefix=guitar%2Caps%2C1002&sr=8-105',\n",
       " 'https://www.amazon.in/JUAREZ-Arpeggio-Semi-Acoustic-Rosewood-Fretboard/dp/B08LBG3F36/ref=sr_1_106?crid=2IWOBNJ0A4QXD&keywords=guitar&qid=1649160253&sprefix=guitar%2Caps%2C1002&sr=8-106',\n",
       " 'https://www.amazon.in/Pluto-HW39-201P-Electro-Acoustic-Guitar/dp/B08W8QL2PK/ref=sr_1_97?crid=2IWOBNJ0A4QXD&keywords=guitar&qid=1649160253&sprefix=guitar%2Caps%2C1002&sr=8-97',\n",
       " 'https://www.amazon.in/NEWEN-Stratocaster-Electric-Guitar-Argentina/dp/B09SWVD6JP/ref=sr_1_98?crid=2IWOBNJ0A4QXD&keywords=guitar&qid=1649160253&sprefix=guitar%2Caps%2C1002&sr=8-98',\n",
       " 'https://www.amazon.in/Aria-Meranti-Thin-Body-Cutaway-Acoustic/dp/B08NYBFFWL/ref=sr_1_99?crid=2IWOBNJ0A4QXD&keywords=guitar&qid=1649160253&sprefix=guitar%2Caps%2C1002&sr=8-99',\n",
       " 'https://www.amazon.in/Fender-FA-125CE-Dreadnought-Cutaway-Acoustic-Electric/dp/B07MQWNNK9/ref=sr_1_100?crid=2IWOBNJ0A4QXD&keywords=guitar&qid=1649160253&sprefix=guitar%2Caps%2C1002&sr=8-100',\n",
       " 'https://www.amazon.in/Yamaha-Pacifica-PAC012-Electric-Guitar/dp/B00123DQT6/ref=sr_1_101?crid=2IWOBNJ0A4QXD&keywords=guitar&qid=1649160253&sprefix=guitar%2Caps%2C1002&sr=8-101',\n",
       " 'https://www.amazon.in/Epiphone-Classic-String-Electric-ELCSWGNH/dp/B085NGLLD2/ref=sr_1_102?crid=2IWOBNJ0A4QXD&keywords=guitar&qid=1649160253&sprefix=guitar%2Caps%2C1002&sr=8-102',\n",
       " 'https://www.amazon.in/Yamaha-FS100C-6-Strings-Acoustic-Plectrums/dp/B085MFW67Z/ref=sr_1_103?crid=2IWOBNJ0A4QXD&keywords=guitar&qid=1649160253&sprefix=guitar%2Caps%2C1002&sr=8-103',\n",
       " 'https://www.amazon.in/Ibanez-IBA-MD39CNT-Acoustic-Guitar-MD39C-NT/dp/B07G4CCMYL/ref=sr_1_104?crid=2IWOBNJ0A4QXD&keywords=guitar&qid=1649160253&sprefix=guitar%2Caps%2C1002&sr=8-104',\n",
       " 'https://www.amazon.in/RockJam-RJEG02-SK-BK-Electric-Guitar-Starter/dp/B01M66OZ0V/ref=sr_1_105?crid=2IWOBNJ0A4QXD&keywords=guitar&qid=1649160253&sprefix=guitar%2Caps%2C1002&sr=8-105',\n",
       " 'https://www.amazon.in/Yamaha-PACIFICA012-Electric-Guitar-Metallic/dp/B00REF6CII/ref=sr_1_106?crid=2IWOBNJ0A4QXD&keywords=guitar&qid=1649160253&sprefix=guitar%2Caps%2C1002&sr=8-106',\n",
       " 'https://www.amazon.in/gp/slredirect/picassoRedirect.html/ref=pa_sp_mtf_aps_sr_pg3_1?ie=UTF8&adId=A0544814GMYG4B2WGTJ6&url=%2FGUITAR-BRO-Acoustic-Beginner-Accessories%2Fdp%2FB07T84GC8L%2Fref%3Dsr_1_107_sspa%3Fcrid%3D2IWOBNJ0A4QXD%26keywords%3Dguitar%26qid%3D1649160253%26sprefix%3Dguitar%252Caps%252C1002%26sr%3D8-107-spons%26psc%3D1&qualifier=1649160253&id=8105358489376651&widgetName=sp_mtf',\n",
       " 'https://www.amazon.in/gp/slredirect/picassoRedirect.html/ref=pa_sp_mtf_aps_sr_pg3_1?ie=UTF8&adId=A00508893VYEET1TWIJ61&url=%2FBlueberry-B-G41S-Acoustic-Inbuilt-Strings%2Fdp%2FB07PKQGC3D%2Fref%3Dsr_1_108_sspa%3Fcrid%3D2IWOBNJ0A4QXD%26keywords%3Dguitar%26qid%3D1649160253%26sprefix%3Dguitar%252Caps%252C1002%26sr%3D8-108-spons%26psc%3D1&qualifier=1649160253&id=8105358489376651&widgetName=sp_mtf',\n",
       " 'https://www.amazon.in/gp/slredirect/picassoRedirect.html/ref=pa_sp_mtf_aps_sr_pg3_1?ie=UTF8&adId=A00571736LVE00ONYVW0&url=%2FBlueberry-B-D38-Acoustic-Inbuilt-Sunburst%2Fdp%2FB08LNP8KGS%2Fref%3Dsr_1_109_sspa%3Fcrid%3D2IWOBNJ0A4QXD%26keywords%3Dguitar%26qid%3D1649160253%26sprefix%3Dguitar%252Caps%252C1002%26sr%3D8-109-spons%26psc%3D1&qualifier=1649160253&id=8105358489376651&widgetName=sp_mtf',\n",
       " 'https://www.amazon.in/gp/slredirect/picassoRedirect.html/ref=pa_sp_mtf_aps_sr_pg3_1?ie=UTF8&adId=A00497171W5X8ZPSW04BM&url=%2FBlueberry-Acoustic-Guitar-Strings-Sunburst%2Fdp%2FB08L7XJQQ1%2Fref%3Dsr_1_110_sspa%3Fcrid%3D2IWOBNJ0A4QXD%26keywords%3Dguitar%26qid%3D1649160253%26sprefix%3Dguitar%252Caps%252C1002%26sr%3D8-110-spons%26psc%3D1&qualifier=1649160253&id=8105358489376651&widgetName=sp_mtf',\n",
       " 'https://www.amazon.in/Fender-60S-Dreadnought-Acoustic-Guitar/dp/B01MRA2W8L/ref=sr_1_111?crid=2IWOBNJ0A4QXD&keywords=guitar&qid=1649160253&sprefix=guitar%2Caps%2C1002&sr=8-111',\n",
       " 'https://www.amazon.in/crown-spceil-musical-acoustic-guitar/dp/B08H87BTDP/ref=sr_1_112?crid=2IWOBNJ0A4QXD&keywords=guitar&qid=1649160253&sprefix=guitar%2Caps%2C1002&sr=8-112',\n",
       " 'https://www.amazon.in/Epiphone-Studio-String-Electric-Inspired/dp/B085HQ718N/ref=sr_1_113?crid=2IWOBNJ0A4QXD&keywords=guitar&qid=1649160253&sprefix=guitar%2Caps%2C1002&sr=8-113',\n",
       " 'https://www.amazon.in/Yamaha-Electric-Acoustic-FSX80C-Dreadnought-Plectrums/dp/B09HSJ6GPQ/ref=sr_1_114?crid=2IWOBNJ0A4QXD&keywords=guitar&qid=1649160253&sprefix=guitar%2Caps%2C1002&sr=8-114',\n",
       " 'https://www.amazon.in/Standzo-FSX80C-Electric-Acoustic-Guitar-Plectrum/dp/B09HTXQTWL/ref=sr_1_115?crid=2IWOBNJ0A4QXD&keywords=guitar&qid=1649160253&sprefix=guitar%2Caps%2C1002&sr=8-115',\n",
       " 'https://www.amazon.in/Kadence-Classical-Acoustic-Beginner-Professional/dp/B09M3J192L/ref=sr_1_116?crid=2IWOBNJ0A4QXD&keywords=guitar&qid=1649160253&sprefix=guitar%2Caps%2C1002&sr=8-116',\n",
       " 'https://www.amazon.in/Yamaha-Electric-Pacifica-PAC012-Plectrums/dp/B09B2R3PP9/ref=sr_1_117?crid=2IWOBNJ0A4QXD&keywords=guitar&qid=1649160253&sprefix=guitar%2Caps%2C1002&sr=8-117',\n",
       " 'https://www.amazon.in/PRS-Guitars-Electric-Standard-ST4VC/dp/B08X4MQ86N/ref=sr_1_118?crid=2IWOBNJ0A4QXD&keywords=guitar&qid=1649160253&sprefix=guitar%2Caps%2C1002&sr=8-118',\n",
       " 'https://www.amazon.in/Kadence-Chronicle-Electric-Guitar-Control/dp/B071CVY9MZ/ref=sr_1_119?crid=2IWOBNJ0A4QXD&keywords=guitar&qid=1649160253&sprefix=guitar%2Caps%2C1002&sr=8-119',\n",
       " 'https://www.amazon.in/Epiphone-String-Handed-Electric-Metallic/dp/B0881X3Z4C/ref=sr_1_120?crid=2IWOBNJ0A4QXD&keywords=guitar&qid=1649160253&sprefix=guitar%2Caps%2C1002&sr=8-120',\n",
       " 'https://www.amazon.in/Acoustic-Cutaway-RDS-Strings-Sunburst/dp/B076QGY91P/ref=sr_1_121?crid=2IWOBNJ0A4QXD&keywords=guitar&qid=1649160253&sprefix=guitar%2Caps%2C1002&sr=8-121',\n",
       " 'https://www.amazon.in/Les-Paul-SL-Sunset-Yellow/dp/B075BVT6Q1/ref=sr_1_122?crid=2IWOBNJ0A4QXD&keywords=guitar&qid=1649160253&sprefix=guitar%2Caps%2C1002&sr=8-122',\n",
       " 'https://www.amazon.in/Fender-SA105CEBK-Acoustic-Guitar/dp/B01N6KME9M/ref=sr_1_123?crid=2IWOBNJ0A4QXD&keywords=guitar&qid=1649160253&sprefix=guitar%2Caps%2C1002&sr=8-123',\n",
       " 'https://www.amazon.in/Intern-INT-38C-SB-G-Guitar-Kit-Sunburst/dp/B07K8WLPLH/ref=sr_1_124?crid=2IWOBNJ0A4QXD&keywords=guitar&qid=1649160253&sprefix=guitar%2Caps%2C1002&sr=8-124',\n",
       " 'https://www.amazon.in/Yamaha-C40MII-Acoustic-Concert-Guitar/dp/B005LG2JRK/ref=sr_1_125?crid=2IWOBNJ0A4QXD&keywords=guitar&qid=1649160253&sprefix=guitar%2Caps%2C1002&sr=8-125',\n",
       " 'https://www.amazon.in/FS100C-6-Strings-Acoustic-Plectrums-Natural/dp/B085MDF8D4/ref=sr_1_126?crid=2IWOBNJ0A4QXD&keywords=guitar&qid=1649160253&sprefix=guitar%2Caps%2C1002&sr=8-126',\n",
       " 'https://www.amazon.in/Yamaha-Acoustic-Guitar-Tobacco-Sunburst/dp/B08VXR74Q2/ref=sr_1_127?crid=2IWOBNJ0A4QXD&keywords=guitar&qid=1649160253&sprefix=guitar%2Caps%2C1002&sr=8-127',\n",
       " 'https://www.amazon.in/Fender-SA105CE-Electric-Acoustic-Plectrums/dp/B08P7R44YM/ref=sr_1_128?crid=2IWOBNJ0A4QXD&keywords=guitar&qid=1649160253&sprefix=guitar%2Caps%2C1002&sr=8-128',\n",
       " 'https://www.amazon.in/Kadence-Acoustica-Mahagony-Handed-Acoustic/dp/B07GS7N6TG/ref=sr_1_129?crid=2IWOBNJ0A4QXD&keywords=guitar&qid=1649160253&sprefix=guitar%2Caps%2C1002&sr=8-129',\n",
       " 'https://www.amazon.in/Kadence-Electric-Guitar-Rosewood-Fretboard/dp/B07BGXN7P6/ref=sr_1_130?crid=2IWOBNJ0A4QXD&keywords=guitar&qid=1649160253&sprefix=guitar%2Caps%2C1002&sr=8-130',\n",
       " 'https://www.amazon.in/JUAREZ-JRZ38C-Handed-Acoustic-Strings/dp/B01FYYTDW2/ref=sr_1_131?crid=2IWOBNJ0A4QXD&keywords=guitar&qid=1649160253&sprefix=guitar%2Caps%2C1002&sr=8-131',\n",
       " 'https://www.amazon.in/Kadence-Frontier-Acoustic-Foldable-Strings/dp/B01CJJG882/ref=sr_1_132?crid=2IWOBNJ0A4QXD&keywords=guitar&qid=1649160253&sprefix=guitar%2Caps%2C1002&sr=8-132',\n",
       " 'https://www.amazon.in/yamaha-acoustic-guitar-Dreadnought-Plectrums/dp/B07KB8VP6X/ref=sr_1_133?crid=2IWOBNJ0A4QXD&keywords=guitar&qid=1649160253&sprefix=guitar%2Caps%2C1002&sr=8-133',\n",
       " 'https://www.amazon.in/Medellin-Premium-Acoustic-Guitar-Starter/dp/B099MVN9P9/ref=sr_1_134?crid=2IWOBNJ0A4QXD&keywords=guitar&qid=1649160253&sprefix=guitar%2Caps%2C1002&sr=8-134',\n",
       " 'https://www.amazon.in/Fender-Dread-String-Acoustic-Guitar/dp/B07RL6VG3H/ref=sr_1_135?crid=2IWOBNJ0A4QXD&keywords=guitar&qid=1649160253&sprefix=guitar%2Caps%2C1002&sr=8-135',\n",
       " 'https://www.amazon.in/Yamaha-TRBX174-RM-4-String-Right-Handed/dp/B00GOE8OGI/ref=sr_1_136?crid=2IWOBNJ0A4QXD&keywords=guitar&qid=1649160253&sprefix=guitar%2Caps%2C1002&sr=8-136',\n",
       " 'https://www.amazon.in/Yamaha-F310-6-Strings-Acoustic-Natural/dp/B000RVYW7E/ref=sr_1_137?crid=2IWOBNJ0A4QXD&keywords=guitar&qid=1649160253&sprefix=guitar%2Caps%2C1002&sr=8-137',\n",
       " 'https://www.amazon.in/Tanglewood-DBT-SFCE-BW-LH-Discovery-Cutaway-Acoustic/dp/B071GNTYYV/ref=sr_1_138?crid=2IWOBNJ0A4QXD&keywords=guitar&qid=1649160253&sprefix=guitar%2Caps%2C1002&sr=8-138',\n",
       " 'https://www.amazon.in/Sterling-Music-Man-Solid-Body-CT30HSS-SBK-R1/dp/B07NHB9BRW/ref=sr_1_139?crid=2IWOBNJ0A4QXD&keywords=guitar&qid=1649160253&sprefix=guitar%2Caps%2C1002&sr=8-139',\n",
       " 'https://www.amazon.in/JUAREZ-Arpeggio-Acoustic-Rosewood-Fretboard/dp/B08LBHN8ZR/ref=sr_1_140?crid=2IWOBNJ0A4QXD&keywords=guitar&qid=1649160253&sprefix=guitar%2Caps%2C1002&sr=8-140',\n",
       " 'https://www.amazon.in/Kadence-Acoustic-Guitar-String-Fretted/dp/B09VSL5S1L/ref=sr_1_141?crid=2IWOBNJ0A4QXD&keywords=guitar&qid=1649160253&sprefix=guitar%2Caps%2C1002&sr=8-141',\n",
       " 'https://www.amazon.in/Fender-SA105CE-Electric-Acoustic-Plectrums/dp/B0944BJ9KZ/ref=sr_1_142?crid=2IWOBNJ0A4QXD&keywords=guitar&qid=1649160253&sprefix=guitar%2Caps%2C1002&sr=8-142',\n",
       " 'https://www.amazon.in/gp/slredirect/picassoRedirect.html/ref=pa_sp_btf_aps_sr_pg3_1?ie=UTF8&adId=A0050053YFBD0RZWXSXR&url=%2FBlueberry-B-40EQ-GL-Fretboard-Amplifier-Equalizer%2Fdp%2FB09MZ5C9TL%2Fref%3Dsr_1_143_sspa%3Fcrid%3D2IWOBNJ0A4QXD%26keywords%3Dguitar%26qid%3D1649160253%26sprefix%3Dguitar%252Caps%252C1002%26sr%3D8-143-spons%26psc%3D1&qualifier=1649160253&id=8105358489376651&widgetName=sp_btf',\n",
       " 'https://www.amazon.in/gp/slredirect/picassoRedirect.html/ref=pa_sp_btf_aps_sr_pg3_1?ie=UTF8&adId=A05431372N1Y6KMFTYW6Y&url=%2FDEVICE-URBAN-INFOTECH-Rotational-Electronic%2Fdp%2FB081LG3X5H%2Fref%3Dsr_1_144_sspa%3Fcrid%3D2IWOBNJ0A4QXD%26keywords%3Dguitar%26qid%3D1649160253%26sprefix%3Dguitar%252Caps%252C1002%26sr%3D8-144-spons%26psc%3D1&qualifier=1649160253&id=8105358489376651&widgetName=sp_btf',\n",
       " 'https://www.amazon.in/gp/slredirect/picassoRedirect.html/ref=pa_sp_btf_aps_sr_pg3_1?ie=UTF8&adId=A10247791G1WL3IMFX2JM&url=%2FTECHBLAZE-Guitar-Acoustic-Machine-pieces%2Fdp%2FB08X6MGB3V%2Fref%3Dsr_1_145_sspa%3Fcrid%3D2IWOBNJ0A4QXD%26keywords%3Dguitar%26qid%3D1649160253%26sprefix%3Dguitar%252Caps%252C1002%26sr%3D8-145-spons%26psc%3D1&qualifier=1649160253&id=8105358489376651&widgetName=sp_btf',\n",
       " 'https://www.amazon.in/gp/slredirect/picassoRedirect.html/ref=pa_sp_btf_aps_sr_pg3_1?ie=UTF8&adId=A10248791OOWLD8NFH8YO&url=%2FTECHBLAZE-Guitar-Acoustic-Machine-pieces%2Fdp%2FB098XG2QQ9%2Fref%3Dsr_1_146_sspa%3Fcrid%3D2IWOBNJ0A4QXD%26keywords%3Dguitar%26qid%3D1649160253%26sprefix%3Dguitar%252Caps%252C1002%26sr%3D8-146-spons%26psc%3D1&qualifier=1649160253&id=8105358489376651&widgetName=sp_btf',\n",
       " '-',\n",
       " '-',\n",
       " '-',\n",
       " '-',\n",
       " '-']"
      ]
     },
     "execution_count": 290,
     "metadata": {},
     "output_type": "execute_result"
    }
   ],
   "source": [
    "URL"
   ]
  },
  {
   "cell_type": "code",
   "execution_count": 292,
   "id": "03cdc26f",
   "metadata": {},
   "outputs": [
    {
     "data": {
      "text/html": [
       "<div>\n",
       "<style scoped>\n",
       "    .dataframe tbody tr th:only-of-type {\n",
       "        vertical-align: middle;\n",
       "    }\n",
       "\n",
       "    .dataframe tbody tr th {\n",
       "        vertical-align: top;\n",
       "    }\n",
       "\n",
       "    .dataframe thead th {\n",
       "        text-align: right;\n",
       "    }\n",
       "</style>\n",
       "<table border=\"1\" class=\"dataframe\">\n",
       "  <thead>\n",
       "    <tr style=\"text-align: right;\">\n",
       "      <th></th>\n",
       "      <th>Brand_name</th>\n",
       "      <th>Product</th>\n",
       "      <th>Price</th>\n",
       "      <th>Exchange</th>\n",
       "      <th>Delivery</th>\n",
       "      <th>Availability</th>\n",
       "      <th>url</th>\n",
       "    </tr>\n",
       "  </thead>\n",
       "  <tbody>\n",
       "    <tr>\n",
       "      <th>0</th>\n",
       "      <td>Quantity:</td>\n",
       "      <td>-</td>\n",
       "      <td></td>\n",
       "      <td>-</td>\n",
       "      <td>-</td>\n",
       "      <td>-</td>\n",
       "      <td>https://www.amazon.in/gp/slredirect/picassoRed...</td>\n",
       "    </tr>\n",
       "    <tr>\n",
       "      <th>1</th>\n",
       "      <td>-</td>\n",
       "      <td>-</td>\n",
       "      <td></td>\n",
       "      <td>-</td>\n",
       "      <td>-</td>\n",
       "      <td>-</td>\n",
       "      <td>https://www.amazon.in/gp/slredirect/picassoRed...</td>\n",
       "    </tr>\n",
       "    <tr>\n",
       "      <th>2</th>\n",
       "      <td></td>\n",
       "      <td>-</td>\n",
       "      <td>3,999</td>\n",
       "      <td>-</td>\n",
       "      <td>-</td>\n",
       "      <td>-</td>\n",
       "      <td>https://www.amazon.in/gp/slredirect/picassoRed...</td>\n",
       "    </tr>\n",
       "    <tr>\n",
       "      <th>3</th>\n",
       "      <td>-</td>\n",
       "      <td>-</td>\n",
       "      <td></td>\n",
       "      <td>-</td>\n",
       "      <td>-</td>\n",
       "      <td>-</td>\n",
       "      <td>https://www.amazon.in/gp/slredirect/picassoRed...</td>\n",
       "    </tr>\n",
       "    <tr>\n",
       "      <th>4</th>\n",
       "      <td></td>\n",
       "      <td>-</td>\n",
       "      <td>2,520</td>\n",
       "      <td>-</td>\n",
       "      <td>-</td>\n",
       "      <td>-</td>\n",
       "      <td>https://www.amazon.in/Juarez-Acoustic-Guitar-C...</td>\n",
       "    </tr>\n",
       "  </tbody>\n",
       "</table>\n",
       "</div>"
      ],
      "text/plain": [
       "  Brand_name Product  Price Exchange Delivery Availability  \\\n",
       "0  Quantity:       -               -        -            -   \n",
       "1          -       -               -        -            -   \n",
       "2                  -  3,999        -        -            -   \n",
       "3          -       -               -        -            -   \n",
       "4                  -  2,520        -        -            -   \n",
       "\n",
       "                                                 url  \n",
       "0  https://www.amazon.in/gp/slredirect/picassoRed...  \n",
       "1  https://www.amazon.in/gp/slredirect/picassoRed...  \n",
       "2  https://www.amazon.in/gp/slredirect/picassoRed...  \n",
       "3  https://www.amazon.in/gp/slredirect/picassoRed...  \n",
       "4  https://www.amazon.in/Juarez-Acoustic-Guitar-C...  "
      ]
     },
     "execution_count": 292,
     "metadata": {},
     "output_type": "execute_result"
    }
   ],
   "source": [
    "guitar=pd.DataFrame()\n",
    "guitar['Brand_name']=Brand[:5]\n",
    "guitar['Product']=product[:5]\n",
    "guitar['Price']=price[:5]\n",
    "guitar['Exchange']=exchange[:5]\n",
    "guitar['Delivery']=delivery[:5]\n",
    "guitar['Availability']=availability[:5]\n",
    "guitar['url']=URL[:5]\n",
    "\n",
    "guitar"
   ]
  },
  {
   "cell_type": "markdown",
   "id": "e28d183a",
   "metadata": {},
   "source": [
    "3. Write a python program to access the search bar and search button on images.google.com and scrape 10\n",
    "images each for keywords ‘fruits’, ‘cars’ and ‘Machine Learning’, ‘Guitar’, ‘Cakes’."
   ]
  },
  {
   "cell_type": "code",
   "execution_count": 84,
   "id": "6389323a",
   "metadata": {},
   "outputs": [],
   "source": [
    "#import all the important libraries\n",
    "import selenium\n",
    "from selenium import webdriver\n",
    "driver=webdriver.Chrome(\"chromedriver.exe\") \n",
    "from selenium.webdriver.common.keys import Keys\n",
    "import time\n",
    "import requests\n",
    "from selenium.common.exceptions import NoSuchElementException\n",
    "import warnings\n",
    "warnings.filterwarnings(\"ignore\")\n",
    "import os"
   ]
  },
  {
   "cell_type": "code",
   "execution_count": 85,
   "id": "de05ef6d",
   "metadata": {},
   "outputs": [],
   "source": [
    "import os"
   ]
  },
  {
   "cell_type": "code",
   "execution_count": 86,
   "id": "a6ffa911",
   "metadata": {},
   "outputs": [],
   "source": [
    "#creating a directory to save images\n",
    "folder_name = 'images'\n",
    "if not os.path.isdir(folder_name):\n",
    "    os.makedirs(folder_name)"
   ]
  },
  {
   "cell_type": "code",
   "execution_count": 87,
   "id": "94729406",
   "metadata": {},
   "outputs": [],
   "source": [
    "def download_image(url, folder_name, num):\n",
    "\n",
    "    # write image to file\n",
    "    reponse = requests.get(url)\n",
    "    if reponse.status_code==200:\n",
    "        with open(os.path.join(folder_name, str(num)+\".jpg\"), 'wb') as file:\n",
    "            file.write(reponse.content)"
   ]
  },
  {
   "cell_type": "code",
   "execution_count": 88,
   "id": "d76fef93",
   "metadata": {},
   "outputs": [],
   "source": [
    "chromePath=r'C:/Users/Acer Aspire 3/Downloads/chromedriver_win32/chromedriver.exe'\n",
    "driver=webdriver.Chrome(chromePath)\n",
    "\n",
    "search_URL = \"https://www.google.com/search?q=fruits&tbm=isch&source=hp&biw=1034&bih=575&ei=NchKYrbbJ67v2roPkoe-qAQ&iflsig=AHkkrS4AAAAAYkrWRVR9rYKZwMtHdNd2UsvXdtmc_OvD&ved=0ahUKEwj2ydKrmfr2AhWut1YBHZKDD0UQ4dUDCAc&oq=fruits&gs_lcp=CgNpbWcQDDILCAAQgAQQsQMQgwEyCAgAEIAEELEDMgsIABCABBCxAxCDATIICAAQgAQQsQMyCAgAEIAEELEDMggIABCABBCxAzIICAAQgAQQsQMyCAgAEIAEELEDMgsIABCABBCxAxCDATIICAAQgAQQsQM6BQgAEIAEUABYemDUHGgAcAB4AIABxgKIAeIIkgEHMC4xLjEuMpgBAKABAaoBC2d3cy13aXotaW1n&sclient=img\"\n",
    "driver.get(search_URL)"
   ]
  },
  {
   "cell_type": "code",
   "execution_count": 90,
   "id": "47150f44",
   "metadata": {},
   "outputs": [],
   "source": [
    "import bs4\n"
   ]
  },
  {
   "cell_type": "code",
   "execution_count": 91,
   "id": "1114767a",
   "metadata": {},
   "outputs": [
    {
     "name": "stdout",
     "output_type": "stream",
     "text": [
      "Waiting...2\n",
      "48\n"
     ]
    }
   ],
   "source": [
    "a = input(\"Waiting...\")\n",
    "\n",
    "#Scrolling all the way up\n",
    "driver.execute_script(\"window.scrollTo(0, 0);\")\n",
    "\n",
    "page_html = driver.page_source\n",
    "pageSoup = bs4.BeautifulSoup(page_html, 'html.parser')\n",
    "containers = pageSoup.findAll('div', {'class':\"isv-r PNCib MSM1fd BUooTd\"} )\n",
    "\n",
    "print(len(containers))\n",
    "\n",
    "len_containers = len(containers)"
   ]
  },
  {
   "cell_type": "code",
   "execution_count": 93,
   "id": "15b3f7b9",
   "metadata": {},
   "outputs": [],
   "source": [
    "for i in range(1, len_containers+1):\n",
    "    if i % 25 == 0:\n",
    "        continue\n",
    "\n",
    "    xPath = \"\"\"//*[@id=\"islrg\"]/div[1]/div[%s]\"\"\"%(i)\n",
    "\n",
    "    previewImageXPath = \"\"\"//*[@id=\"islrg\"]/div[1]/div[%s]/a[1]/div[1]/img\"\"\"%(i)\n",
    "    previewImageElement = driver.find_element_by_xpath(previewImageXPath)\n",
    "    previewImageURL = previewImageElement.get_attribute(\"src\")\n",
    "    #print(\"preview URL\", previewImageURL)"
   ]
  },
  {
   "cell_type": "code",
   "execution_count": 94,
   "id": "7e9433b2",
   "metadata": {},
   "outputs": [],
   "source": [
    " driver.find_element_by_xpath(xPath).click()\n",
    "    #time.sleep(3)"
   ]
  },
  {
   "cell_type": "code",
   "execution_count": 96,
   "id": "e5aa620b",
   "metadata": {},
   "outputs": [],
   "source": [
    "timeStarted = time.time()\n",
    "while True:\n",
    "\n",
    "        imageElement = driver.find_element_by_xpath(\"\"\"//*[@id=\"Sva75c\"]/div/div/div[3]/div[2]/c-wiz/div/div[1]/div[1]/div[2]/div[1]/a/img\"\"\")\n",
    "        imageURL= imageElement.get_attribute('src')\n",
    "\n",
    "        if imageURL != previewImageURL:\n",
    "            #print(\"actual URL\", imageURL)\n",
    "            break\n",
    "\n",
    "        else:\n",
    "            #making a timeout if the full res image can't be loaded\n",
    "            currentTime = time.time()\n",
    "\n",
    "            if currentTime - timeStarted > 10:\n",
    "                print(\"Timeout! Will download a lower resolution image and move onto the next one\")\n",
    "                break"
   ]
  },
  {
   "cell_type": "code",
   "execution_count": 98,
   "id": "5b7cdc7e",
   "metadata": {},
   "outputs": [
    {
     "name": "stdout",
     "output_type": "stream",
     "text": [
      "Downloaded element 48 out of 58 total. URL: https://imagesvc.meredithcorp.io/v3/mm/image?q=60&c=sc&poi=face&url=https%3A%2F%2Fimg1.cookinglight.timeinc.net%2Fsites%2Fdefault%2Ffiles%2Fstyles%2F4_3_horizontal_-_1200x900%2Fpublic%2F1502826406%2F1708w-getty-fruit-closeup-CarstenSchanter-EyeEm.jpg%3Fitok%3DXFE9vQPZ\n"
     ]
    }
   ],
   "source": [
    "\n",
    "    #Downloading image\n",
    "    try:\n",
    "        download_image(imageURL, folder_name, i)\n",
    "        print(\"Downloaded element %s out of %s total. URL: %s\" % (i, len_containers + 10, imageURL))\n",
    "    except:\n",
    "        print(\"Couldn't download an image %s, continuing downloading the next one\"%(i))"
   ]
  },
  {
   "cell_type": "code",
   "execution_count": 99,
   "id": "97f22567",
   "metadata": {},
   "outputs": [
    {
     "data": {
      "text/plain": [
       "'images'"
      ]
     },
     "execution_count": 99,
     "metadata": {},
     "output_type": "execute_result"
    }
   ],
   "source": [
    "folder_name"
   ]
  },
  {
   "cell_type": "markdown",
   "id": "61985fca",
   "metadata": {},
   "source": [
    "Cars"
   ]
  },
  {
   "cell_type": "code",
   "execution_count": 100,
   "id": "e9290910",
   "metadata": {},
   "outputs": [],
   "source": [
    "folder_name = 'images'\n",
    "if not os.path.isdir(folder_name):\n",
    "    os.makedirs(folder_name)"
   ]
  },
  {
   "cell_type": "code",
   "execution_count": 101,
   "id": "23fe93dd",
   "metadata": {},
   "outputs": [],
   "source": [
    "def download_image(url, folder_name, num):\n",
    "\n",
    "    # write image to file\n",
    "    reponse = requests.get(url)\n",
    "    if reponse.status_code==200:\n",
    "        with open(os.path.join(folder_name, str(num)+\".jpg\"), 'wb') as file:\n",
    "            file.write(reponse.content)"
   ]
  },
  {
   "cell_type": "code",
   "execution_count": 103,
   "id": "a199aaa1",
   "metadata": {},
   "outputs": [],
   "source": [
    "chromePath=r'C:/Users/Acer Aspire 3/Downloads/chromedriver_win32/chromedriver.exe'\n",
    "driver=webdriver.Chrome(chromePath)\n",
    "\n",
    "search_URL = \"https://www.google.com/search?q=car&tbm=isch&ved=2ahUKEwiP6OnLoPr2AhXFZWwGHacjAQ4Q2-cCegQIABAA&oq=car&gs_lcp=CgNpbWcQAzIECAAQQzIECAAQQzIHCAAQsQMQQzIECAAQQzIECAAQQzIECAAQQzIECAAQQzIECAAQQzIECAAQQzIECAAQQzoKCAAQsQMQgwEQQzoICAAQgAQQsQM6BQgAEIAEUJoFWOgOYP4QaABwAHgAgAGoAYgB8gaSAQMwLjeYAQCgAQGqAQtnd3Mtd2l6LWltZ8ABAQ&sclient=img&ei=0M9KYo_AC8XLseMPp8eEcA\"\n",
    "driver.get(search_URL)"
   ]
  },
  {
   "cell_type": "code",
   "execution_count": 104,
   "id": "f636f99f",
   "metadata": {},
   "outputs": [
    {
     "name": "stdout",
     "output_type": "stream",
     "text": [
      "Waiting...1\n",
      "48\n"
     ]
    }
   ],
   "source": [
    "a = input(\"Waiting...\")\n",
    "\n",
    "#Scrolling all the way up\n",
    "driver.execute_script(\"window.scrollTo(0, 0);\")\n",
    "\n",
    "page_html = driver.page_source\n",
    "pageSoup = bs4.BeautifulSoup(page_html, 'html.parser')\n",
    "containers = pageSoup.findAll('div', {'class':\"isv-r PNCib MSM1fd BUooTd\"} )\n",
    "\n",
    "print(len(containers))\n",
    "\n",
    "len_containers = len(containers)\n",
    "\n",
    "for i in range(1, len_containers+1):\n",
    "    if i % 25 == 0:\n",
    "        continue\n",
    "\n",
    "    xPath = \"\"\"//*[@id=\"islrg\"]/div[1]/div[%s]\"\"\"%(i)\n",
    "\n",
    "    previewImageXPath = \"\"\"//*[@id=\"islrg\"]/div[1]/div[%s]/a[1]/div[1]/img\"\"\"%(i)\n",
    "    previewImageElement = driver.find_element_by_xpath(previewImageXPath)\n",
    "    previewImageURL = previewImageElement.get_attribute(\"src\")"
   ]
  },
  {
   "cell_type": "code",
   "execution_count": 105,
   "id": "c413b1f8",
   "metadata": {},
   "outputs": [],
   "source": [
    "driver.find_element_by_xpath(xPath).click()"
   ]
  },
  {
   "cell_type": "code",
   "execution_count": 106,
   "id": "2a1d76fe",
   "metadata": {},
   "outputs": [],
   "source": [
    "timeStarted = time.time()\n",
    "while True:\n",
    "\n",
    "        imageElement = driver.find_element_by_xpath(\"\"\"//*[@id=\"Sva75c\"]/div/div/div[3]/div[2]/c-wiz/div/div[1]/div[1]/div[2]/div[1]/a/img\"\"\")\n",
    "        imageURL= imageElement.get_attribute('src')\n",
    "\n",
    "        if imageURL != previewImageURL:\n",
    "            #print(\"actual URL\", imageURL)\n",
    "            break\n",
    "\n",
    "        else:\n",
    "            #making a timeout if the full res image can't be loaded\n",
    "            currentTime = time.time()\n",
    "\n",
    "            if currentTime - timeStarted > 10:\n",
    "                print(\"Timeout! Will download a lower resolution image and move onto the next one\")\n",
    "                break"
   ]
  },
  {
   "cell_type": "code",
   "execution_count": 113,
   "id": "cca8f073",
   "metadata": {},
   "outputs": [
    {
     "name": "stdout",
     "output_type": "stream",
     "text": [
      "Downloaded element 48 out of 49 total. URL: https://img.etimg.com/thumb/width-640,height-480,imgsize-118786,resizemode-1,msid-80420666/wealth/spend/best-cars-for-different-budgets-to-buy-in-2021/covcar.jpg\n"
     ]
    }
   ],
   "source": [
    "try:\n",
    "    download_image(imageURL, folder_name, i)\n",
    "    print(\"Downloaded element %s out of %s total. URL: %s\" % (i, len_containers + 1, imageURL))\n",
    "except:\n",
    "    print(\"Couldn't download an image %s, continuing downloading the next one\"%(i))"
   ]
  },
  {
   "cell_type": "code",
   "execution_count": 131,
   "id": "22a01ae1",
   "metadata": {},
   "outputs": [],
   "source": [
    "folder_name = 'images'\n",
    "if not os.path.isdir(folder_name):\n",
    "    os.makedirs(folder_name)"
   ]
  },
  {
   "cell_type": "code",
   "execution_count": 132,
   "id": "67f30a5a",
   "metadata": {},
   "outputs": [],
   "source": [
    "def download_image(url, folder_name, num):\n",
    "\n",
    "    # write image to file\n",
    "    reponse = requests.get(url)\n",
    "    if reponse.status_code==200:\n",
    "        with open(os.path.join(folder_name, str(num)+\".jpg\"), 'wb') as file:\n",
    "            file.write(reponse.content)"
   ]
  },
  {
   "cell_type": "code",
   "execution_count": 133,
   "id": "1350c733",
   "metadata": {},
   "outputs": [],
   "source": [
    "chromePath=r'C:/Users/Acer Aspire 3/Downloads/chromedriver_win32/chromedriver.exe'\n",
    "driver=webdriver.Chrome(chromePath)\n",
    "\n",
    "search_URL = \"https://www.google.com/search?q=%E2%80%98Machine+Learning%E2%80%99&rlz=1C1UEAD_enIN992IN992&sxsrf=APq-WBtHI6Ii8dAiOS-6qxZQ9a1qmSPJzw:1649070776148&source=lnms&tbm=isch&sa=X&ved=2ahUKEwiOkcmuo_r2AhWdyosBHVzkCwkQ_AUoAXoECAEQAw&biw=1366&bih=657&dpr=1\"\n",
    "driver.get(search_URL)"
   ]
  },
  {
   "cell_type": "code",
   "execution_count": 134,
   "id": "cd16d2ec",
   "metadata": {},
   "outputs": [
    {
     "name": "stdout",
     "output_type": "stream",
     "text": [
      "Waiting...1\n",
      "48\n"
     ]
    }
   ],
   "source": [
    "a = input(\"Waiting...\")\n",
    "\n",
    "#Scrolling all the way up\n",
    "driver.execute_script(\"window.scrollTo(0, 0);\")\n",
    "\n",
    "page_html = driver.page_source\n",
    "pageSoup = bs4.BeautifulSoup(page_html, 'html.parser')\n",
    "containers = pageSoup.findAll('div', {'class':\"isv-r PNCib MSM1fd BUooTd\"} )\n",
    "\n",
    "print(len(containers))\n",
    "\n",
    "len_containers = len(containers)"
   ]
  },
  {
   "cell_type": "code",
   "execution_count": 135,
   "id": "477d097b",
   "metadata": {},
   "outputs": [],
   "source": [
    "\n",
    "for i in range(1, len_containers+1):\n",
    "    if i % 25 == 0:\n",
    "        continue\n",
    "\n",
    "    xPath = \"\"\"//*[@id=\"islrg\"]/div[1]/div[%s]\"\"\"%(i)\n",
    "\n",
    "    previewImageXPath = \"\"\"//*[@id=\"islrg\"]/div[1]/div[%s]/a[1]/div[1]/img\"\"\"%(i)\n",
    "    previewImageElement = driver.find_element_by_xpath(previewImageXPath)\n",
    "    previewImageURL = previewImageElement.get_attribute(\"src\")\n",
    "\n",
    "driver.find_element_by_xpath(xPath).click()"
   ]
  },
  {
   "cell_type": "code",
   "execution_count": 136,
   "id": "1703f7c2",
   "metadata": {},
   "outputs": [],
   "source": [
    "timeStarted = time.time()\n",
    "while True:\n",
    "\n",
    "        imageElement = driver.find_element_by_xpath(\"\"\"//*[@id=\"Sva75c\"]/div/div/div[3]/div[2]/c-wiz/div/div[1]/div[1]/div[2]/div[1]/a/img\"\"\")\n",
    "        imageURL= imageElement.get_attribute('src')\n",
    "\n",
    "        if imageURL != previewImageURL:\n",
    "            #print(\"actual URL\", imageURL)\n",
    "            break\n",
    "\n",
    "        else:\n",
    "            #making a timeout if the full res image can't be loaded\n",
    "            currentTime = time.time()\n",
    "\n",
    "            if currentTime - timeStarted > 10:\n",
    "                print(\"Timeout! Will download a lower resolution image and move onto the next one\")\n",
    "                break"
   ]
  },
  {
   "cell_type": "code",
   "execution_count": 137,
   "id": "abfaf2dd",
   "metadata": {},
   "outputs": [
    {
     "name": "stdout",
     "output_type": "stream",
     "text": [
      "Downloaded element 48 out of 49 total. URL: https://encrypted-tbn0.gstatic.com/images?q=tbn:ANd9GcTlrRupcFP48cR8T8Lv0nmohh-nsuFWuKy90Q&usqp=CAU\n"
     ]
    }
   ],
   "source": [
    "try:\n",
    "    download_image(imageURL, folder_name, i)\n",
    "    print(\"Downloaded element %s out of %s total. URL: %s\" % (i, len_containers + 1, imageURL))\n",
    "except:\n",
    "    print(\"Couldn't download an image %s, continuing downloading the next one\"%(i))"
   ]
  },
  {
   "cell_type": "markdown",
   "id": "d6264a43",
   "metadata": {},
   "source": [
    "‘Guitar’,"
   ]
  },
  {
   "cell_type": "code",
   "execution_count": 155,
   "id": "ea968eec",
   "metadata": {},
   "outputs": [
    {
     "name": "stdout",
     "output_type": "stream",
     "text": [
      "Waiting...5\n",
      "48\n",
      "Downloaded element 48 out of 49 total. URL: https://breedlovemusic.com/wp-content/uploads/2020/07/JEFF_Bridgest-acoustic-guitar-header-1.png\n"
     ]
    }
   ],
   "source": [
    "folder_name = 'images'\n",
    "if not os.path.isdir(folder_name):\n",
    "    os.makedirs(folder_name)\n",
    "\n",
    "def download_image(url, folder_name, num):\n",
    "\n",
    "    # write image to file\n",
    "    reponse = requests.get(url)\n",
    "    if reponse.status_code==200:\n",
    "        with open(os.path.join(folder_name, str(num)+\".jpg\"), 'wb') as file:\n",
    "            file.write(reponse.content)\n",
    "\n",
    "chromePath=r'C:/Users/Acer Aspire 3/Downloads/chromedriver_win32/chromedriver.exe'\n",
    "driver=webdriver.Chrome(chromePath)\n",
    "\n",
    "search_URL = \"https://www.google.com/search?q=guitars&tbm=isch&ved=2ahUKEwi3oICTp_r2AhVm73MBHaKeAFwQ2-cCegQIABAA&oq=guitars&gs_lcp=CgNpbWcQAzIFCAAQgAQyBQgAEIAEMgUIABCABDIFCAAQgAQyBQgAEIAEMgUIABCABDIFCAAQgAQyBQgAEIAEMgUIABCABDIFCAAQgAQ6BwgAELEDEEM6CAgAEIAEELEDOgQIABBDOgsIABCABBCxAxCDAToICAAQsQMQgwFQygdY3yBg8SJoAHAAeACAAeEBiAGSCZIBBTAuNy4xmAEAoAEBqgELZ3dzLXdpei1pbWfAAQE&sclient=img&ei=sNZKYreIBObez7sPor2C4AU&bih=657&biw=1366&rlz=1C1UEAD_enIN992IN992\"\n",
    "driver.get(search_URL)\n",
    "\n",
    "a = input(\"Waiting...\")\n",
    "\n",
    "#Scrolling all the way up\n",
    "driver.execute_script(\"window.scrollTo(0, 0);\")\n",
    "\n",
    "page_html = driver.page_source\n",
    "pageSoup = bs4.BeautifulSoup(page_html, 'html.parser')\n",
    "containers = pageSoup.findAll('div', {'class':\"isv-r PNCib MSM1fd BUooTd\"} )\n",
    "\n",
    "print(len(containers))\n",
    "\n",
    "len_containers = len(containers)\n",
    "\n",
    "for i in range(1, len_containers+1):\n",
    "    if i % 25 == 0:\n",
    "        continue\n",
    "\n",
    "    xPath = \"\"\"//*[@id=\"islrg\"]/div[1]/div[%s]\"\"\"%(i)\n",
    "\n",
    "    previewImageXPath = \"\"\"//*[@id=\"islrg\"]/div[1]/div[%s]/a[1]/div[1]/img\"\"\"%(i)\n",
    "    previewImageElement = driver.find_element_by_xpath(previewImageXPath)\n",
    "    previewImageURL = previewImageElement.get_attribute(\"src\")\n",
    "\n",
    "driver.find_element_by_xpath(xPath).click()\n",
    "\n",
    "\n",
    "timeStarted = time.time()\n",
    "while True:\n",
    "\n",
    "        imageElement = driver.find_element_by_xpath(\"\"\"//*[@id=\"Sva75c\"]/div/div/div[3]/div[2]/c-wiz/div/div[1]/div[1]/div[2]/div[1]/a/img\"\"\")\n",
    "        imageURL= imageElement.get_attribute('src')\n",
    "\n",
    "        if imageURL != previewImageURL:\n",
    "            #print(\"actual URL\", imageURL)\n",
    "            break\n",
    "\n",
    "        else:\n",
    "            #making a timeout if the full res image can't be loaded\n",
    "            currentTime = time.time()\n",
    "\n",
    "            if currentTime - timeStarted > 10:\n",
    "                print(\"Timeout! Will download a lower resolution image and move onto the next one\")\n",
    "                break\n",
    "\n",
    "try:\n",
    "    download_image(imageURL, folder_name, i)\n",
    "    print(\"Downloaded element %s out of %s total. URL: %s\" % (i, len_containers + 1, imageURL))\n",
    "except:\n",
    "    print(\"Couldn't download an image %s, continuing downloading the next one\"%(i))"
   ]
  },
  {
   "cell_type": "markdown",
   "id": "b9c7a845",
   "metadata": {},
   "source": [
    "Cakes"
   ]
  },
  {
   "cell_type": "code",
   "execution_count": 152,
   "id": "ed3cc01f",
   "metadata": {},
   "outputs": [
    {
     "name": "stdout",
     "output_type": "stream",
     "text": [
      "Waiting...1\n",
      "48\n",
      "Downloaded element 48 out of 49 total. URL: https://cdn.shopify.com/s/files/1/0362/1653/products/DoughnutCookieMonsterCake_1600x.jpg?v=1631805103\n"
     ]
    }
   ],
   "source": [
    "folder_name = 'images'\n",
    "if not os.path.isdir(folder_name):\n",
    "    os.makedirs(folder_name)\n",
    "\n",
    "def download_image(url, folder_name, num):\n",
    "\n",
    "    # write image to file\n",
    "    reponse = requests.get(url)\n",
    "    if reponse.status_code==200:\n",
    "        with open(os.path.join(folder_name, str(num)+\".jpg\"), 'wb') as file:\n",
    "            file.write(reponse.content)\n",
    "\n",
    "chromePath=r'C:/Users/Acer Aspire 3/Downloads/chromedriver_win32/chromedriver.exe'\n",
    "driver=webdriver.Chrome(chromePath)\n",
    "\n",
    "search_URL = \"https://www.google.com/search?q=cakes&tbm=isch&ved=2ahUKEwii677Cpvr2AhVZk9gFHZypDAEQ2-cCegQIABAA&oq=cakes&gs_lcp=CgNpbWcQAzIHCAAQsQMQQzIECAAQQzIICAAQgAQQsQMyCAgAEIAEELEDMggIABCABBCxAzIICAAQgAQQsQMyCAgAEIAEELEDMggIABCABBCxAzIFCAAQgAQyBQgAEIAEOgoIABCxAxCDARBDUNEGWKEMYNoNaABwAHgAgAHZAYgBpwaSAQUwLjUuMZgBAKABAaoBC2d3cy13aXotaW1nwAEB&sclient=img&ei=B9ZKYuLLDdmm4t4PnNOyCA&bih=657&biw=1366&rlz=1C1UEAD_enIN992IN992\"\n",
    "driver.get(search_URL)\n",
    "\n",
    "a = input(\"Waiting...\")\n",
    "\n",
    "#Scrolling all the way up\n",
    "driver.execute_script(\"window.scrollTo(0, 0);\")\n",
    "\n",
    "page_html = driver.page_source\n",
    "pageSoup = bs4.BeautifulSoup(page_html, 'html.parser')\n",
    "containers = pageSoup.findAll('div', {'class':\"isv-r PNCib MSM1fd BUooTd\"} )\n",
    "\n",
    "print(len(containers))\n",
    "\n",
    "len_containers = len(containers)\n",
    "\n",
    "for i in range(1, len_containers+1):\n",
    "    if i % 25 == 0:\n",
    "        continue\n",
    "\n",
    "    xPath = \"\"\"//*[@id=\"islrg\"]/div[1]/div[%s]\"\"\"%(i)\n",
    "\n",
    "    previewImageXPath = \"\"\"//*[@id=\"islrg\"]/div[1]/div[%s]/a[1]/div[1]/img\"\"\"%(i)\n",
    "    previewImageElement = driver.find_element_by_xpath(previewImageXPath)\n",
    "    previewImageURL = previewImageElement.get_attribute(\"src\")\n",
    "\n",
    "driver.find_element_by_xpath(xPath).click()\n",
    "\n",
    "\n",
    "timeStarted = time.time()\n",
    "while True:\n",
    "\n",
    "        imageElement = driver.find_element_by_xpath(\"\"\"//*[@id=\"Sva75c\"]/div/div/div[3]/div[2]/c-wiz/div/div[1]/div[1]/div[2]/div[1]/a/img\"\"\")\n",
    "        imageURL= imageElement.get_attribute('src')\n",
    "\n",
    "        if imageURL != previewImageURL:\n",
    "            #print(\"actual URL\", imageURL)\n",
    "            break\n",
    "\n",
    "        else:\n",
    "            #making a timeout if the full res image can't be loaded\n",
    "            currentTime = time.time()\n",
    "\n",
    "            if currentTime - timeStarted > 10:\n",
    "                print(\"Timeout! Will download a lower resolution image and move onto the next one\")\n",
    "                break\n",
    "\n",
    "try:\n",
    "    download_image(imageURL, folder_name, i)\n",
    "    print(\"Downloaded element %s out of %s total. URL: %s\" % (i, len_containers + 1, imageURL))\n",
    "except:\n",
    "    print(\"Couldn't download an image %s, continuing downloading the next one\"%(i))"
   ]
  },
  {
   "cell_type": "markdown",
   "id": "0674df76",
   "metadata": {},
   "source": [
    "4. Write a python program to search for a smartphone(e.g.: Oneplus Nord, pixel 4A, etc.) on\n",
    "www.flipkart.com and scrape following details for all the search results displayed on 1st page. Details to be\n",
    "scraped: “Brand Name”, “Smartphone name”, “Colour”, “RAM”, “Storage(ROM)”, “Primary Camera”,\n",
    "“Secondary Camera”, “Display Size”, “Battery Capacity”, “Price”, “Product URL”. Incase if any of the\n",
    "details is missing then replace it by “- “. Save your results in a dataframe and CSV."
   ]
  },
  {
   "cell_type": "code",
   "execution_count": 89,
   "id": "085abb3b",
   "metadata": {},
   "outputs": [],
   "source": [
    "search_box= driver.find_element_by_xpath('/html/body/div[1]/div/div[1]/div[1]/div[2]/div[2]/form/div/div/input')\n",
    "search_box.send_keys(\"Pixel 4A\")"
   ]
  },
  {
   "cell_type": "code",
   "execution_count": 119,
   "id": "c646bc0b",
   "metadata": {},
   "outputs": [],
   "source": [
    "import csv\n",
    "from bs4 import BeautifulSoup\n",
    "from selenium import webdriver\n",
    "import pandas as pd"
   ]
  },
  {
   "cell_type": "code",
   "execution_count": 120,
   "id": "249f0c9d",
   "metadata": {},
   "outputs": [
    {
     "ename": "WebDriverException",
     "evalue": "Message: chrome not reachable\n  (Session info: chrome=100.0.4896.60)\nStacktrace:\nBacktrace:\n\tOrdinal0 [0x00D29943+2595139]\n\tOrdinal0 [0x00CBC9F1+2148849]\n\tOrdinal0 [0x00BB43F0+1065968]\n\tOrdinal0 [0x00BA87C2+1017794]\n\tOrdinal0 [0x00BA8FF8+1019896]\n\tOrdinal0 [0x00BAA892+1026194]\n\tOrdinal0 [0x00BA4219+999961]\n\tOrdinal0 [0x00BB5860+1071200]\n\tOrdinal0 [0x00C0B2D2+1422034]\n\tOrdinal0 [0x00BFB806+1357830]\n\tOrdinal0 [0x00BD6086+1204358]\n\tOrdinal0 [0x00BD6F96+1208214]\n\tGetHandleVerifier [0x00ECB232+1658114]\n\tGetHandleVerifier [0x00F8312C+2411516]\n\tGetHandleVerifier [0x00DBF261+560433]\n\tGetHandleVerifier [0x00DBE366+556598]\n\tOrdinal0 [0x00CC286B+2173035]\n\tOrdinal0 [0x00CC75F8+2192888]\n\tOrdinal0 [0x00CC76E5+2193125]\n\tOrdinal0 [0x00CD11FC+2232828]\n\tBaseThreadInitThunk [0x76C3FA29+25]\n\tRtlGetAppContainerNamedObjectPath [0x77567A7E+286]\n\tRtlGetAppContainerNamedObjectPath [0x77567A4E+238]\n",
     "output_type": "error",
     "traceback": [
      "\u001b[1;31m---------------------------------------------------------------------------\u001b[0m",
      "\u001b[1;31mWebDriverException\u001b[0m                        Traceback (most recent call last)",
      "\u001b[1;32mC:\\Users\\ACERAS~1\\AppData\\Local\\Temp/ipykernel_3312/501723798.py\u001b[0m in \u001b[0;36m<module>\u001b[1;34m\u001b[0m\n\u001b[1;32m----> 1\u001b[1;33m \u001b[0msearch_btn\u001b[0m\u001b[1;33m=\u001b[0m \u001b[0mdriver\u001b[0m\u001b[1;33m.\u001b[0m\u001b[0mfind_element_by_xpath\u001b[0m\u001b[1;33m(\u001b[0m\u001b[1;34m\"//button[@class='L0Z3Pu']\"\u001b[0m\u001b[1;33m)\u001b[0m\u001b[1;33m\u001b[0m\u001b[1;33m\u001b[0m\u001b[0m\n\u001b[0m\u001b[0;32m      2\u001b[0m \u001b[0msearch_btn\u001b[0m\u001b[1;33m.\u001b[0m\u001b[0mclick\u001b[0m\u001b[1;33m(\u001b[0m\u001b[1;33m)\u001b[0m\u001b[1;33m\u001b[0m\u001b[1;33m\u001b[0m\u001b[0m\n",
      "\u001b[1;32mC:\\ProgramData\\Anaconda3\\lib\\site-packages\\selenium\\webdriver\\remote\\webdriver.py\u001b[0m in \u001b[0;36mfind_element_by_xpath\u001b[1;34m(self, xpath)\u001b[0m\n\u001b[0;32m    519\u001b[0m             \u001b[0mstacklevel\u001b[0m\u001b[1;33m=\u001b[0m\u001b[1;36m2\u001b[0m\u001b[1;33m,\u001b[0m\u001b[1;33m\u001b[0m\u001b[1;33m\u001b[0m\u001b[0m\n\u001b[0;32m    520\u001b[0m         )\n\u001b[1;32m--> 521\u001b[1;33m         \u001b[1;32mreturn\u001b[0m \u001b[0mself\u001b[0m\u001b[1;33m.\u001b[0m\u001b[0mfind_element\u001b[0m\u001b[1;33m(\u001b[0m\u001b[0mby\u001b[0m\u001b[1;33m=\u001b[0m\u001b[0mBy\u001b[0m\u001b[1;33m.\u001b[0m\u001b[0mXPATH\u001b[0m\u001b[1;33m,\u001b[0m \u001b[0mvalue\u001b[0m\u001b[1;33m=\u001b[0m\u001b[0mxpath\u001b[0m\u001b[1;33m)\u001b[0m\u001b[1;33m\u001b[0m\u001b[1;33m\u001b[0m\u001b[0m\n\u001b[0m\u001b[0;32m    522\u001b[0m \u001b[1;33m\u001b[0m\u001b[0m\n\u001b[0;32m    523\u001b[0m     \u001b[1;32mdef\u001b[0m \u001b[0mfind_elements_by_xpath\u001b[0m\u001b[1;33m(\u001b[0m\u001b[0mself\u001b[0m\u001b[1;33m,\u001b[0m \u001b[0mxpath\u001b[0m\u001b[1;33m)\u001b[0m \u001b[1;33m->\u001b[0m \u001b[0mList\u001b[0m\u001b[1;33m[\u001b[0m\u001b[0mWebElement\u001b[0m\u001b[1;33m]\u001b[0m\u001b[1;33m:\u001b[0m\u001b[1;33m\u001b[0m\u001b[1;33m\u001b[0m\u001b[0m\n",
      "\u001b[1;32mC:\\ProgramData\\Anaconda3\\lib\\site-packages\\selenium\\webdriver\\remote\\webdriver.py\u001b[0m in \u001b[0;36mfind_element\u001b[1;34m(self, by, value)\u001b[0m\n\u001b[0;32m   1246\u001b[0m             \u001b[0mvalue\u001b[0m \u001b[1;33m=\u001b[0m \u001b[1;34m'[name=\"%s\"]'\u001b[0m \u001b[1;33m%\u001b[0m \u001b[0mvalue\u001b[0m\u001b[1;33m\u001b[0m\u001b[1;33m\u001b[0m\u001b[0m\n\u001b[0;32m   1247\u001b[0m \u001b[1;33m\u001b[0m\u001b[0m\n\u001b[1;32m-> 1248\u001b[1;33m         return self.execute(Command.FIND_ELEMENT, {\n\u001b[0m\u001b[0;32m   1249\u001b[0m             \u001b[1;34m'using'\u001b[0m\u001b[1;33m:\u001b[0m \u001b[0mby\u001b[0m\u001b[1;33m,\u001b[0m\u001b[1;33m\u001b[0m\u001b[1;33m\u001b[0m\u001b[0m\n\u001b[0;32m   1250\u001b[0m             'value': value})['value']\n",
      "\u001b[1;32mC:\\ProgramData\\Anaconda3\\lib\\site-packages\\selenium\\webdriver\\remote\\webdriver.py\u001b[0m in \u001b[0;36mexecute\u001b[1;34m(self, driver_command, params)\u001b[0m\n\u001b[0;32m    423\u001b[0m         \u001b[0mresponse\u001b[0m \u001b[1;33m=\u001b[0m \u001b[0mself\u001b[0m\u001b[1;33m.\u001b[0m\u001b[0mcommand_executor\u001b[0m\u001b[1;33m.\u001b[0m\u001b[0mexecute\u001b[0m\u001b[1;33m(\u001b[0m\u001b[0mdriver_command\u001b[0m\u001b[1;33m,\u001b[0m \u001b[0mparams\u001b[0m\u001b[1;33m)\u001b[0m\u001b[1;33m\u001b[0m\u001b[1;33m\u001b[0m\u001b[0m\n\u001b[0;32m    424\u001b[0m         \u001b[1;32mif\u001b[0m \u001b[0mresponse\u001b[0m\u001b[1;33m:\u001b[0m\u001b[1;33m\u001b[0m\u001b[1;33m\u001b[0m\u001b[0m\n\u001b[1;32m--> 425\u001b[1;33m             \u001b[0mself\u001b[0m\u001b[1;33m.\u001b[0m\u001b[0merror_handler\u001b[0m\u001b[1;33m.\u001b[0m\u001b[0mcheck_response\u001b[0m\u001b[1;33m(\u001b[0m\u001b[0mresponse\u001b[0m\u001b[1;33m)\u001b[0m\u001b[1;33m\u001b[0m\u001b[1;33m\u001b[0m\u001b[0m\n\u001b[0m\u001b[0;32m    426\u001b[0m             response['value'] = self._unwrap_value(\n\u001b[0;32m    427\u001b[0m                 response.get('value', None))\n",
      "\u001b[1;32mC:\\ProgramData\\Anaconda3\\lib\\site-packages\\selenium\\webdriver\\remote\\errorhandler.py\u001b[0m in \u001b[0;36mcheck_response\u001b[1;34m(self, response)\u001b[0m\n\u001b[0;32m    245\u001b[0m                 \u001b[0malert_text\u001b[0m \u001b[1;33m=\u001b[0m \u001b[0mvalue\u001b[0m\u001b[1;33m[\u001b[0m\u001b[1;34m'alert'\u001b[0m\u001b[1;33m]\u001b[0m\u001b[1;33m.\u001b[0m\u001b[0mget\u001b[0m\u001b[1;33m(\u001b[0m\u001b[1;34m'text'\u001b[0m\u001b[1;33m)\u001b[0m\u001b[1;33m\u001b[0m\u001b[1;33m\u001b[0m\u001b[0m\n\u001b[0;32m    246\u001b[0m             \u001b[1;32mraise\u001b[0m \u001b[0mexception_class\u001b[0m\u001b[1;33m(\u001b[0m\u001b[0mmessage\u001b[0m\u001b[1;33m,\u001b[0m \u001b[0mscreen\u001b[0m\u001b[1;33m,\u001b[0m \u001b[0mstacktrace\u001b[0m\u001b[1;33m,\u001b[0m \u001b[0malert_text\u001b[0m\u001b[1;33m)\u001b[0m  \u001b[1;31m# type: ignore[call-arg]  # mypy is not smart enough here\u001b[0m\u001b[1;33m\u001b[0m\u001b[1;33m\u001b[0m\u001b[0m\n\u001b[1;32m--> 247\u001b[1;33m         \u001b[1;32mraise\u001b[0m \u001b[0mexception_class\u001b[0m\u001b[1;33m(\u001b[0m\u001b[0mmessage\u001b[0m\u001b[1;33m,\u001b[0m \u001b[0mscreen\u001b[0m\u001b[1;33m,\u001b[0m \u001b[0mstacktrace\u001b[0m\u001b[1;33m)\u001b[0m\u001b[1;33m\u001b[0m\u001b[1;33m\u001b[0m\u001b[0m\n\u001b[0m\u001b[0;32m    248\u001b[0m \u001b[1;33m\u001b[0m\u001b[0m\n\u001b[0;32m    249\u001b[0m     \u001b[1;32mdef\u001b[0m \u001b[0m_value_or_default\u001b[0m\u001b[1;33m(\u001b[0m\u001b[0mself\u001b[0m\u001b[1;33m,\u001b[0m \u001b[0mobj\u001b[0m\u001b[1;33m:\u001b[0m \u001b[0mMapping\u001b[0m\u001b[1;33m[\u001b[0m\u001b[0m_KT\u001b[0m\u001b[1;33m,\u001b[0m \u001b[0m_VT\u001b[0m\u001b[1;33m]\u001b[0m\u001b[1;33m,\u001b[0m \u001b[0mkey\u001b[0m\u001b[1;33m:\u001b[0m \u001b[0m_KT\u001b[0m\u001b[1;33m,\u001b[0m \u001b[0mdefault\u001b[0m\u001b[1;33m:\u001b[0m \u001b[0m_VT\u001b[0m\u001b[1;33m)\u001b[0m \u001b[1;33m->\u001b[0m \u001b[0m_VT\u001b[0m\u001b[1;33m:\u001b[0m\u001b[1;33m\u001b[0m\u001b[1;33m\u001b[0m\u001b[0m\n",
      "\u001b[1;31mWebDriverException\u001b[0m: Message: chrome not reachable\n  (Session info: chrome=100.0.4896.60)\nStacktrace:\nBacktrace:\n\tOrdinal0 [0x00D29943+2595139]\n\tOrdinal0 [0x00CBC9F1+2148849]\n\tOrdinal0 [0x00BB43F0+1065968]\n\tOrdinal0 [0x00BA87C2+1017794]\n\tOrdinal0 [0x00BA8FF8+1019896]\n\tOrdinal0 [0x00BAA892+1026194]\n\tOrdinal0 [0x00BA4219+999961]\n\tOrdinal0 [0x00BB5860+1071200]\n\tOrdinal0 [0x00C0B2D2+1422034]\n\tOrdinal0 [0x00BFB806+1357830]\n\tOrdinal0 [0x00BD6086+1204358]\n\tOrdinal0 [0x00BD6F96+1208214]\n\tGetHandleVerifier [0x00ECB232+1658114]\n\tGetHandleVerifier [0x00F8312C+2411516]\n\tGetHandleVerifier [0x00DBF261+560433]\n\tGetHandleVerifier [0x00DBE366+556598]\n\tOrdinal0 [0x00CC286B+2173035]\n\tOrdinal0 [0x00CC75F8+2192888]\n\tOrdinal0 [0x00CC76E5+2193125]\n\tOrdinal0 [0x00CD11FC+2232828]\n\tBaseThreadInitThunk [0x76C3FA29+25]\n\tRtlGetAppContainerNamedObjectPath [0x77567A7E+286]\n\tRtlGetAppContainerNamedObjectPath [0x77567A4E+238]\n"
     ]
    }
   ],
   "source": [
    "search_btn= driver.find_element_by_xpath(\"//button[@class='L0Z3Pu']\")\n",
    "search_btn.click()"
   ]
  },
  {
   "cell_type": "code",
   "execution_count": 121,
   "id": "9a1ae20b",
   "metadata": {},
   "outputs": [],
   "source": [
    "# Creating an instance of webdriver for google chrome\n",
    "driver = webdriver.Chrome()"
   ]
  },
  {
   "cell_type": "code",
   "execution_count": 122,
   "id": "19c4088a",
   "metadata": {},
   "outputs": [],
   "source": [
    "# Using webdriver we'll now open the flipkart website in chrome\n",
    "url = 'https://flipkart.com'\n",
    "# We;ll use the get method of driver and pass in the URL\n",
    "driver.get(url)"
   ]
  },
  {
   "cell_type": "code",
   "execution_count": 123,
   "id": "460f6ab2",
   "metadata": {},
   "outputs": [],
   "source": [
    "def get_url(search_item):\n",
    "    '''\n",
    "    This function fetches the URL of the item that you want to search\n",
    "    '''\n",
    "    template = 'https://www.flipkart.com/search?q={}&as=on&as-show=on&otracker=AS_Query_HistoryAutoSuggest_1_4_na_na_na&otracker1=AS_Query_HistoryAutoSuggest_1_4_na_na_na&as-pos=1&as-type=HISTORY&suggestionId=mobile+phones&requestId=e625b409-ca2a-456a-b53c-0fdb7618b658&as-backfill=on'\n",
    "    # We'are replacing every space with '+' to adhere with the pattern \n",
    "    search_item = search_item.replace(\" \",\"+\")\n",
    "    return template.format(search_item)"
   ]
  },
  {
   "cell_type": "code",
   "execution_count": 124,
   "id": "d17ba40b",
   "metadata": {},
   "outputs": [
    {
     "name": "stdout",
     "output_type": "stream",
     "text": [
      "https://www.flipkart.com/search?q=Pixel+4A&as=on&as-show=on&otracker=AS_Query_HistoryAutoSuggest_1_4_na_na_na&otracker1=AS_Query_HistoryAutoSuggest_1_4_na_na_na&as-pos=1&as-type=HISTORY&suggestionId=mobile+phones&requestId=e625b409-ca2a-456a-b53c-0fdb7618b658&as-backfill=on\n"
     ]
    }
   ],
   "source": [
    "url = get_url('Pixel 4A')\n",
    "print(url)"
   ]
  },
  {
   "cell_type": "code",
   "execution_count": 125,
   "id": "8b4917b4",
   "metadata": {},
   "outputs": [],
   "source": [
    "soup = BeautifulSoup(driver.page_source, 'html.parser')"
   ]
  },
  {
   "cell_type": "code",
   "execution_count": 126,
   "id": "300b2baa",
   "metadata": {},
   "outputs": [
    {
     "data": {
      "text/plain": [
       "24"
      ]
     },
     "execution_count": 126,
     "metadata": {},
     "output_type": "execute_result"
    }
   ],
   "source": [
    "results = soup.find_all('a',{'class':\"_1fQZEK\"})\n",
    "len(results)"
   ]
  },
  {
   "cell_type": "code",
   "execution_count": 127,
   "id": "92ea2653",
   "metadata": {},
   "outputs": [],
   "source": [
    "item = results[0]\n"
   ]
  },
  {
   "cell_type": "code",
   "execution_count": 129,
   "id": "1297d435",
   "metadata": {},
   "outputs": [
    {
     "data": {
      "text/plain": [
       "'Google Pixel 4a (Just Black, 128 GB)'"
      ]
     },
     "execution_count": 129,
     "metadata": {},
     "output_type": "execute_result"
    }
   ],
   "source": [
    "Brand = item.find('div',{'class':\"_4rR01T\"}).text\n",
    "Brand"
   ]
  },
  {
   "cell_type": "code",
   "execution_count": 157,
   "id": "d1649f87",
   "metadata": {},
   "outputs": [
    {
     "data": {
      "text/plain": [
       "'Google Pix'"
      ]
     },
     "execution_count": 157,
     "metadata": {},
     "output_type": "execute_result"
    }
   ],
   "source": [
    "Smart_phone= item.find('div',{'class':\"_4rR01T\"}).text[item.find('div',{'class':\"_4rR01T\"}).text.find('()')+1:][0:10].strip()\n",
    "Smart_phone"
   ]
  },
  {
   "cell_type": "code",
   "execution_count": 156,
   "id": "4ee052e2",
   "metadata": {},
   "outputs": [
    {
     "data": {
      "text/plain": [
       "'Google Pix'"
      ]
     },
     "execution_count": 156,
     "metadata": {},
     "output_type": "execute_result"
    }
   ],
   "source": [
    "Colour=item.find('div',{'class':\"_4rR01T\"}).text[item.find('div',{'class':\"_4rR01T\"}).text.find('()')+1:][0:10].strip()\n",
    "Colour"
   ]
  },
  {
   "cell_type": "code",
   "execution_count": 148,
   "id": "2d38044f",
   "metadata": {},
   "outputs": [
    {
     "data": {
      "text/plain": [
       "'6 GB RAM '"
      ]
     },
     "execution_count": 148,
     "metadata": {},
     "output_type": "execute_result"
    }
   ],
   "source": [
    "ram = item.find('li',{'class':\"rgWa7D\"}).text[0:item.find('li',{'class':\"rgWa7D\"}).text.find('|')]\n",
    "ram"
   ]
  },
  {
   "cell_type": "code",
   "execution_count": 158,
   "id": "f9f6a209",
   "metadata": {},
   "outputs": [
    {
     "data": {
      "text/plain": [
       "'128 GB RO'"
      ]
     },
     "execution_count": 158,
     "metadata": {},
     "output_type": "execute_result"
    }
   ],
   "source": [
    "storage = item.find('li',{'class':\"rgWa7D\"}).text[item.find('li',{'class':\"rgWa7D\"}).text.find('|')+1:][0:10].strip()\n",
    "storage"
   ]
  },
  {
   "cell_type": "code",
   "execution_count": 171,
   "id": "00cc3626",
   "metadata": {},
   "outputs": [
    {
     "data": {
      "text/plain": [
       "'12.2MP Rear Camera | 8MP Front Camera'"
      ]
     },
     "execution_count": 171,
     "metadata": {},
     "output_type": "execute_result"
    }
   ],
   "source": [
    "Primary_secondary_Camera=item.find_all('li')[2].text.strip()\n",
    "Primary_secondary_Camera"
   ]
  },
  {
   "cell_type": "code",
   "execution_count": 172,
   "id": "ffcbde36",
   "metadata": {},
   "outputs": [
    {
     "data": {
      "text/plain": [
       "'14.76 cm (5.81 inch) Full HD+ Display'"
      ]
     },
     "execution_count": 172,
     "metadata": {},
     "output_type": "execute_result"
    }
   ],
   "source": [
    "display = item.find_all('li')[1].text.strip()\n",
    "display"
   ]
  },
  {
   "cell_type": "code",
   "execution_count": 173,
   "id": "1d5a1e72",
   "metadata": {},
   "outputs": [
    {
     "data": {
      "text/plain": [
       "'3140 mAh Battery'"
      ]
     },
     "execution_count": 173,
     "metadata": {},
     "output_type": "execute_result"
    }
   ],
   "source": [
    "battery = item.find_all('li')[3].text\n",
    "battery"
   ]
  },
  {
   "cell_type": "code",
   "execution_count": null,
   "id": "82fcb042",
   "metadata": {},
   "outputs": [],
   "source": []
  }
 ],
 "metadata": {
  "kernelspec": {
   "display_name": "Python 3 (ipykernel)",
   "language": "python",
   "name": "python3"
  },
  "language_info": {
   "codemirror_mode": {
    "name": "ipython",
    "version": 3
   },
   "file_extension": ".py",
   "mimetype": "text/x-python",
   "name": "python",
   "nbconvert_exporter": "python",
   "pygments_lexer": "ipython3",
   "version": "3.9.7"
  }
 },
 "nbformat": 4,
 "nbformat_minor": 5
}
